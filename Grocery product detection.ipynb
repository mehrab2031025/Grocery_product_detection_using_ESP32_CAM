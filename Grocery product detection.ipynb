{
  "nbformat": 4,
  "nbformat_minor": 0,
  "metadata": {
    "colab": {
      "provenance": [],
      "collapsed_sections": [
        "SAj4GbgwxU5q"
      ]
    },
    "kernelspec": {
      "name": "python3",
      "display_name": "Python 3"
    },
    "language_info": {
      "name": "python"
    },
    "widgets": {
      "application/vnd.jupyter.widget-state+json": {
        "526cf27eecfe453e843170af1c03b097": {
          "model_module": "@jupyter-widgets/controls",
          "model_name": "HBoxModel",
          "model_module_version": "1.5.0",
          "state": {
            "_dom_classes": [],
            "_model_module": "@jupyter-widgets/controls",
            "_model_module_version": "1.5.0",
            "_model_name": "HBoxModel",
            "_view_count": null,
            "_view_module": "@jupyter-widgets/controls",
            "_view_module_version": "1.5.0",
            "_view_name": "HBoxView",
            "box_style": "",
            "children": [
              "IPY_MODEL_a26b6fbea2654608976a12f20cb61863",
              "IPY_MODEL_2f3bbba11766414cab6890e769e5c03c",
              "IPY_MODEL_c5d916c4eaf84aedb50f384fa59c4bc0"
            ],
            "layout": "IPY_MODEL_62af32129de744edbc1d65386751669a"
          }
        },
        "a26b6fbea2654608976a12f20cb61863": {
          "model_module": "@jupyter-widgets/controls",
          "model_name": "HTMLModel",
          "model_module_version": "1.5.0",
          "state": {
            "_dom_classes": [],
            "_model_module": "@jupyter-widgets/controls",
            "_model_module_version": "1.5.0",
            "_model_name": "HTMLModel",
            "_view_count": null,
            "_view_module": "@jupyter-widgets/controls",
            "_view_module_version": "1.5.0",
            "_view_name": "HTMLView",
            "description": "",
            "description_tooltip": null,
            "layout": "IPY_MODEL_5bb4871b4acf440685a2cb493ff02338",
            "placeholder": "​",
            "style": "IPY_MODEL_ad140a1632d140a9b51ffba36256e9f3",
            "value": "100%"
          }
        },
        "2f3bbba11766414cab6890e769e5c03c": {
          "model_module": "@jupyter-widgets/controls",
          "model_name": "FloatProgressModel",
          "model_module_version": "1.5.0",
          "state": {
            "_dom_classes": [],
            "_model_module": "@jupyter-widgets/controls",
            "_model_module_version": "1.5.0",
            "_model_name": "FloatProgressModel",
            "_view_count": null,
            "_view_module": "@jupyter-widgets/controls",
            "_view_module_version": "1.5.0",
            "_view_name": "ProgressView",
            "bar_style": "success",
            "description": "",
            "description_tooltip": null,
            "layout": "IPY_MODEL_e6f0c63764eb47e0a3860ebac9a0d844",
            "max": 10,
            "min": 0,
            "orientation": "horizontal",
            "style": "IPY_MODEL_17fd26880e2644f79ae2f53c2dbe3b8d",
            "value": 10
          }
        },
        "c5d916c4eaf84aedb50f384fa59c4bc0": {
          "model_module": "@jupyter-widgets/controls",
          "model_name": "HTMLModel",
          "model_module_version": "1.5.0",
          "state": {
            "_dom_classes": [],
            "_model_module": "@jupyter-widgets/controls",
            "_model_module_version": "1.5.0",
            "_model_name": "HTMLModel",
            "_view_count": null,
            "_view_module": "@jupyter-widgets/controls",
            "_view_module_version": "1.5.0",
            "_view_name": "HTMLView",
            "description": "",
            "description_tooltip": null,
            "layout": "IPY_MODEL_e02d174626454823a5b94532b07c0fda",
            "placeholder": "​",
            "style": "IPY_MODEL_eb613393296f4569a111aa02b571e1d7",
            "value": " 10/10 [16:47&lt;00:00, 92.97s/it]"
          }
        },
        "62af32129de744edbc1d65386751669a": {
          "model_module": "@jupyter-widgets/base",
          "model_name": "LayoutModel",
          "model_module_version": "1.2.0",
          "state": {
            "_model_module": "@jupyter-widgets/base",
            "_model_module_version": "1.2.0",
            "_model_name": "LayoutModel",
            "_view_count": null,
            "_view_module": "@jupyter-widgets/base",
            "_view_module_version": "1.2.0",
            "_view_name": "LayoutView",
            "align_content": null,
            "align_items": null,
            "align_self": null,
            "border": null,
            "bottom": null,
            "display": null,
            "flex": null,
            "flex_flow": null,
            "grid_area": null,
            "grid_auto_columns": null,
            "grid_auto_flow": null,
            "grid_auto_rows": null,
            "grid_column": null,
            "grid_gap": null,
            "grid_row": null,
            "grid_template_areas": null,
            "grid_template_columns": null,
            "grid_template_rows": null,
            "height": null,
            "justify_content": null,
            "justify_items": null,
            "left": null,
            "margin": null,
            "max_height": null,
            "max_width": null,
            "min_height": null,
            "min_width": null,
            "object_fit": null,
            "object_position": null,
            "order": null,
            "overflow": null,
            "overflow_x": null,
            "overflow_y": null,
            "padding": null,
            "right": null,
            "top": null,
            "visibility": null,
            "width": null
          }
        },
        "5bb4871b4acf440685a2cb493ff02338": {
          "model_module": "@jupyter-widgets/base",
          "model_name": "LayoutModel",
          "model_module_version": "1.2.0",
          "state": {
            "_model_module": "@jupyter-widgets/base",
            "_model_module_version": "1.2.0",
            "_model_name": "LayoutModel",
            "_view_count": null,
            "_view_module": "@jupyter-widgets/base",
            "_view_module_version": "1.2.0",
            "_view_name": "LayoutView",
            "align_content": null,
            "align_items": null,
            "align_self": null,
            "border": null,
            "bottom": null,
            "display": null,
            "flex": null,
            "flex_flow": null,
            "grid_area": null,
            "grid_auto_columns": null,
            "grid_auto_flow": null,
            "grid_auto_rows": null,
            "grid_column": null,
            "grid_gap": null,
            "grid_row": null,
            "grid_template_areas": null,
            "grid_template_columns": null,
            "grid_template_rows": null,
            "height": null,
            "justify_content": null,
            "justify_items": null,
            "left": null,
            "margin": null,
            "max_height": null,
            "max_width": null,
            "min_height": null,
            "min_width": null,
            "object_fit": null,
            "object_position": null,
            "order": null,
            "overflow": null,
            "overflow_x": null,
            "overflow_y": null,
            "padding": null,
            "right": null,
            "top": null,
            "visibility": null,
            "width": null
          }
        },
        "ad140a1632d140a9b51ffba36256e9f3": {
          "model_module": "@jupyter-widgets/controls",
          "model_name": "DescriptionStyleModel",
          "model_module_version": "1.5.0",
          "state": {
            "_model_module": "@jupyter-widgets/controls",
            "_model_module_version": "1.5.0",
            "_model_name": "DescriptionStyleModel",
            "_view_count": null,
            "_view_module": "@jupyter-widgets/base",
            "_view_module_version": "1.2.0",
            "_view_name": "StyleView",
            "description_width": ""
          }
        },
        "e6f0c63764eb47e0a3860ebac9a0d844": {
          "model_module": "@jupyter-widgets/base",
          "model_name": "LayoutModel",
          "model_module_version": "1.2.0",
          "state": {
            "_model_module": "@jupyter-widgets/base",
            "_model_module_version": "1.2.0",
            "_model_name": "LayoutModel",
            "_view_count": null,
            "_view_module": "@jupyter-widgets/base",
            "_view_module_version": "1.2.0",
            "_view_name": "LayoutView",
            "align_content": null,
            "align_items": null,
            "align_self": null,
            "border": null,
            "bottom": null,
            "display": null,
            "flex": null,
            "flex_flow": null,
            "grid_area": null,
            "grid_auto_columns": null,
            "grid_auto_flow": null,
            "grid_auto_rows": null,
            "grid_column": null,
            "grid_gap": null,
            "grid_row": null,
            "grid_template_areas": null,
            "grid_template_columns": null,
            "grid_template_rows": null,
            "height": null,
            "justify_content": null,
            "justify_items": null,
            "left": null,
            "margin": null,
            "max_height": null,
            "max_width": null,
            "min_height": null,
            "min_width": null,
            "object_fit": null,
            "object_position": null,
            "order": null,
            "overflow": null,
            "overflow_x": null,
            "overflow_y": null,
            "padding": null,
            "right": null,
            "top": null,
            "visibility": null,
            "width": null
          }
        },
        "17fd26880e2644f79ae2f53c2dbe3b8d": {
          "model_module": "@jupyter-widgets/controls",
          "model_name": "ProgressStyleModel",
          "model_module_version": "1.5.0",
          "state": {
            "_model_module": "@jupyter-widgets/controls",
            "_model_module_version": "1.5.0",
            "_model_name": "ProgressStyleModel",
            "_view_count": null,
            "_view_module": "@jupyter-widgets/base",
            "_view_module_version": "1.2.0",
            "_view_name": "StyleView",
            "bar_color": null,
            "description_width": ""
          }
        },
        "e02d174626454823a5b94532b07c0fda": {
          "model_module": "@jupyter-widgets/base",
          "model_name": "LayoutModel",
          "model_module_version": "1.2.0",
          "state": {
            "_model_module": "@jupyter-widgets/base",
            "_model_module_version": "1.2.0",
            "_model_name": "LayoutModel",
            "_view_count": null,
            "_view_module": "@jupyter-widgets/base",
            "_view_module_version": "1.2.0",
            "_view_name": "LayoutView",
            "align_content": null,
            "align_items": null,
            "align_self": null,
            "border": null,
            "bottom": null,
            "display": null,
            "flex": null,
            "flex_flow": null,
            "grid_area": null,
            "grid_auto_columns": null,
            "grid_auto_flow": null,
            "grid_auto_rows": null,
            "grid_column": null,
            "grid_gap": null,
            "grid_row": null,
            "grid_template_areas": null,
            "grid_template_columns": null,
            "grid_template_rows": null,
            "height": null,
            "justify_content": null,
            "justify_items": null,
            "left": null,
            "margin": null,
            "max_height": null,
            "max_width": null,
            "min_height": null,
            "min_width": null,
            "object_fit": null,
            "object_position": null,
            "order": null,
            "overflow": null,
            "overflow_x": null,
            "overflow_y": null,
            "padding": null,
            "right": null,
            "top": null,
            "visibility": null,
            "width": null
          }
        },
        "eb613393296f4569a111aa02b571e1d7": {
          "model_module": "@jupyter-widgets/controls",
          "model_name": "DescriptionStyleModel",
          "model_module_version": "1.5.0",
          "state": {
            "_model_module": "@jupyter-widgets/controls",
            "_model_module_version": "1.5.0",
            "_model_name": "DescriptionStyleModel",
            "_view_count": null,
            "_view_module": "@jupyter-widgets/base",
            "_view_module_version": "1.2.0",
            "_view_name": "StyleView",
            "description_width": ""
          }
        },
        "575c952b5ffd478ab0ce2ddb2bab46f5": {
          "model_module": "@jupyter-widgets/controls",
          "model_name": "HBoxModel",
          "model_module_version": "1.5.0",
          "state": {
            "_dom_classes": [],
            "_model_module": "@jupyter-widgets/controls",
            "_model_module_version": "1.5.0",
            "_model_name": "HBoxModel",
            "_view_count": null,
            "_view_module": "@jupyter-widgets/controls",
            "_view_module_version": "1.5.0",
            "_view_name": "HBoxView",
            "box_style": "",
            "children": [
              "IPY_MODEL_bcb1211367e34005b327652689ef6c22",
              "IPY_MODEL_04ff192fb74a479bbbab7f2a31bb7b18",
              "IPY_MODEL_04bdae0cc7f446d6b6fc3db68cb37825"
            ],
            "layout": "IPY_MODEL_5c06b735c1794e4da503fece27fda9a6"
          }
        },
        "bcb1211367e34005b327652689ef6c22": {
          "model_module": "@jupyter-widgets/controls",
          "model_name": "HTMLModel",
          "model_module_version": "1.5.0",
          "state": {
            "_dom_classes": [],
            "_model_module": "@jupyter-widgets/controls",
            "_model_module_version": "1.5.0",
            "_model_name": "HTMLModel",
            "_view_count": null,
            "_view_module": "@jupyter-widgets/controls",
            "_view_module_version": "1.5.0",
            "_view_name": "HTMLView",
            "description": "",
            "description_tooltip": null,
            "layout": "IPY_MODEL_e405e759f3694781a51aa83d7f50917c",
            "placeholder": "​",
            "style": "IPY_MODEL_a3141983dcae4f2cb1aa5b8007255f42",
            "value": "Making predictions: 100%"
          }
        },
        "04ff192fb74a479bbbab7f2a31bb7b18": {
          "model_module": "@jupyter-widgets/controls",
          "model_name": "FloatProgressModel",
          "model_module_version": "1.5.0",
          "state": {
            "_dom_classes": [],
            "_model_module": "@jupyter-widgets/controls",
            "_model_module_version": "1.5.0",
            "_model_name": "FloatProgressModel",
            "_view_count": null,
            "_view_module": "@jupyter-widgets/controls",
            "_view_module_version": "1.5.0",
            "_view_name": "ProgressView",
            "bar_style": "success",
            "description": "",
            "description_tooltip": null,
            "layout": "IPY_MODEL_6fb13265794244be9383cba272f4d494",
            "max": 4,
            "min": 0,
            "orientation": "horizontal",
            "style": "IPY_MODEL_a97c3f29a9034d0485d791defcc8bbed",
            "value": 4
          }
        },
        "04bdae0cc7f446d6b6fc3db68cb37825": {
          "model_module": "@jupyter-widgets/controls",
          "model_name": "HTMLModel",
          "model_module_version": "1.5.0",
          "state": {
            "_dom_classes": [],
            "_model_module": "@jupyter-widgets/controls",
            "_model_module_version": "1.5.0",
            "_model_name": "HTMLModel",
            "_view_count": null,
            "_view_module": "@jupyter-widgets/controls",
            "_view_module_version": "1.5.0",
            "_view_name": "HTMLView",
            "description": "",
            "description_tooltip": null,
            "layout": "IPY_MODEL_dd9cce7cef2d4e35bb931cd726d25782",
            "placeholder": "​",
            "style": "IPY_MODEL_c4b999768b7647c0ba74d031e2e8e2f1",
            "value": " 4/4 [00:12&lt;00:00,  2.17s/it]"
          }
        },
        "5c06b735c1794e4da503fece27fda9a6": {
          "model_module": "@jupyter-widgets/base",
          "model_name": "LayoutModel",
          "model_module_version": "1.2.0",
          "state": {
            "_model_module": "@jupyter-widgets/base",
            "_model_module_version": "1.2.0",
            "_model_name": "LayoutModel",
            "_view_count": null,
            "_view_module": "@jupyter-widgets/base",
            "_view_module_version": "1.2.0",
            "_view_name": "LayoutView",
            "align_content": null,
            "align_items": null,
            "align_self": null,
            "border": null,
            "bottom": null,
            "display": null,
            "flex": null,
            "flex_flow": null,
            "grid_area": null,
            "grid_auto_columns": null,
            "grid_auto_flow": null,
            "grid_auto_rows": null,
            "grid_column": null,
            "grid_gap": null,
            "grid_row": null,
            "grid_template_areas": null,
            "grid_template_columns": null,
            "grid_template_rows": null,
            "height": null,
            "justify_content": null,
            "justify_items": null,
            "left": null,
            "margin": null,
            "max_height": null,
            "max_width": null,
            "min_height": null,
            "min_width": null,
            "object_fit": null,
            "object_position": null,
            "order": null,
            "overflow": null,
            "overflow_x": null,
            "overflow_y": null,
            "padding": null,
            "right": null,
            "top": null,
            "visibility": null,
            "width": null
          }
        },
        "e405e759f3694781a51aa83d7f50917c": {
          "model_module": "@jupyter-widgets/base",
          "model_name": "LayoutModel",
          "model_module_version": "1.2.0",
          "state": {
            "_model_module": "@jupyter-widgets/base",
            "_model_module_version": "1.2.0",
            "_model_name": "LayoutModel",
            "_view_count": null,
            "_view_module": "@jupyter-widgets/base",
            "_view_module_version": "1.2.0",
            "_view_name": "LayoutView",
            "align_content": null,
            "align_items": null,
            "align_self": null,
            "border": null,
            "bottom": null,
            "display": null,
            "flex": null,
            "flex_flow": null,
            "grid_area": null,
            "grid_auto_columns": null,
            "grid_auto_flow": null,
            "grid_auto_rows": null,
            "grid_column": null,
            "grid_gap": null,
            "grid_row": null,
            "grid_template_areas": null,
            "grid_template_columns": null,
            "grid_template_rows": null,
            "height": null,
            "justify_content": null,
            "justify_items": null,
            "left": null,
            "margin": null,
            "max_height": null,
            "max_width": null,
            "min_height": null,
            "min_width": null,
            "object_fit": null,
            "object_position": null,
            "order": null,
            "overflow": null,
            "overflow_x": null,
            "overflow_y": null,
            "padding": null,
            "right": null,
            "top": null,
            "visibility": null,
            "width": null
          }
        },
        "a3141983dcae4f2cb1aa5b8007255f42": {
          "model_module": "@jupyter-widgets/controls",
          "model_name": "DescriptionStyleModel",
          "model_module_version": "1.5.0",
          "state": {
            "_model_module": "@jupyter-widgets/controls",
            "_model_module_version": "1.5.0",
            "_model_name": "DescriptionStyleModel",
            "_view_count": null,
            "_view_module": "@jupyter-widgets/base",
            "_view_module_version": "1.2.0",
            "_view_name": "StyleView",
            "description_width": ""
          }
        },
        "6fb13265794244be9383cba272f4d494": {
          "model_module": "@jupyter-widgets/base",
          "model_name": "LayoutModel",
          "model_module_version": "1.2.0",
          "state": {
            "_model_module": "@jupyter-widgets/base",
            "_model_module_version": "1.2.0",
            "_model_name": "LayoutModel",
            "_view_count": null,
            "_view_module": "@jupyter-widgets/base",
            "_view_module_version": "1.2.0",
            "_view_name": "LayoutView",
            "align_content": null,
            "align_items": null,
            "align_self": null,
            "border": null,
            "bottom": null,
            "display": null,
            "flex": null,
            "flex_flow": null,
            "grid_area": null,
            "grid_auto_columns": null,
            "grid_auto_flow": null,
            "grid_auto_rows": null,
            "grid_column": null,
            "grid_gap": null,
            "grid_row": null,
            "grid_template_areas": null,
            "grid_template_columns": null,
            "grid_template_rows": null,
            "height": null,
            "justify_content": null,
            "justify_items": null,
            "left": null,
            "margin": null,
            "max_height": null,
            "max_width": null,
            "min_height": null,
            "min_width": null,
            "object_fit": null,
            "object_position": null,
            "order": null,
            "overflow": null,
            "overflow_x": null,
            "overflow_y": null,
            "padding": null,
            "right": null,
            "top": null,
            "visibility": null,
            "width": null
          }
        },
        "a97c3f29a9034d0485d791defcc8bbed": {
          "model_module": "@jupyter-widgets/controls",
          "model_name": "ProgressStyleModel",
          "model_module_version": "1.5.0",
          "state": {
            "_model_module": "@jupyter-widgets/controls",
            "_model_module_version": "1.5.0",
            "_model_name": "ProgressStyleModel",
            "_view_count": null,
            "_view_module": "@jupyter-widgets/base",
            "_view_module_version": "1.2.0",
            "_view_name": "StyleView",
            "bar_color": null,
            "description_width": ""
          }
        },
        "dd9cce7cef2d4e35bb931cd726d25782": {
          "model_module": "@jupyter-widgets/base",
          "model_name": "LayoutModel",
          "model_module_version": "1.2.0",
          "state": {
            "_model_module": "@jupyter-widgets/base",
            "_model_module_version": "1.2.0",
            "_model_name": "LayoutModel",
            "_view_count": null,
            "_view_module": "@jupyter-widgets/base",
            "_view_module_version": "1.2.0",
            "_view_name": "LayoutView",
            "align_content": null,
            "align_items": null,
            "align_self": null,
            "border": null,
            "bottom": null,
            "display": null,
            "flex": null,
            "flex_flow": null,
            "grid_area": null,
            "grid_auto_columns": null,
            "grid_auto_flow": null,
            "grid_auto_rows": null,
            "grid_column": null,
            "grid_gap": null,
            "grid_row": null,
            "grid_template_areas": null,
            "grid_template_columns": null,
            "grid_template_rows": null,
            "height": null,
            "justify_content": null,
            "justify_items": null,
            "left": null,
            "margin": null,
            "max_height": null,
            "max_width": null,
            "min_height": null,
            "min_width": null,
            "object_fit": null,
            "object_position": null,
            "order": null,
            "overflow": null,
            "overflow_x": null,
            "overflow_y": null,
            "padding": null,
            "right": null,
            "top": null,
            "visibility": null,
            "width": null
          }
        },
        "c4b999768b7647c0ba74d031e2e8e2f1": {
          "model_module": "@jupyter-widgets/controls",
          "model_name": "DescriptionStyleModel",
          "model_module_version": "1.5.0",
          "state": {
            "_model_module": "@jupyter-widgets/controls",
            "_model_module_version": "1.5.0",
            "_model_name": "DescriptionStyleModel",
            "_view_count": null,
            "_view_module": "@jupyter-widgets/base",
            "_view_module_version": "1.2.0",
            "_view_name": "StyleView",
            "description_width": ""
          }
        },
        "a72f66b146244f4fb9894ca09c7fbf63": {
          "model_module": "@jupyter-widgets/controls",
          "model_name": "HBoxModel",
          "model_module_version": "1.5.0",
          "state": {
            "_dom_classes": [],
            "_model_module": "@jupyter-widgets/controls",
            "_model_module_version": "1.5.0",
            "_model_name": "HBoxModel",
            "_view_count": null,
            "_view_module": "@jupyter-widgets/controls",
            "_view_module_version": "1.5.0",
            "_view_name": "HBoxView",
            "box_style": "",
            "children": [
              "IPY_MODEL_ae5b7af7db474da4a6bf576764288fbd",
              "IPY_MODEL_8d0b8bf702094ca3b8b2439d7d6622e8",
              "IPY_MODEL_69c3705a1c3a401f9b314c03f6214110"
            ],
            "layout": "IPY_MODEL_44943a6fc7254263bc717293b56afb4b"
          }
        },
        "ae5b7af7db474da4a6bf576764288fbd": {
          "model_module": "@jupyter-widgets/controls",
          "model_name": "HTMLModel",
          "model_module_version": "1.5.0",
          "state": {
            "_dom_classes": [],
            "_model_module": "@jupyter-widgets/controls",
            "_model_module_version": "1.5.0",
            "_model_name": "HTMLModel",
            "_view_count": null,
            "_view_module": "@jupyter-widgets/controls",
            "_view_module_version": "1.5.0",
            "_view_name": "HTMLView",
            "description": "",
            "description_tooltip": null,
            "layout": "IPY_MODEL_97f2ed0713a246c18a2febaffc806dfd",
            "placeholder": "​",
            "style": "IPY_MODEL_58d1dc33a7094f09a435fa03a95562a6",
            "value": "100%"
          }
        },
        "8d0b8bf702094ca3b8b2439d7d6622e8": {
          "model_module": "@jupyter-widgets/controls",
          "model_name": "FloatProgressModel",
          "model_module_version": "1.5.0",
          "state": {
            "_dom_classes": [],
            "_model_module": "@jupyter-widgets/controls",
            "_model_module_version": "1.5.0",
            "_model_name": "FloatProgressModel",
            "_view_count": null,
            "_view_module": "@jupyter-widgets/controls",
            "_view_module_version": "1.5.0",
            "_view_name": "ProgressView",
            "bar_style": "success",
            "description": "",
            "description_tooltip": null,
            "layout": "IPY_MODEL_17577d831e1040afbfeb69bdc9ded305",
            "max": 10,
            "min": 0,
            "orientation": "horizontal",
            "style": "IPY_MODEL_e5923163ba6c49fba7d07407f93cb305",
            "value": 10
          }
        },
        "69c3705a1c3a401f9b314c03f6214110": {
          "model_module": "@jupyter-widgets/controls",
          "model_name": "HTMLModel",
          "model_module_version": "1.5.0",
          "state": {
            "_dom_classes": [],
            "_model_module": "@jupyter-widgets/controls",
            "_model_module_version": "1.5.0",
            "_model_name": "HTMLModel",
            "_view_count": null,
            "_view_module": "@jupyter-widgets/controls",
            "_view_module_version": "1.5.0",
            "_view_name": "HTMLView",
            "description": "",
            "description_tooltip": null,
            "layout": "IPY_MODEL_6cb95717eef54ace8ab0fb661281af21",
            "placeholder": "​",
            "style": "IPY_MODEL_bbf9cf0ee64a43f0a1aa8fe2437a1b1c",
            "value": " 10/10 [14:52&lt;00:00, 89.09s/it]"
          }
        },
        "44943a6fc7254263bc717293b56afb4b": {
          "model_module": "@jupyter-widgets/base",
          "model_name": "LayoutModel",
          "model_module_version": "1.2.0",
          "state": {
            "_model_module": "@jupyter-widgets/base",
            "_model_module_version": "1.2.0",
            "_model_name": "LayoutModel",
            "_view_count": null,
            "_view_module": "@jupyter-widgets/base",
            "_view_module_version": "1.2.0",
            "_view_name": "LayoutView",
            "align_content": null,
            "align_items": null,
            "align_self": null,
            "border": null,
            "bottom": null,
            "display": null,
            "flex": null,
            "flex_flow": null,
            "grid_area": null,
            "grid_auto_columns": null,
            "grid_auto_flow": null,
            "grid_auto_rows": null,
            "grid_column": null,
            "grid_gap": null,
            "grid_row": null,
            "grid_template_areas": null,
            "grid_template_columns": null,
            "grid_template_rows": null,
            "height": null,
            "justify_content": null,
            "justify_items": null,
            "left": null,
            "margin": null,
            "max_height": null,
            "max_width": null,
            "min_height": null,
            "min_width": null,
            "object_fit": null,
            "object_position": null,
            "order": null,
            "overflow": null,
            "overflow_x": null,
            "overflow_y": null,
            "padding": null,
            "right": null,
            "top": null,
            "visibility": null,
            "width": null
          }
        },
        "97f2ed0713a246c18a2febaffc806dfd": {
          "model_module": "@jupyter-widgets/base",
          "model_name": "LayoutModel",
          "model_module_version": "1.2.0",
          "state": {
            "_model_module": "@jupyter-widgets/base",
            "_model_module_version": "1.2.0",
            "_model_name": "LayoutModel",
            "_view_count": null,
            "_view_module": "@jupyter-widgets/base",
            "_view_module_version": "1.2.0",
            "_view_name": "LayoutView",
            "align_content": null,
            "align_items": null,
            "align_self": null,
            "border": null,
            "bottom": null,
            "display": null,
            "flex": null,
            "flex_flow": null,
            "grid_area": null,
            "grid_auto_columns": null,
            "grid_auto_flow": null,
            "grid_auto_rows": null,
            "grid_column": null,
            "grid_gap": null,
            "grid_row": null,
            "grid_template_areas": null,
            "grid_template_columns": null,
            "grid_template_rows": null,
            "height": null,
            "justify_content": null,
            "justify_items": null,
            "left": null,
            "margin": null,
            "max_height": null,
            "max_width": null,
            "min_height": null,
            "min_width": null,
            "object_fit": null,
            "object_position": null,
            "order": null,
            "overflow": null,
            "overflow_x": null,
            "overflow_y": null,
            "padding": null,
            "right": null,
            "top": null,
            "visibility": null,
            "width": null
          }
        },
        "58d1dc33a7094f09a435fa03a95562a6": {
          "model_module": "@jupyter-widgets/controls",
          "model_name": "DescriptionStyleModel",
          "model_module_version": "1.5.0",
          "state": {
            "_model_module": "@jupyter-widgets/controls",
            "_model_module_version": "1.5.0",
            "_model_name": "DescriptionStyleModel",
            "_view_count": null,
            "_view_module": "@jupyter-widgets/base",
            "_view_module_version": "1.2.0",
            "_view_name": "StyleView",
            "description_width": ""
          }
        },
        "17577d831e1040afbfeb69bdc9ded305": {
          "model_module": "@jupyter-widgets/base",
          "model_name": "LayoutModel",
          "model_module_version": "1.2.0",
          "state": {
            "_model_module": "@jupyter-widgets/base",
            "_model_module_version": "1.2.0",
            "_model_name": "LayoutModel",
            "_view_count": null,
            "_view_module": "@jupyter-widgets/base",
            "_view_module_version": "1.2.0",
            "_view_name": "LayoutView",
            "align_content": null,
            "align_items": null,
            "align_self": null,
            "border": null,
            "bottom": null,
            "display": null,
            "flex": null,
            "flex_flow": null,
            "grid_area": null,
            "grid_auto_columns": null,
            "grid_auto_flow": null,
            "grid_auto_rows": null,
            "grid_column": null,
            "grid_gap": null,
            "grid_row": null,
            "grid_template_areas": null,
            "grid_template_columns": null,
            "grid_template_rows": null,
            "height": null,
            "justify_content": null,
            "justify_items": null,
            "left": null,
            "margin": null,
            "max_height": null,
            "max_width": null,
            "min_height": null,
            "min_width": null,
            "object_fit": null,
            "object_position": null,
            "order": null,
            "overflow": null,
            "overflow_x": null,
            "overflow_y": null,
            "padding": null,
            "right": null,
            "top": null,
            "visibility": null,
            "width": null
          }
        },
        "e5923163ba6c49fba7d07407f93cb305": {
          "model_module": "@jupyter-widgets/controls",
          "model_name": "ProgressStyleModel",
          "model_module_version": "1.5.0",
          "state": {
            "_model_module": "@jupyter-widgets/controls",
            "_model_module_version": "1.5.0",
            "_model_name": "ProgressStyleModel",
            "_view_count": null,
            "_view_module": "@jupyter-widgets/base",
            "_view_module_version": "1.2.0",
            "_view_name": "StyleView",
            "bar_color": null,
            "description_width": ""
          }
        },
        "6cb95717eef54ace8ab0fb661281af21": {
          "model_module": "@jupyter-widgets/base",
          "model_name": "LayoutModel",
          "model_module_version": "1.2.0",
          "state": {
            "_model_module": "@jupyter-widgets/base",
            "_model_module_version": "1.2.0",
            "_model_name": "LayoutModel",
            "_view_count": null,
            "_view_module": "@jupyter-widgets/base",
            "_view_module_version": "1.2.0",
            "_view_name": "LayoutView",
            "align_content": null,
            "align_items": null,
            "align_self": null,
            "border": null,
            "bottom": null,
            "display": null,
            "flex": null,
            "flex_flow": null,
            "grid_area": null,
            "grid_auto_columns": null,
            "grid_auto_flow": null,
            "grid_auto_rows": null,
            "grid_column": null,
            "grid_gap": null,
            "grid_row": null,
            "grid_template_areas": null,
            "grid_template_columns": null,
            "grid_template_rows": null,
            "height": null,
            "justify_content": null,
            "justify_items": null,
            "left": null,
            "margin": null,
            "max_height": null,
            "max_width": null,
            "min_height": null,
            "min_width": null,
            "object_fit": null,
            "object_position": null,
            "order": null,
            "overflow": null,
            "overflow_x": null,
            "overflow_y": null,
            "padding": null,
            "right": null,
            "top": null,
            "visibility": null,
            "width": null
          }
        },
        "bbf9cf0ee64a43f0a1aa8fe2437a1b1c": {
          "model_module": "@jupyter-widgets/controls",
          "model_name": "DescriptionStyleModel",
          "model_module_version": "1.5.0",
          "state": {
            "_model_module": "@jupyter-widgets/controls",
            "_model_module_version": "1.5.0",
            "_model_name": "DescriptionStyleModel",
            "_view_count": null,
            "_view_module": "@jupyter-widgets/base",
            "_view_module_version": "1.2.0",
            "_view_name": "StyleView",
            "description_width": ""
          }
        },
        "a18ba562d42345de883b7761a0abb4a6": {
          "model_module": "@jupyter-widgets/controls",
          "model_name": "HBoxModel",
          "model_module_version": "1.5.0",
          "state": {
            "_dom_classes": [],
            "_model_module": "@jupyter-widgets/controls",
            "_model_module_version": "1.5.0",
            "_model_name": "HBoxModel",
            "_view_count": null,
            "_view_module": "@jupyter-widgets/controls",
            "_view_module_version": "1.5.0",
            "_view_name": "HBoxView",
            "box_style": "",
            "children": [
              "IPY_MODEL_8c01e87c3de145adaf543d1dd48a7e9b",
              "IPY_MODEL_1bd4a8d8a06b4b219c0a74e7f95a7f0b",
              "IPY_MODEL_bcc2c181e8ab407a8f94e88d1bea2fc2"
            ],
            "layout": "IPY_MODEL_a6ae30312ffa4d7b851976bdf1947cd4"
          }
        },
        "8c01e87c3de145adaf543d1dd48a7e9b": {
          "model_module": "@jupyter-widgets/controls",
          "model_name": "HTMLModel",
          "model_module_version": "1.5.0",
          "state": {
            "_dom_classes": [],
            "_model_module": "@jupyter-widgets/controls",
            "_model_module_version": "1.5.0",
            "_model_name": "HTMLModel",
            "_view_count": null,
            "_view_module": "@jupyter-widgets/controls",
            "_view_module_version": "1.5.0",
            "_view_name": "HTMLView",
            "description": "",
            "description_tooltip": null,
            "layout": "IPY_MODEL_d097c419e2d64ff3994e60991cb2fc37",
            "placeholder": "​",
            "style": "IPY_MODEL_23d891e77e3f4998b38934eccc38f1da",
            "value": "Making predictions: 100%"
          }
        },
        "1bd4a8d8a06b4b219c0a74e7f95a7f0b": {
          "model_module": "@jupyter-widgets/controls",
          "model_name": "FloatProgressModel",
          "model_module_version": "1.5.0",
          "state": {
            "_dom_classes": [],
            "_model_module": "@jupyter-widgets/controls",
            "_model_module_version": "1.5.0",
            "_model_name": "FloatProgressModel",
            "_view_count": null,
            "_view_module": "@jupyter-widgets/controls",
            "_view_module_version": "1.5.0",
            "_view_name": "ProgressView",
            "bar_style": "success",
            "description": "",
            "description_tooltip": null,
            "layout": "IPY_MODEL_9b454008f6144a4f8293884c1f26e795",
            "max": 4,
            "min": 0,
            "orientation": "horizontal",
            "style": "IPY_MODEL_0893db665c404892a91e5eee572dfcea",
            "value": 4
          }
        },
        "bcc2c181e8ab407a8f94e88d1bea2fc2": {
          "model_module": "@jupyter-widgets/controls",
          "model_name": "HTMLModel",
          "model_module_version": "1.5.0",
          "state": {
            "_dom_classes": [],
            "_model_module": "@jupyter-widgets/controls",
            "_model_module_version": "1.5.0",
            "_model_name": "HTMLModel",
            "_view_count": null,
            "_view_module": "@jupyter-widgets/controls",
            "_view_module_version": "1.5.0",
            "_view_name": "HTMLView",
            "description": "",
            "description_tooltip": null,
            "layout": "IPY_MODEL_a3f90b71fa2c4184abfa593c5385a844",
            "placeholder": "​",
            "style": "IPY_MODEL_55d5968073b5491092ee7db275fa8ed8",
            "value": " 4/4 [00:07&lt;00:00,  1.42s/it]"
          }
        },
        "a6ae30312ffa4d7b851976bdf1947cd4": {
          "model_module": "@jupyter-widgets/base",
          "model_name": "LayoutModel",
          "model_module_version": "1.2.0",
          "state": {
            "_model_module": "@jupyter-widgets/base",
            "_model_module_version": "1.2.0",
            "_model_name": "LayoutModel",
            "_view_count": null,
            "_view_module": "@jupyter-widgets/base",
            "_view_module_version": "1.2.0",
            "_view_name": "LayoutView",
            "align_content": null,
            "align_items": null,
            "align_self": null,
            "border": null,
            "bottom": null,
            "display": null,
            "flex": null,
            "flex_flow": null,
            "grid_area": null,
            "grid_auto_columns": null,
            "grid_auto_flow": null,
            "grid_auto_rows": null,
            "grid_column": null,
            "grid_gap": null,
            "grid_row": null,
            "grid_template_areas": null,
            "grid_template_columns": null,
            "grid_template_rows": null,
            "height": null,
            "justify_content": null,
            "justify_items": null,
            "left": null,
            "margin": null,
            "max_height": null,
            "max_width": null,
            "min_height": null,
            "min_width": null,
            "object_fit": null,
            "object_position": null,
            "order": null,
            "overflow": null,
            "overflow_x": null,
            "overflow_y": null,
            "padding": null,
            "right": null,
            "top": null,
            "visibility": null,
            "width": null
          }
        },
        "d097c419e2d64ff3994e60991cb2fc37": {
          "model_module": "@jupyter-widgets/base",
          "model_name": "LayoutModel",
          "model_module_version": "1.2.0",
          "state": {
            "_model_module": "@jupyter-widgets/base",
            "_model_module_version": "1.2.0",
            "_model_name": "LayoutModel",
            "_view_count": null,
            "_view_module": "@jupyter-widgets/base",
            "_view_module_version": "1.2.0",
            "_view_name": "LayoutView",
            "align_content": null,
            "align_items": null,
            "align_self": null,
            "border": null,
            "bottom": null,
            "display": null,
            "flex": null,
            "flex_flow": null,
            "grid_area": null,
            "grid_auto_columns": null,
            "grid_auto_flow": null,
            "grid_auto_rows": null,
            "grid_column": null,
            "grid_gap": null,
            "grid_row": null,
            "grid_template_areas": null,
            "grid_template_columns": null,
            "grid_template_rows": null,
            "height": null,
            "justify_content": null,
            "justify_items": null,
            "left": null,
            "margin": null,
            "max_height": null,
            "max_width": null,
            "min_height": null,
            "min_width": null,
            "object_fit": null,
            "object_position": null,
            "order": null,
            "overflow": null,
            "overflow_x": null,
            "overflow_y": null,
            "padding": null,
            "right": null,
            "top": null,
            "visibility": null,
            "width": null
          }
        },
        "23d891e77e3f4998b38934eccc38f1da": {
          "model_module": "@jupyter-widgets/controls",
          "model_name": "DescriptionStyleModel",
          "model_module_version": "1.5.0",
          "state": {
            "_model_module": "@jupyter-widgets/controls",
            "_model_module_version": "1.5.0",
            "_model_name": "DescriptionStyleModel",
            "_view_count": null,
            "_view_module": "@jupyter-widgets/base",
            "_view_module_version": "1.2.0",
            "_view_name": "StyleView",
            "description_width": ""
          }
        },
        "9b454008f6144a4f8293884c1f26e795": {
          "model_module": "@jupyter-widgets/base",
          "model_name": "LayoutModel",
          "model_module_version": "1.2.0",
          "state": {
            "_model_module": "@jupyter-widgets/base",
            "_model_module_version": "1.2.0",
            "_model_name": "LayoutModel",
            "_view_count": null,
            "_view_module": "@jupyter-widgets/base",
            "_view_module_version": "1.2.0",
            "_view_name": "LayoutView",
            "align_content": null,
            "align_items": null,
            "align_self": null,
            "border": null,
            "bottom": null,
            "display": null,
            "flex": null,
            "flex_flow": null,
            "grid_area": null,
            "grid_auto_columns": null,
            "grid_auto_flow": null,
            "grid_auto_rows": null,
            "grid_column": null,
            "grid_gap": null,
            "grid_row": null,
            "grid_template_areas": null,
            "grid_template_columns": null,
            "grid_template_rows": null,
            "height": null,
            "justify_content": null,
            "justify_items": null,
            "left": null,
            "margin": null,
            "max_height": null,
            "max_width": null,
            "min_height": null,
            "min_width": null,
            "object_fit": null,
            "object_position": null,
            "order": null,
            "overflow": null,
            "overflow_x": null,
            "overflow_y": null,
            "padding": null,
            "right": null,
            "top": null,
            "visibility": null,
            "width": null
          }
        },
        "0893db665c404892a91e5eee572dfcea": {
          "model_module": "@jupyter-widgets/controls",
          "model_name": "ProgressStyleModel",
          "model_module_version": "1.5.0",
          "state": {
            "_model_module": "@jupyter-widgets/controls",
            "_model_module_version": "1.5.0",
            "_model_name": "ProgressStyleModel",
            "_view_count": null,
            "_view_module": "@jupyter-widgets/base",
            "_view_module_version": "1.2.0",
            "_view_name": "StyleView",
            "bar_color": null,
            "description_width": ""
          }
        },
        "a3f90b71fa2c4184abfa593c5385a844": {
          "model_module": "@jupyter-widgets/base",
          "model_name": "LayoutModel",
          "model_module_version": "1.2.0",
          "state": {
            "_model_module": "@jupyter-widgets/base",
            "_model_module_version": "1.2.0",
            "_model_name": "LayoutModel",
            "_view_count": null,
            "_view_module": "@jupyter-widgets/base",
            "_view_module_version": "1.2.0",
            "_view_name": "LayoutView",
            "align_content": null,
            "align_items": null,
            "align_self": null,
            "border": null,
            "bottom": null,
            "display": null,
            "flex": null,
            "flex_flow": null,
            "grid_area": null,
            "grid_auto_columns": null,
            "grid_auto_flow": null,
            "grid_auto_rows": null,
            "grid_column": null,
            "grid_gap": null,
            "grid_row": null,
            "grid_template_areas": null,
            "grid_template_columns": null,
            "grid_template_rows": null,
            "height": null,
            "justify_content": null,
            "justify_items": null,
            "left": null,
            "margin": null,
            "max_height": null,
            "max_width": null,
            "min_height": null,
            "min_width": null,
            "object_fit": null,
            "object_position": null,
            "order": null,
            "overflow": null,
            "overflow_x": null,
            "overflow_y": null,
            "padding": null,
            "right": null,
            "top": null,
            "visibility": null,
            "width": null
          }
        },
        "55d5968073b5491092ee7db275fa8ed8": {
          "model_module": "@jupyter-widgets/controls",
          "model_name": "DescriptionStyleModel",
          "model_module_version": "1.5.0",
          "state": {
            "_model_module": "@jupyter-widgets/controls",
            "_model_module_version": "1.5.0",
            "_model_name": "DescriptionStyleModel",
            "_view_count": null,
            "_view_module": "@jupyter-widgets/base",
            "_view_module_version": "1.2.0",
            "_view_name": "StyleView",
            "description_width": ""
          }
        },
        "4a51f012b22a4aaab42bb3bbbf988972": {
          "model_module": "@jupyter-widgets/controls",
          "model_name": "HBoxModel",
          "model_module_version": "1.5.0",
          "state": {
            "_dom_classes": [],
            "_model_module": "@jupyter-widgets/controls",
            "_model_module_version": "1.5.0",
            "_model_name": "HBoxModel",
            "_view_count": null,
            "_view_module": "@jupyter-widgets/controls",
            "_view_module_version": "1.5.0",
            "_view_name": "HBoxView",
            "box_style": "",
            "children": [
              "IPY_MODEL_375988c33bb64f41a6e811c51090bbb4",
              "IPY_MODEL_1ae89c480c82406ea01b52127d777a78",
              "IPY_MODEL_05f45a67ad624e539d9f2f57be2f6fdc"
            ],
            "layout": "IPY_MODEL_ae29f2c521cd453d899366cdcff936dc"
          }
        },
        "375988c33bb64f41a6e811c51090bbb4": {
          "model_module": "@jupyter-widgets/controls",
          "model_name": "HTMLModel",
          "model_module_version": "1.5.0",
          "state": {
            "_dom_classes": [],
            "_model_module": "@jupyter-widgets/controls",
            "_model_module_version": "1.5.0",
            "_model_name": "HTMLModel",
            "_view_count": null,
            "_view_module": "@jupyter-widgets/controls",
            "_view_module_version": "1.5.0",
            "_view_name": "HTMLView",
            "description": "",
            "description_tooltip": null,
            "layout": "IPY_MODEL_1fba4745fb32423ba66b2a5eb280351b",
            "placeholder": "​",
            "style": "IPY_MODEL_add6e500ea5b4facb1f2c780049fb2e9",
            "value": "100%"
          }
        },
        "1ae89c480c82406ea01b52127d777a78": {
          "model_module": "@jupyter-widgets/controls",
          "model_name": "FloatProgressModel",
          "model_module_version": "1.5.0",
          "state": {
            "_dom_classes": [],
            "_model_module": "@jupyter-widgets/controls",
            "_model_module_version": "1.5.0",
            "_model_name": "FloatProgressModel",
            "_view_count": null,
            "_view_module": "@jupyter-widgets/controls",
            "_view_module_version": "1.5.0",
            "_view_name": "ProgressView",
            "bar_style": "success",
            "description": "",
            "description_tooltip": null,
            "layout": "IPY_MODEL_834ab296aa864a809c3f7ff8b701165b",
            "max": 10,
            "min": 0,
            "orientation": "horizontal",
            "style": "IPY_MODEL_bc2da31c50834c929804ead1cc17eaae",
            "value": 10
          }
        },
        "05f45a67ad624e539d9f2f57be2f6fdc": {
          "model_module": "@jupyter-widgets/controls",
          "model_name": "HTMLModel",
          "model_module_version": "1.5.0",
          "state": {
            "_dom_classes": [],
            "_model_module": "@jupyter-widgets/controls",
            "_model_module_version": "1.5.0",
            "_model_name": "HTMLModel",
            "_view_count": null,
            "_view_module": "@jupyter-widgets/controls",
            "_view_module_version": "1.5.0",
            "_view_name": "HTMLView",
            "description": "",
            "description_tooltip": null,
            "layout": "IPY_MODEL_d76c83755bf943a6a97c0d7fd964b979",
            "placeholder": "​",
            "style": "IPY_MODEL_2a6330c22bdb483ca468d65e2a7673df",
            "value": " 10/10 [02:37&lt;00:00, 15.69s/it]"
          }
        },
        "ae29f2c521cd453d899366cdcff936dc": {
          "model_module": "@jupyter-widgets/base",
          "model_name": "LayoutModel",
          "model_module_version": "1.2.0",
          "state": {
            "_model_module": "@jupyter-widgets/base",
            "_model_module_version": "1.2.0",
            "_model_name": "LayoutModel",
            "_view_count": null,
            "_view_module": "@jupyter-widgets/base",
            "_view_module_version": "1.2.0",
            "_view_name": "LayoutView",
            "align_content": null,
            "align_items": null,
            "align_self": null,
            "border": null,
            "bottom": null,
            "display": null,
            "flex": null,
            "flex_flow": null,
            "grid_area": null,
            "grid_auto_columns": null,
            "grid_auto_flow": null,
            "grid_auto_rows": null,
            "grid_column": null,
            "grid_gap": null,
            "grid_row": null,
            "grid_template_areas": null,
            "grid_template_columns": null,
            "grid_template_rows": null,
            "height": null,
            "justify_content": null,
            "justify_items": null,
            "left": null,
            "margin": null,
            "max_height": null,
            "max_width": null,
            "min_height": null,
            "min_width": null,
            "object_fit": null,
            "object_position": null,
            "order": null,
            "overflow": null,
            "overflow_x": null,
            "overflow_y": null,
            "padding": null,
            "right": null,
            "top": null,
            "visibility": null,
            "width": null
          }
        },
        "1fba4745fb32423ba66b2a5eb280351b": {
          "model_module": "@jupyter-widgets/base",
          "model_name": "LayoutModel",
          "model_module_version": "1.2.0",
          "state": {
            "_model_module": "@jupyter-widgets/base",
            "_model_module_version": "1.2.0",
            "_model_name": "LayoutModel",
            "_view_count": null,
            "_view_module": "@jupyter-widgets/base",
            "_view_module_version": "1.2.0",
            "_view_name": "LayoutView",
            "align_content": null,
            "align_items": null,
            "align_self": null,
            "border": null,
            "bottom": null,
            "display": null,
            "flex": null,
            "flex_flow": null,
            "grid_area": null,
            "grid_auto_columns": null,
            "grid_auto_flow": null,
            "grid_auto_rows": null,
            "grid_column": null,
            "grid_gap": null,
            "grid_row": null,
            "grid_template_areas": null,
            "grid_template_columns": null,
            "grid_template_rows": null,
            "height": null,
            "justify_content": null,
            "justify_items": null,
            "left": null,
            "margin": null,
            "max_height": null,
            "max_width": null,
            "min_height": null,
            "min_width": null,
            "object_fit": null,
            "object_position": null,
            "order": null,
            "overflow": null,
            "overflow_x": null,
            "overflow_y": null,
            "padding": null,
            "right": null,
            "top": null,
            "visibility": null,
            "width": null
          }
        },
        "add6e500ea5b4facb1f2c780049fb2e9": {
          "model_module": "@jupyter-widgets/controls",
          "model_name": "DescriptionStyleModel",
          "model_module_version": "1.5.0",
          "state": {
            "_model_module": "@jupyter-widgets/controls",
            "_model_module_version": "1.5.0",
            "_model_name": "DescriptionStyleModel",
            "_view_count": null,
            "_view_module": "@jupyter-widgets/base",
            "_view_module_version": "1.2.0",
            "_view_name": "StyleView",
            "description_width": ""
          }
        },
        "834ab296aa864a809c3f7ff8b701165b": {
          "model_module": "@jupyter-widgets/base",
          "model_name": "LayoutModel",
          "model_module_version": "1.2.0",
          "state": {
            "_model_module": "@jupyter-widgets/base",
            "_model_module_version": "1.2.0",
            "_model_name": "LayoutModel",
            "_view_count": null,
            "_view_module": "@jupyter-widgets/base",
            "_view_module_version": "1.2.0",
            "_view_name": "LayoutView",
            "align_content": null,
            "align_items": null,
            "align_self": null,
            "border": null,
            "bottom": null,
            "display": null,
            "flex": null,
            "flex_flow": null,
            "grid_area": null,
            "grid_auto_columns": null,
            "grid_auto_flow": null,
            "grid_auto_rows": null,
            "grid_column": null,
            "grid_gap": null,
            "grid_row": null,
            "grid_template_areas": null,
            "grid_template_columns": null,
            "grid_template_rows": null,
            "height": null,
            "justify_content": null,
            "justify_items": null,
            "left": null,
            "margin": null,
            "max_height": null,
            "max_width": null,
            "min_height": null,
            "min_width": null,
            "object_fit": null,
            "object_position": null,
            "order": null,
            "overflow": null,
            "overflow_x": null,
            "overflow_y": null,
            "padding": null,
            "right": null,
            "top": null,
            "visibility": null,
            "width": null
          }
        },
        "bc2da31c50834c929804ead1cc17eaae": {
          "model_module": "@jupyter-widgets/controls",
          "model_name": "ProgressStyleModel",
          "model_module_version": "1.5.0",
          "state": {
            "_model_module": "@jupyter-widgets/controls",
            "_model_module_version": "1.5.0",
            "_model_name": "ProgressStyleModel",
            "_view_count": null,
            "_view_module": "@jupyter-widgets/base",
            "_view_module_version": "1.2.0",
            "_view_name": "StyleView",
            "bar_color": null,
            "description_width": ""
          }
        },
        "d76c83755bf943a6a97c0d7fd964b979": {
          "model_module": "@jupyter-widgets/base",
          "model_name": "LayoutModel",
          "model_module_version": "1.2.0",
          "state": {
            "_model_module": "@jupyter-widgets/base",
            "_model_module_version": "1.2.0",
            "_model_name": "LayoutModel",
            "_view_count": null,
            "_view_module": "@jupyter-widgets/base",
            "_view_module_version": "1.2.0",
            "_view_name": "LayoutView",
            "align_content": null,
            "align_items": null,
            "align_self": null,
            "border": null,
            "bottom": null,
            "display": null,
            "flex": null,
            "flex_flow": null,
            "grid_area": null,
            "grid_auto_columns": null,
            "grid_auto_flow": null,
            "grid_auto_rows": null,
            "grid_column": null,
            "grid_gap": null,
            "grid_row": null,
            "grid_template_areas": null,
            "grid_template_columns": null,
            "grid_template_rows": null,
            "height": null,
            "justify_content": null,
            "justify_items": null,
            "left": null,
            "margin": null,
            "max_height": null,
            "max_width": null,
            "min_height": null,
            "min_width": null,
            "object_fit": null,
            "object_position": null,
            "order": null,
            "overflow": null,
            "overflow_x": null,
            "overflow_y": null,
            "padding": null,
            "right": null,
            "top": null,
            "visibility": null,
            "width": null
          }
        },
        "2a6330c22bdb483ca468d65e2a7673df": {
          "model_module": "@jupyter-widgets/controls",
          "model_name": "DescriptionStyleModel",
          "model_module_version": "1.5.0",
          "state": {
            "_model_module": "@jupyter-widgets/controls",
            "_model_module_version": "1.5.0",
            "_model_name": "DescriptionStyleModel",
            "_view_count": null,
            "_view_module": "@jupyter-widgets/base",
            "_view_module_version": "1.2.0",
            "_view_name": "StyleView",
            "description_width": ""
          }
        },
        "a735f813679145a9bdc729df68c9c228": {
          "model_module": "@jupyter-widgets/controls",
          "model_name": "HBoxModel",
          "model_module_version": "1.5.0",
          "state": {
            "_dom_classes": [],
            "_model_module": "@jupyter-widgets/controls",
            "_model_module_version": "1.5.0",
            "_model_name": "HBoxModel",
            "_view_count": null,
            "_view_module": "@jupyter-widgets/controls",
            "_view_module_version": "1.5.0",
            "_view_name": "HBoxView",
            "box_style": "",
            "children": [
              "IPY_MODEL_432a23265c61438d9623aa784d8c182a",
              "IPY_MODEL_c8334cee0bdc4068ac9273e18ba26a41",
              "IPY_MODEL_6e89cd2c7d4145b7b634f478f8ebee55"
            ],
            "layout": "IPY_MODEL_e71d46258e074eefafc4cb3626f4e9fe"
          }
        },
        "432a23265c61438d9623aa784d8c182a": {
          "model_module": "@jupyter-widgets/controls",
          "model_name": "HTMLModel",
          "model_module_version": "1.5.0",
          "state": {
            "_dom_classes": [],
            "_model_module": "@jupyter-widgets/controls",
            "_model_module_version": "1.5.0",
            "_model_name": "HTMLModel",
            "_view_count": null,
            "_view_module": "@jupyter-widgets/controls",
            "_view_module_version": "1.5.0",
            "_view_name": "HTMLView",
            "description": "",
            "description_tooltip": null,
            "layout": "IPY_MODEL_aede8aab25f94bf29f98d5f19236abc0",
            "placeholder": "​",
            "style": "IPY_MODEL_ddde0408f5de4c74bf5b3de79fab5bc8",
            "value": "Making predictions: 100%"
          }
        },
        "c8334cee0bdc4068ac9273e18ba26a41": {
          "model_module": "@jupyter-widgets/controls",
          "model_name": "FloatProgressModel",
          "model_module_version": "1.5.0",
          "state": {
            "_dom_classes": [],
            "_model_module": "@jupyter-widgets/controls",
            "_model_module_version": "1.5.0",
            "_model_name": "FloatProgressModel",
            "_view_count": null,
            "_view_module": "@jupyter-widgets/controls",
            "_view_module_version": "1.5.0",
            "_view_name": "ProgressView",
            "bar_style": "success",
            "description": "",
            "description_tooltip": null,
            "layout": "IPY_MODEL_d58c81728763404e903d027cc2fa4cf2",
            "max": 4,
            "min": 0,
            "orientation": "horizontal",
            "style": "IPY_MODEL_e9a234df37724bb98e50b21278209ce6",
            "value": 4
          }
        },
        "6e89cd2c7d4145b7b634f478f8ebee55": {
          "model_module": "@jupyter-widgets/controls",
          "model_name": "HTMLModel",
          "model_module_version": "1.5.0",
          "state": {
            "_dom_classes": [],
            "_model_module": "@jupyter-widgets/controls",
            "_model_module_version": "1.5.0",
            "_model_name": "HTMLModel",
            "_view_count": null,
            "_view_module": "@jupyter-widgets/controls",
            "_view_module_version": "1.5.0",
            "_view_name": "HTMLView",
            "description": "",
            "description_tooltip": null,
            "layout": "IPY_MODEL_9bf34ffd76624233a4bb890531142090",
            "placeholder": "​",
            "style": "IPY_MODEL_b3d9d95d6ce54bc7b8d3c2ad83fe3985",
            "value": " 4/4 [00:02&lt;00:00,  1.95it/s]"
          }
        },
        "e71d46258e074eefafc4cb3626f4e9fe": {
          "model_module": "@jupyter-widgets/base",
          "model_name": "LayoutModel",
          "model_module_version": "1.2.0",
          "state": {
            "_model_module": "@jupyter-widgets/base",
            "_model_module_version": "1.2.0",
            "_model_name": "LayoutModel",
            "_view_count": null,
            "_view_module": "@jupyter-widgets/base",
            "_view_module_version": "1.2.0",
            "_view_name": "LayoutView",
            "align_content": null,
            "align_items": null,
            "align_self": null,
            "border": null,
            "bottom": null,
            "display": null,
            "flex": null,
            "flex_flow": null,
            "grid_area": null,
            "grid_auto_columns": null,
            "grid_auto_flow": null,
            "grid_auto_rows": null,
            "grid_column": null,
            "grid_gap": null,
            "grid_row": null,
            "grid_template_areas": null,
            "grid_template_columns": null,
            "grid_template_rows": null,
            "height": null,
            "justify_content": null,
            "justify_items": null,
            "left": null,
            "margin": null,
            "max_height": null,
            "max_width": null,
            "min_height": null,
            "min_width": null,
            "object_fit": null,
            "object_position": null,
            "order": null,
            "overflow": null,
            "overflow_x": null,
            "overflow_y": null,
            "padding": null,
            "right": null,
            "top": null,
            "visibility": null,
            "width": null
          }
        },
        "aede8aab25f94bf29f98d5f19236abc0": {
          "model_module": "@jupyter-widgets/base",
          "model_name": "LayoutModel",
          "model_module_version": "1.2.0",
          "state": {
            "_model_module": "@jupyter-widgets/base",
            "_model_module_version": "1.2.0",
            "_model_name": "LayoutModel",
            "_view_count": null,
            "_view_module": "@jupyter-widgets/base",
            "_view_module_version": "1.2.0",
            "_view_name": "LayoutView",
            "align_content": null,
            "align_items": null,
            "align_self": null,
            "border": null,
            "bottom": null,
            "display": null,
            "flex": null,
            "flex_flow": null,
            "grid_area": null,
            "grid_auto_columns": null,
            "grid_auto_flow": null,
            "grid_auto_rows": null,
            "grid_column": null,
            "grid_gap": null,
            "grid_row": null,
            "grid_template_areas": null,
            "grid_template_columns": null,
            "grid_template_rows": null,
            "height": null,
            "justify_content": null,
            "justify_items": null,
            "left": null,
            "margin": null,
            "max_height": null,
            "max_width": null,
            "min_height": null,
            "min_width": null,
            "object_fit": null,
            "object_position": null,
            "order": null,
            "overflow": null,
            "overflow_x": null,
            "overflow_y": null,
            "padding": null,
            "right": null,
            "top": null,
            "visibility": null,
            "width": null
          }
        },
        "ddde0408f5de4c74bf5b3de79fab5bc8": {
          "model_module": "@jupyter-widgets/controls",
          "model_name": "DescriptionStyleModel",
          "model_module_version": "1.5.0",
          "state": {
            "_model_module": "@jupyter-widgets/controls",
            "_model_module_version": "1.5.0",
            "_model_name": "DescriptionStyleModel",
            "_view_count": null,
            "_view_module": "@jupyter-widgets/base",
            "_view_module_version": "1.2.0",
            "_view_name": "StyleView",
            "description_width": ""
          }
        },
        "d58c81728763404e903d027cc2fa4cf2": {
          "model_module": "@jupyter-widgets/base",
          "model_name": "LayoutModel",
          "model_module_version": "1.2.0",
          "state": {
            "_model_module": "@jupyter-widgets/base",
            "_model_module_version": "1.2.0",
            "_model_name": "LayoutModel",
            "_view_count": null,
            "_view_module": "@jupyter-widgets/base",
            "_view_module_version": "1.2.0",
            "_view_name": "LayoutView",
            "align_content": null,
            "align_items": null,
            "align_self": null,
            "border": null,
            "bottom": null,
            "display": null,
            "flex": null,
            "flex_flow": null,
            "grid_area": null,
            "grid_auto_columns": null,
            "grid_auto_flow": null,
            "grid_auto_rows": null,
            "grid_column": null,
            "grid_gap": null,
            "grid_row": null,
            "grid_template_areas": null,
            "grid_template_columns": null,
            "grid_template_rows": null,
            "height": null,
            "justify_content": null,
            "justify_items": null,
            "left": null,
            "margin": null,
            "max_height": null,
            "max_width": null,
            "min_height": null,
            "min_width": null,
            "object_fit": null,
            "object_position": null,
            "order": null,
            "overflow": null,
            "overflow_x": null,
            "overflow_y": null,
            "padding": null,
            "right": null,
            "top": null,
            "visibility": null,
            "width": null
          }
        },
        "e9a234df37724bb98e50b21278209ce6": {
          "model_module": "@jupyter-widgets/controls",
          "model_name": "ProgressStyleModel",
          "model_module_version": "1.5.0",
          "state": {
            "_model_module": "@jupyter-widgets/controls",
            "_model_module_version": "1.5.0",
            "_model_name": "ProgressStyleModel",
            "_view_count": null,
            "_view_module": "@jupyter-widgets/base",
            "_view_module_version": "1.2.0",
            "_view_name": "StyleView",
            "bar_color": null,
            "description_width": ""
          }
        },
        "9bf34ffd76624233a4bb890531142090": {
          "model_module": "@jupyter-widgets/base",
          "model_name": "LayoutModel",
          "model_module_version": "1.2.0",
          "state": {
            "_model_module": "@jupyter-widgets/base",
            "_model_module_version": "1.2.0",
            "_model_name": "LayoutModel",
            "_view_count": null,
            "_view_module": "@jupyter-widgets/base",
            "_view_module_version": "1.2.0",
            "_view_name": "LayoutView",
            "align_content": null,
            "align_items": null,
            "align_self": null,
            "border": null,
            "bottom": null,
            "display": null,
            "flex": null,
            "flex_flow": null,
            "grid_area": null,
            "grid_auto_columns": null,
            "grid_auto_flow": null,
            "grid_auto_rows": null,
            "grid_column": null,
            "grid_gap": null,
            "grid_row": null,
            "grid_template_areas": null,
            "grid_template_columns": null,
            "grid_template_rows": null,
            "height": null,
            "justify_content": null,
            "justify_items": null,
            "left": null,
            "margin": null,
            "max_height": null,
            "max_width": null,
            "min_height": null,
            "min_width": null,
            "object_fit": null,
            "object_position": null,
            "order": null,
            "overflow": null,
            "overflow_x": null,
            "overflow_y": null,
            "padding": null,
            "right": null,
            "top": null,
            "visibility": null,
            "width": null
          }
        },
        "b3d9d95d6ce54bc7b8d3c2ad83fe3985": {
          "model_module": "@jupyter-widgets/controls",
          "model_name": "DescriptionStyleModel",
          "model_module_version": "1.5.0",
          "state": {
            "_model_module": "@jupyter-widgets/controls",
            "_model_module_version": "1.5.0",
            "_model_name": "DescriptionStyleModel",
            "_view_count": null,
            "_view_module": "@jupyter-widgets/base",
            "_view_module_version": "1.2.0",
            "_view_name": "StyleView",
            "description_width": ""
          }
        },
        "63a0513ba9464032b5c4ed6490838c8f": {
          "model_module": "@jupyter-widgets/controls",
          "model_name": "HBoxModel",
          "model_module_version": "1.5.0",
          "state": {
            "_dom_classes": [],
            "_model_module": "@jupyter-widgets/controls",
            "_model_module_version": "1.5.0",
            "_model_name": "HBoxModel",
            "_view_count": null,
            "_view_module": "@jupyter-widgets/controls",
            "_view_module_version": "1.5.0",
            "_view_name": "HBoxView",
            "box_style": "",
            "children": [
              "IPY_MODEL_ccf1cff670b3418d8247e6cf84777714",
              "IPY_MODEL_65bc2a223ddb43188981e8824b17a640",
              "IPY_MODEL_a3b0e1929ad04bb2961aab5f2f765a7d"
            ],
            "layout": "IPY_MODEL_9854d862b2114e3f8a1e31f1053803aa"
          }
        },
        "ccf1cff670b3418d8247e6cf84777714": {
          "model_module": "@jupyter-widgets/controls",
          "model_name": "HTMLModel",
          "model_module_version": "1.5.0",
          "state": {
            "_dom_classes": [],
            "_model_module": "@jupyter-widgets/controls",
            "_model_module_version": "1.5.0",
            "_model_name": "HTMLModel",
            "_view_count": null,
            "_view_module": "@jupyter-widgets/controls",
            "_view_module_version": "1.5.0",
            "_view_name": "HTMLView",
            "description": "",
            "description_tooltip": null,
            "layout": "IPY_MODEL_9b385a6a42aa41d2942292ac64046b34",
            "placeholder": "​",
            "style": "IPY_MODEL_006640e1994a48a9b13b8606bedf6d52",
            "value": "100%"
          }
        },
        "65bc2a223ddb43188981e8824b17a640": {
          "model_module": "@jupyter-widgets/controls",
          "model_name": "FloatProgressModel",
          "model_module_version": "1.5.0",
          "state": {
            "_dom_classes": [],
            "_model_module": "@jupyter-widgets/controls",
            "_model_module_version": "1.5.0",
            "_model_name": "FloatProgressModel",
            "_view_count": null,
            "_view_module": "@jupyter-widgets/controls",
            "_view_module_version": "1.5.0",
            "_view_name": "ProgressView",
            "bar_style": "success",
            "description": "",
            "description_tooltip": null,
            "layout": "IPY_MODEL_aa6721425f3646a48a58b81fba3033dc",
            "max": 10,
            "min": 0,
            "orientation": "horizontal",
            "style": "IPY_MODEL_9a8884bd18df46cdbb23c41b6ab782b6",
            "value": 10
          }
        },
        "a3b0e1929ad04bb2961aab5f2f765a7d": {
          "model_module": "@jupyter-widgets/controls",
          "model_name": "HTMLModel",
          "model_module_version": "1.5.0",
          "state": {
            "_dom_classes": [],
            "_model_module": "@jupyter-widgets/controls",
            "_model_module_version": "1.5.0",
            "_model_name": "HTMLModel",
            "_view_count": null,
            "_view_module": "@jupyter-widgets/controls",
            "_view_module_version": "1.5.0",
            "_view_name": "HTMLView",
            "description": "",
            "description_tooltip": null,
            "layout": "IPY_MODEL_6ac0c92cc6794ed2883b592e6511184e",
            "placeholder": "​",
            "style": "IPY_MODEL_4b4b609e55434b8894aea01cea953558",
            "value": " 10/10 [15:19&lt;00:00, 92.22s/it]"
          }
        },
        "9854d862b2114e3f8a1e31f1053803aa": {
          "model_module": "@jupyter-widgets/base",
          "model_name": "LayoutModel",
          "model_module_version": "1.2.0",
          "state": {
            "_model_module": "@jupyter-widgets/base",
            "_model_module_version": "1.2.0",
            "_model_name": "LayoutModel",
            "_view_count": null,
            "_view_module": "@jupyter-widgets/base",
            "_view_module_version": "1.2.0",
            "_view_name": "LayoutView",
            "align_content": null,
            "align_items": null,
            "align_self": null,
            "border": null,
            "bottom": null,
            "display": null,
            "flex": null,
            "flex_flow": null,
            "grid_area": null,
            "grid_auto_columns": null,
            "grid_auto_flow": null,
            "grid_auto_rows": null,
            "grid_column": null,
            "grid_gap": null,
            "grid_row": null,
            "grid_template_areas": null,
            "grid_template_columns": null,
            "grid_template_rows": null,
            "height": null,
            "justify_content": null,
            "justify_items": null,
            "left": null,
            "margin": null,
            "max_height": null,
            "max_width": null,
            "min_height": null,
            "min_width": null,
            "object_fit": null,
            "object_position": null,
            "order": null,
            "overflow": null,
            "overflow_x": null,
            "overflow_y": null,
            "padding": null,
            "right": null,
            "top": null,
            "visibility": null,
            "width": null
          }
        },
        "9b385a6a42aa41d2942292ac64046b34": {
          "model_module": "@jupyter-widgets/base",
          "model_name": "LayoutModel",
          "model_module_version": "1.2.0",
          "state": {
            "_model_module": "@jupyter-widgets/base",
            "_model_module_version": "1.2.0",
            "_model_name": "LayoutModel",
            "_view_count": null,
            "_view_module": "@jupyter-widgets/base",
            "_view_module_version": "1.2.0",
            "_view_name": "LayoutView",
            "align_content": null,
            "align_items": null,
            "align_self": null,
            "border": null,
            "bottom": null,
            "display": null,
            "flex": null,
            "flex_flow": null,
            "grid_area": null,
            "grid_auto_columns": null,
            "grid_auto_flow": null,
            "grid_auto_rows": null,
            "grid_column": null,
            "grid_gap": null,
            "grid_row": null,
            "grid_template_areas": null,
            "grid_template_columns": null,
            "grid_template_rows": null,
            "height": null,
            "justify_content": null,
            "justify_items": null,
            "left": null,
            "margin": null,
            "max_height": null,
            "max_width": null,
            "min_height": null,
            "min_width": null,
            "object_fit": null,
            "object_position": null,
            "order": null,
            "overflow": null,
            "overflow_x": null,
            "overflow_y": null,
            "padding": null,
            "right": null,
            "top": null,
            "visibility": null,
            "width": null
          }
        },
        "006640e1994a48a9b13b8606bedf6d52": {
          "model_module": "@jupyter-widgets/controls",
          "model_name": "DescriptionStyleModel",
          "model_module_version": "1.5.0",
          "state": {
            "_model_module": "@jupyter-widgets/controls",
            "_model_module_version": "1.5.0",
            "_model_name": "DescriptionStyleModel",
            "_view_count": null,
            "_view_module": "@jupyter-widgets/base",
            "_view_module_version": "1.2.0",
            "_view_name": "StyleView",
            "description_width": ""
          }
        },
        "aa6721425f3646a48a58b81fba3033dc": {
          "model_module": "@jupyter-widgets/base",
          "model_name": "LayoutModel",
          "model_module_version": "1.2.0",
          "state": {
            "_model_module": "@jupyter-widgets/base",
            "_model_module_version": "1.2.0",
            "_model_name": "LayoutModel",
            "_view_count": null,
            "_view_module": "@jupyter-widgets/base",
            "_view_module_version": "1.2.0",
            "_view_name": "LayoutView",
            "align_content": null,
            "align_items": null,
            "align_self": null,
            "border": null,
            "bottom": null,
            "display": null,
            "flex": null,
            "flex_flow": null,
            "grid_area": null,
            "grid_auto_columns": null,
            "grid_auto_flow": null,
            "grid_auto_rows": null,
            "grid_column": null,
            "grid_gap": null,
            "grid_row": null,
            "grid_template_areas": null,
            "grid_template_columns": null,
            "grid_template_rows": null,
            "height": null,
            "justify_content": null,
            "justify_items": null,
            "left": null,
            "margin": null,
            "max_height": null,
            "max_width": null,
            "min_height": null,
            "min_width": null,
            "object_fit": null,
            "object_position": null,
            "order": null,
            "overflow": null,
            "overflow_x": null,
            "overflow_y": null,
            "padding": null,
            "right": null,
            "top": null,
            "visibility": null,
            "width": null
          }
        },
        "9a8884bd18df46cdbb23c41b6ab782b6": {
          "model_module": "@jupyter-widgets/controls",
          "model_name": "ProgressStyleModel",
          "model_module_version": "1.5.0",
          "state": {
            "_model_module": "@jupyter-widgets/controls",
            "_model_module_version": "1.5.0",
            "_model_name": "ProgressStyleModel",
            "_view_count": null,
            "_view_module": "@jupyter-widgets/base",
            "_view_module_version": "1.2.0",
            "_view_name": "StyleView",
            "bar_color": null,
            "description_width": ""
          }
        },
        "6ac0c92cc6794ed2883b592e6511184e": {
          "model_module": "@jupyter-widgets/base",
          "model_name": "LayoutModel",
          "model_module_version": "1.2.0",
          "state": {
            "_model_module": "@jupyter-widgets/base",
            "_model_module_version": "1.2.0",
            "_model_name": "LayoutModel",
            "_view_count": null,
            "_view_module": "@jupyter-widgets/base",
            "_view_module_version": "1.2.0",
            "_view_name": "LayoutView",
            "align_content": null,
            "align_items": null,
            "align_self": null,
            "border": null,
            "bottom": null,
            "display": null,
            "flex": null,
            "flex_flow": null,
            "grid_area": null,
            "grid_auto_columns": null,
            "grid_auto_flow": null,
            "grid_auto_rows": null,
            "grid_column": null,
            "grid_gap": null,
            "grid_row": null,
            "grid_template_areas": null,
            "grid_template_columns": null,
            "grid_template_rows": null,
            "height": null,
            "justify_content": null,
            "justify_items": null,
            "left": null,
            "margin": null,
            "max_height": null,
            "max_width": null,
            "min_height": null,
            "min_width": null,
            "object_fit": null,
            "object_position": null,
            "order": null,
            "overflow": null,
            "overflow_x": null,
            "overflow_y": null,
            "padding": null,
            "right": null,
            "top": null,
            "visibility": null,
            "width": null
          }
        },
        "4b4b609e55434b8894aea01cea953558": {
          "model_module": "@jupyter-widgets/controls",
          "model_name": "DescriptionStyleModel",
          "model_module_version": "1.5.0",
          "state": {
            "_model_module": "@jupyter-widgets/controls",
            "_model_module_version": "1.5.0",
            "_model_name": "DescriptionStyleModel",
            "_view_count": null,
            "_view_module": "@jupyter-widgets/base",
            "_view_module_version": "1.2.0",
            "_view_name": "StyleView",
            "description_width": ""
          }
        },
        "8eb85bdf0bea42fa83eb452bd18413f1": {
          "model_module": "@jupyter-widgets/controls",
          "model_name": "HBoxModel",
          "model_module_version": "1.5.0",
          "state": {
            "_dom_classes": [],
            "_model_module": "@jupyter-widgets/controls",
            "_model_module_version": "1.5.0",
            "_model_name": "HBoxModel",
            "_view_count": null,
            "_view_module": "@jupyter-widgets/controls",
            "_view_module_version": "1.5.0",
            "_view_name": "HBoxView",
            "box_style": "",
            "children": [
              "IPY_MODEL_09836a984307420e9eb38dde32021256",
              "IPY_MODEL_d59fd48e6ced4e2085236abf0e40a4c1",
              "IPY_MODEL_148207a409214ac6bf91ddadfc976497"
            ],
            "layout": "IPY_MODEL_0416bb4ed6714f248f108e1ea02ee092"
          }
        },
        "09836a984307420e9eb38dde32021256": {
          "model_module": "@jupyter-widgets/controls",
          "model_name": "HTMLModel",
          "model_module_version": "1.5.0",
          "state": {
            "_dom_classes": [],
            "_model_module": "@jupyter-widgets/controls",
            "_model_module_version": "1.5.0",
            "_model_name": "HTMLModel",
            "_view_count": null,
            "_view_module": "@jupyter-widgets/controls",
            "_view_module_version": "1.5.0",
            "_view_name": "HTMLView",
            "description": "",
            "description_tooltip": null,
            "layout": "IPY_MODEL_b288fcd241f443a594bb597558cf3fd8",
            "placeholder": "​",
            "style": "IPY_MODEL_fcd614e08ae046c5926906db238f44b2",
            "value": "Making predictions: 100%"
          }
        },
        "d59fd48e6ced4e2085236abf0e40a4c1": {
          "model_module": "@jupyter-widgets/controls",
          "model_name": "FloatProgressModel",
          "model_module_version": "1.5.0",
          "state": {
            "_dom_classes": [],
            "_model_module": "@jupyter-widgets/controls",
            "_model_module_version": "1.5.0",
            "_model_name": "FloatProgressModel",
            "_view_count": null,
            "_view_module": "@jupyter-widgets/controls",
            "_view_module_version": "1.5.0",
            "_view_name": "ProgressView",
            "bar_style": "success",
            "description": "",
            "description_tooltip": null,
            "layout": "IPY_MODEL_6729ee40aadd488b926245e6ff5f2d15",
            "max": 4,
            "min": 0,
            "orientation": "horizontal",
            "style": "IPY_MODEL_c7ba444d810644e69bed5814744d88e3",
            "value": 4
          }
        },
        "148207a409214ac6bf91ddadfc976497": {
          "model_module": "@jupyter-widgets/controls",
          "model_name": "HTMLModel",
          "model_module_version": "1.5.0",
          "state": {
            "_dom_classes": [],
            "_model_module": "@jupyter-widgets/controls",
            "_model_module_version": "1.5.0",
            "_model_name": "HTMLModel",
            "_view_count": null,
            "_view_module": "@jupyter-widgets/controls",
            "_view_module_version": "1.5.0",
            "_view_name": "HTMLView",
            "description": "",
            "description_tooltip": null,
            "layout": "IPY_MODEL_c80a11d600404f9b90fdfd8d5822b25e",
            "placeholder": "​",
            "style": "IPY_MODEL_5b27ecaf78364eaab2686ed6cb2117a7",
            "value": " 4/4 [00:08&lt;00:00,  1.81s/it]"
          }
        },
        "0416bb4ed6714f248f108e1ea02ee092": {
          "model_module": "@jupyter-widgets/base",
          "model_name": "LayoutModel",
          "model_module_version": "1.2.0",
          "state": {
            "_model_module": "@jupyter-widgets/base",
            "_model_module_version": "1.2.0",
            "_model_name": "LayoutModel",
            "_view_count": null,
            "_view_module": "@jupyter-widgets/base",
            "_view_module_version": "1.2.0",
            "_view_name": "LayoutView",
            "align_content": null,
            "align_items": null,
            "align_self": null,
            "border": null,
            "bottom": null,
            "display": null,
            "flex": null,
            "flex_flow": null,
            "grid_area": null,
            "grid_auto_columns": null,
            "grid_auto_flow": null,
            "grid_auto_rows": null,
            "grid_column": null,
            "grid_gap": null,
            "grid_row": null,
            "grid_template_areas": null,
            "grid_template_columns": null,
            "grid_template_rows": null,
            "height": null,
            "justify_content": null,
            "justify_items": null,
            "left": null,
            "margin": null,
            "max_height": null,
            "max_width": null,
            "min_height": null,
            "min_width": null,
            "object_fit": null,
            "object_position": null,
            "order": null,
            "overflow": null,
            "overflow_x": null,
            "overflow_y": null,
            "padding": null,
            "right": null,
            "top": null,
            "visibility": null,
            "width": null
          }
        },
        "b288fcd241f443a594bb597558cf3fd8": {
          "model_module": "@jupyter-widgets/base",
          "model_name": "LayoutModel",
          "model_module_version": "1.2.0",
          "state": {
            "_model_module": "@jupyter-widgets/base",
            "_model_module_version": "1.2.0",
            "_model_name": "LayoutModel",
            "_view_count": null,
            "_view_module": "@jupyter-widgets/base",
            "_view_module_version": "1.2.0",
            "_view_name": "LayoutView",
            "align_content": null,
            "align_items": null,
            "align_self": null,
            "border": null,
            "bottom": null,
            "display": null,
            "flex": null,
            "flex_flow": null,
            "grid_area": null,
            "grid_auto_columns": null,
            "grid_auto_flow": null,
            "grid_auto_rows": null,
            "grid_column": null,
            "grid_gap": null,
            "grid_row": null,
            "grid_template_areas": null,
            "grid_template_columns": null,
            "grid_template_rows": null,
            "height": null,
            "justify_content": null,
            "justify_items": null,
            "left": null,
            "margin": null,
            "max_height": null,
            "max_width": null,
            "min_height": null,
            "min_width": null,
            "object_fit": null,
            "object_position": null,
            "order": null,
            "overflow": null,
            "overflow_x": null,
            "overflow_y": null,
            "padding": null,
            "right": null,
            "top": null,
            "visibility": null,
            "width": null
          }
        },
        "fcd614e08ae046c5926906db238f44b2": {
          "model_module": "@jupyter-widgets/controls",
          "model_name": "DescriptionStyleModel",
          "model_module_version": "1.5.0",
          "state": {
            "_model_module": "@jupyter-widgets/controls",
            "_model_module_version": "1.5.0",
            "_model_name": "DescriptionStyleModel",
            "_view_count": null,
            "_view_module": "@jupyter-widgets/base",
            "_view_module_version": "1.2.0",
            "_view_name": "StyleView",
            "description_width": ""
          }
        },
        "6729ee40aadd488b926245e6ff5f2d15": {
          "model_module": "@jupyter-widgets/base",
          "model_name": "LayoutModel",
          "model_module_version": "1.2.0",
          "state": {
            "_model_module": "@jupyter-widgets/base",
            "_model_module_version": "1.2.0",
            "_model_name": "LayoutModel",
            "_view_count": null,
            "_view_module": "@jupyter-widgets/base",
            "_view_module_version": "1.2.0",
            "_view_name": "LayoutView",
            "align_content": null,
            "align_items": null,
            "align_self": null,
            "border": null,
            "bottom": null,
            "display": null,
            "flex": null,
            "flex_flow": null,
            "grid_area": null,
            "grid_auto_columns": null,
            "grid_auto_flow": null,
            "grid_auto_rows": null,
            "grid_column": null,
            "grid_gap": null,
            "grid_row": null,
            "grid_template_areas": null,
            "grid_template_columns": null,
            "grid_template_rows": null,
            "height": null,
            "justify_content": null,
            "justify_items": null,
            "left": null,
            "margin": null,
            "max_height": null,
            "max_width": null,
            "min_height": null,
            "min_width": null,
            "object_fit": null,
            "object_position": null,
            "order": null,
            "overflow": null,
            "overflow_x": null,
            "overflow_y": null,
            "padding": null,
            "right": null,
            "top": null,
            "visibility": null,
            "width": null
          }
        },
        "c7ba444d810644e69bed5814744d88e3": {
          "model_module": "@jupyter-widgets/controls",
          "model_name": "ProgressStyleModel",
          "model_module_version": "1.5.0",
          "state": {
            "_model_module": "@jupyter-widgets/controls",
            "_model_module_version": "1.5.0",
            "_model_name": "ProgressStyleModel",
            "_view_count": null,
            "_view_module": "@jupyter-widgets/base",
            "_view_module_version": "1.2.0",
            "_view_name": "StyleView",
            "bar_color": null,
            "description_width": ""
          }
        },
        "c80a11d600404f9b90fdfd8d5822b25e": {
          "model_module": "@jupyter-widgets/base",
          "model_name": "LayoutModel",
          "model_module_version": "1.2.0",
          "state": {
            "_model_module": "@jupyter-widgets/base",
            "_model_module_version": "1.2.0",
            "_model_name": "LayoutModel",
            "_view_count": null,
            "_view_module": "@jupyter-widgets/base",
            "_view_module_version": "1.2.0",
            "_view_name": "LayoutView",
            "align_content": null,
            "align_items": null,
            "align_self": null,
            "border": null,
            "bottom": null,
            "display": null,
            "flex": null,
            "flex_flow": null,
            "grid_area": null,
            "grid_auto_columns": null,
            "grid_auto_flow": null,
            "grid_auto_rows": null,
            "grid_column": null,
            "grid_gap": null,
            "grid_row": null,
            "grid_template_areas": null,
            "grid_template_columns": null,
            "grid_template_rows": null,
            "height": null,
            "justify_content": null,
            "justify_items": null,
            "left": null,
            "margin": null,
            "max_height": null,
            "max_width": null,
            "min_height": null,
            "min_width": null,
            "object_fit": null,
            "object_position": null,
            "order": null,
            "overflow": null,
            "overflow_x": null,
            "overflow_y": null,
            "padding": null,
            "right": null,
            "top": null,
            "visibility": null,
            "width": null
          }
        },
        "5b27ecaf78364eaab2686ed6cb2117a7": {
          "model_module": "@jupyter-widgets/controls",
          "model_name": "DescriptionStyleModel",
          "model_module_version": "1.5.0",
          "state": {
            "_model_module": "@jupyter-widgets/controls",
            "_model_module_version": "1.5.0",
            "_model_name": "DescriptionStyleModel",
            "_view_count": null,
            "_view_module": "@jupyter-widgets/base",
            "_view_module_version": "1.2.0",
            "_view_name": "StyleView",
            "description_width": ""
          }
        },
        "483d909ddc634ae48ab8bf4132d253fe": {
          "model_module": "@jupyter-widgets/controls",
          "model_name": "HBoxModel",
          "model_module_version": "1.5.0",
          "state": {
            "_dom_classes": [],
            "_model_module": "@jupyter-widgets/controls",
            "_model_module_version": "1.5.0",
            "_model_name": "HBoxModel",
            "_view_count": null,
            "_view_module": "@jupyter-widgets/controls",
            "_view_module_version": "1.5.0",
            "_view_name": "HBoxView",
            "box_style": "",
            "children": [
              "IPY_MODEL_950bdad9a3e64d48befb2c3e3c943b31",
              "IPY_MODEL_a29800ffa95341ff824a3cf7c65bd237",
              "IPY_MODEL_cef9e5fcd44f46f7822eb7edc0c6e8f9"
            ],
            "layout": "IPY_MODEL_63d690e4b94844e8b39e7610467108cf"
          }
        },
        "950bdad9a3e64d48befb2c3e3c943b31": {
          "model_module": "@jupyter-widgets/controls",
          "model_name": "HTMLModel",
          "model_module_version": "1.5.0",
          "state": {
            "_dom_classes": [],
            "_model_module": "@jupyter-widgets/controls",
            "_model_module_version": "1.5.0",
            "_model_name": "HTMLModel",
            "_view_count": null,
            "_view_module": "@jupyter-widgets/controls",
            "_view_module_version": "1.5.0",
            "_view_name": "HTMLView",
            "description": "",
            "description_tooltip": null,
            "layout": "IPY_MODEL_4124a23395f447c5b70d5f2d97f2e7a3",
            "placeholder": "​",
            "style": "IPY_MODEL_efc64dd0f9834e14bfc5c8e791d4adde",
            "value": "100%"
          }
        },
        "a29800ffa95341ff824a3cf7c65bd237": {
          "model_module": "@jupyter-widgets/controls",
          "model_name": "FloatProgressModel",
          "model_module_version": "1.5.0",
          "state": {
            "_dom_classes": [],
            "_model_module": "@jupyter-widgets/controls",
            "_model_module_version": "1.5.0",
            "_model_name": "FloatProgressModel",
            "_view_count": null,
            "_view_module": "@jupyter-widgets/controls",
            "_view_module_version": "1.5.0",
            "_view_name": "ProgressView",
            "bar_style": "success",
            "description": "",
            "description_tooltip": null,
            "layout": "IPY_MODEL_c43ab83f90d041ee933ecaed91d08d3d",
            "max": 10,
            "min": 0,
            "orientation": "horizontal",
            "style": "IPY_MODEL_6398f12e8f2941968ae42622d48453f9",
            "value": 10
          }
        },
        "cef9e5fcd44f46f7822eb7edc0c6e8f9": {
          "model_module": "@jupyter-widgets/controls",
          "model_name": "HTMLModel",
          "model_module_version": "1.5.0",
          "state": {
            "_dom_classes": [],
            "_model_module": "@jupyter-widgets/controls",
            "_model_module_version": "1.5.0",
            "_model_name": "HTMLModel",
            "_view_count": null,
            "_view_module": "@jupyter-widgets/controls",
            "_view_module_version": "1.5.0",
            "_view_name": "HTMLView",
            "description": "",
            "description_tooltip": null,
            "layout": "IPY_MODEL_ac50ac1de3f34cbe9e6bbaba36272ad7",
            "placeholder": "​",
            "style": "IPY_MODEL_0781dcacf30a4aa6a9b8ba3a1b5e0262",
            "value": " 10/10 [17:32&lt;00:00, 106.67s/it]"
          }
        },
        "63d690e4b94844e8b39e7610467108cf": {
          "model_module": "@jupyter-widgets/base",
          "model_name": "LayoutModel",
          "model_module_version": "1.2.0",
          "state": {
            "_model_module": "@jupyter-widgets/base",
            "_model_module_version": "1.2.0",
            "_model_name": "LayoutModel",
            "_view_count": null,
            "_view_module": "@jupyter-widgets/base",
            "_view_module_version": "1.2.0",
            "_view_name": "LayoutView",
            "align_content": null,
            "align_items": null,
            "align_self": null,
            "border": null,
            "bottom": null,
            "display": null,
            "flex": null,
            "flex_flow": null,
            "grid_area": null,
            "grid_auto_columns": null,
            "grid_auto_flow": null,
            "grid_auto_rows": null,
            "grid_column": null,
            "grid_gap": null,
            "grid_row": null,
            "grid_template_areas": null,
            "grid_template_columns": null,
            "grid_template_rows": null,
            "height": null,
            "justify_content": null,
            "justify_items": null,
            "left": null,
            "margin": null,
            "max_height": null,
            "max_width": null,
            "min_height": null,
            "min_width": null,
            "object_fit": null,
            "object_position": null,
            "order": null,
            "overflow": null,
            "overflow_x": null,
            "overflow_y": null,
            "padding": null,
            "right": null,
            "top": null,
            "visibility": null,
            "width": null
          }
        },
        "4124a23395f447c5b70d5f2d97f2e7a3": {
          "model_module": "@jupyter-widgets/base",
          "model_name": "LayoutModel",
          "model_module_version": "1.2.0",
          "state": {
            "_model_module": "@jupyter-widgets/base",
            "_model_module_version": "1.2.0",
            "_model_name": "LayoutModel",
            "_view_count": null,
            "_view_module": "@jupyter-widgets/base",
            "_view_module_version": "1.2.0",
            "_view_name": "LayoutView",
            "align_content": null,
            "align_items": null,
            "align_self": null,
            "border": null,
            "bottom": null,
            "display": null,
            "flex": null,
            "flex_flow": null,
            "grid_area": null,
            "grid_auto_columns": null,
            "grid_auto_flow": null,
            "grid_auto_rows": null,
            "grid_column": null,
            "grid_gap": null,
            "grid_row": null,
            "grid_template_areas": null,
            "grid_template_columns": null,
            "grid_template_rows": null,
            "height": null,
            "justify_content": null,
            "justify_items": null,
            "left": null,
            "margin": null,
            "max_height": null,
            "max_width": null,
            "min_height": null,
            "min_width": null,
            "object_fit": null,
            "object_position": null,
            "order": null,
            "overflow": null,
            "overflow_x": null,
            "overflow_y": null,
            "padding": null,
            "right": null,
            "top": null,
            "visibility": null,
            "width": null
          }
        },
        "efc64dd0f9834e14bfc5c8e791d4adde": {
          "model_module": "@jupyter-widgets/controls",
          "model_name": "DescriptionStyleModel",
          "model_module_version": "1.5.0",
          "state": {
            "_model_module": "@jupyter-widgets/controls",
            "_model_module_version": "1.5.0",
            "_model_name": "DescriptionStyleModel",
            "_view_count": null,
            "_view_module": "@jupyter-widgets/base",
            "_view_module_version": "1.2.0",
            "_view_name": "StyleView",
            "description_width": ""
          }
        },
        "c43ab83f90d041ee933ecaed91d08d3d": {
          "model_module": "@jupyter-widgets/base",
          "model_name": "LayoutModel",
          "model_module_version": "1.2.0",
          "state": {
            "_model_module": "@jupyter-widgets/base",
            "_model_module_version": "1.2.0",
            "_model_name": "LayoutModel",
            "_view_count": null,
            "_view_module": "@jupyter-widgets/base",
            "_view_module_version": "1.2.0",
            "_view_name": "LayoutView",
            "align_content": null,
            "align_items": null,
            "align_self": null,
            "border": null,
            "bottom": null,
            "display": null,
            "flex": null,
            "flex_flow": null,
            "grid_area": null,
            "grid_auto_columns": null,
            "grid_auto_flow": null,
            "grid_auto_rows": null,
            "grid_column": null,
            "grid_gap": null,
            "grid_row": null,
            "grid_template_areas": null,
            "grid_template_columns": null,
            "grid_template_rows": null,
            "height": null,
            "justify_content": null,
            "justify_items": null,
            "left": null,
            "margin": null,
            "max_height": null,
            "max_width": null,
            "min_height": null,
            "min_width": null,
            "object_fit": null,
            "object_position": null,
            "order": null,
            "overflow": null,
            "overflow_x": null,
            "overflow_y": null,
            "padding": null,
            "right": null,
            "top": null,
            "visibility": null,
            "width": null
          }
        },
        "6398f12e8f2941968ae42622d48453f9": {
          "model_module": "@jupyter-widgets/controls",
          "model_name": "ProgressStyleModel",
          "model_module_version": "1.5.0",
          "state": {
            "_model_module": "@jupyter-widgets/controls",
            "_model_module_version": "1.5.0",
            "_model_name": "ProgressStyleModel",
            "_view_count": null,
            "_view_module": "@jupyter-widgets/base",
            "_view_module_version": "1.2.0",
            "_view_name": "StyleView",
            "bar_color": null,
            "description_width": ""
          }
        },
        "ac50ac1de3f34cbe9e6bbaba36272ad7": {
          "model_module": "@jupyter-widgets/base",
          "model_name": "LayoutModel",
          "model_module_version": "1.2.0",
          "state": {
            "_model_module": "@jupyter-widgets/base",
            "_model_module_version": "1.2.0",
            "_model_name": "LayoutModel",
            "_view_count": null,
            "_view_module": "@jupyter-widgets/base",
            "_view_module_version": "1.2.0",
            "_view_name": "LayoutView",
            "align_content": null,
            "align_items": null,
            "align_self": null,
            "border": null,
            "bottom": null,
            "display": null,
            "flex": null,
            "flex_flow": null,
            "grid_area": null,
            "grid_auto_columns": null,
            "grid_auto_flow": null,
            "grid_auto_rows": null,
            "grid_column": null,
            "grid_gap": null,
            "grid_row": null,
            "grid_template_areas": null,
            "grid_template_columns": null,
            "grid_template_rows": null,
            "height": null,
            "justify_content": null,
            "justify_items": null,
            "left": null,
            "margin": null,
            "max_height": null,
            "max_width": null,
            "min_height": null,
            "min_width": null,
            "object_fit": null,
            "object_position": null,
            "order": null,
            "overflow": null,
            "overflow_x": null,
            "overflow_y": null,
            "padding": null,
            "right": null,
            "top": null,
            "visibility": null,
            "width": null
          }
        },
        "0781dcacf30a4aa6a9b8ba3a1b5e0262": {
          "model_module": "@jupyter-widgets/controls",
          "model_name": "DescriptionStyleModel",
          "model_module_version": "1.5.0",
          "state": {
            "_model_module": "@jupyter-widgets/controls",
            "_model_module_version": "1.5.0",
            "_model_name": "DescriptionStyleModel",
            "_view_count": null,
            "_view_module": "@jupyter-widgets/base",
            "_view_module_version": "1.2.0",
            "_view_name": "StyleView",
            "description_width": ""
          }
        },
        "93d838c897e043a7a72fe7055321c8a0": {
          "model_module": "@jupyter-widgets/controls",
          "model_name": "HBoxModel",
          "model_module_version": "1.5.0",
          "state": {
            "_dom_classes": [],
            "_model_module": "@jupyter-widgets/controls",
            "_model_module_version": "1.5.0",
            "_model_name": "HBoxModel",
            "_view_count": null,
            "_view_module": "@jupyter-widgets/controls",
            "_view_module_version": "1.5.0",
            "_view_name": "HBoxView",
            "box_style": "",
            "children": [
              "IPY_MODEL_2974a919bede4d6284274fbc4dc4cd4a",
              "IPY_MODEL_fd68797ac58f4a069552127ad8640f32",
              "IPY_MODEL_5ba4ca67d49643a5a5c406617c86f631"
            ],
            "layout": "IPY_MODEL_b5d346ff3a374ec4a358215f09ef3476"
          }
        },
        "2974a919bede4d6284274fbc4dc4cd4a": {
          "model_module": "@jupyter-widgets/controls",
          "model_name": "HTMLModel",
          "model_module_version": "1.5.0",
          "state": {
            "_dom_classes": [],
            "_model_module": "@jupyter-widgets/controls",
            "_model_module_version": "1.5.0",
            "_model_name": "HTMLModel",
            "_view_count": null,
            "_view_module": "@jupyter-widgets/controls",
            "_view_module_version": "1.5.0",
            "_view_name": "HTMLView",
            "description": "",
            "description_tooltip": null,
            "layout": "IPY_MODEL_7284f288fe1e4276b9470c4f5a07ae65",
            "placeholder": "​",
            "style": "IPY_MODEL_fec98e10a470458a8735a35e1276d781",
            "value": "Making predictions: 100%"
          }
        },
        "fd68797ac58f4a069552127ad8640f32": {
          "model_module": "@jupyter-widgets/controls",
          "model_name": "FloatProgressModel",
          "model_module_version": "1.5.0",
          "state": {
            "_dom_classes": [],
            "_model_module": "@jupyter-widgets/controls",
            "_model_module_version": "1.5.0",
            "_model_name": "FloatProgressModel",
            "_view_count": null,
            "_view_module": "@jupyter-widgets/controls",
            "_view_module_version": "1.5.0",
            "_view_name": "ProgressView",
            "bar_style": "success",
            "description": "",
            "description_tooltip": null,
            "layout": "IPY_MODEL_dbdbb859c51e47f09d7cc07d5d177766",
            "max": 4,
            "min": 0,
            "orientation": "horizontal",
            "style": "IPY_MODEL_cba04597126c493b91c6771966994a45",
            "value": 4
          }
        },
        "5ba4ca67d49643a5a5c406617c86f631": {
          "model_module": "@jupyter-widgets/controls",
          "model_name": "HTMLModel",
          "model_module_version": "1.5.0",
          "state": {
            "_dom_classes": [],
            "_model_module": "@jupyter-widgets/controls",
            "_model_module_version": "1.5.0",
            "_model_name": "HTMLModel",
            "_view_count": null,
            "_view_module": "@jupyter-widgets/controls",
            "_view_module_version": "1.5.0",
            "_view_name": "HTMLView",
            "description": "",
            "description_tooltip": null,
            "layout": "IPY_MODEL_14d741fe651547fc874a75331fb47c48",
            "placeholder": "​",
            "style": "IPY_MODEL_3df640a60cdc4a72b43930ba9bb3ccac",
            "value": " 4/4 [00:09&lt;00:00,  1.91s/it]"
          }
        },
        "b5d346ff3a374ec4a358215f09ef3476": {
          "model_module": "@jupyter-widgets/base",
          "model_name": "LayoutModel",
          "model_module_version": "1.2.0",
          "state": {
            "_model_module": "@jupyter-widgets/base",
            "_model_module_version": "1.2.0",
            "_model_name": "LayoutModel",
            "_view_count": null,
            "_view_module": "@jupyter-widgets/base",
            "_view_module_version": "1.2.0",
            "_view_name": "LayoutView",
            "align_content": null,
            "align_items": null,
            "align_self": null,
            "border": null,
            "bottom": null,
            "display": null,
            "flex": null,
            "flex_flow": null,
            "grid_area": null,
            "grid_auto_columns": null,
            "grid_auto_flow": null,
            "grid_auto_rows": null,
            "grid_column": null,
            "grid_gap": null,
            "grid_row": null,
            "grid_template_areas": null,
            "grid_template_columns": null,
            "grid_template_rows": null,
            "height": null,
            "justify_content": null,
            "justify_items": null,
            "left": null,
            "margin": null,
            "max_height": null,
            "max_width": null,
            "min_height": null,
            "min_width": null,
            "object_fit": null,
            "object_position": null,
            "order": null,
            "overflow": null,
            "overflow_x": null,
            "overflow_y": null,
            "padding": null,
            "right": null,
            "top": null,
            "visibility": null,
            "width": null
          }
        },
        "7284f288fe1e4276b9470c4f5a07ae65": {
          "model_module": "@jupyter-widgets/base",
          "model_name": "LayoutModel",
          "model_module_version": "1.2.0",
          "state": {
            "_model_module": "@jupyter-widgets/base",
            "_model_module_version": "1.2.0",
            "_model_name": "LayoutModel",
            "_view_count": null,
            "_view_module": "@jupyter-widgets/base",
            "_view_module_version": "1.2.0",
            "_view_name": "LayoutView",
            "align_content": null,
            "align_items": null,
            "align_self": null,
            "border": null,
            "bottom": null,
            "display": null,
            "flex": null,
            "flex_flow": null,
            "grid_area": null,
            "grid_auto_columns": null,
            "grid_auto_flow": null,
            "grid_auto_rows": null,
            "grid_column": null,
            "grid_gap": null,
            "grid_row": null,
            "grid_template_areas": null,
            "grid_template_columns": null,
            "grid_template_rows": null,
            "height": null,
            "justify_content": null,
            "justify_items": null,
            "left": null,
            "margin": null,
            "max_height": null,
            "max_width": null,
            "min_height": null,
            "min_width": null,
            "object_fit": null,
            "object_position": null,
            "order": null,
            "overflow": null,
            "overflow_x": null,
            "overflow_y": null,
            "padding": null,
            "right": null,
            "top": null,
            "visibility": null,
            "width": null
          }
        },
        "fec98e10a470458a8735a35e1276d781": {
          "model_module": "@jupyter-widgets/controls",
          "model_name": "DescriptionStyleModel",
          "model_module_version": "1.5.0",
          "state": {
            "_model_module": "@jupyter-widgets/controls",
            "_model_module_version": "1.5.0",
            "_model_name": "DescriptionStyleModel",
            "_view_count": null,
            "_view_module": "@jupyter-widgets/base",
            "_view_module_version": "1.2.0",
            "_view_name": "StyleView",
            "description_width": ""
          }
        },
        "dbdbb859c51e47f09d7cc07d5d177766": {
          "model_module": "@jupyter-widgets/base",
          "model_name": "LayoutModel",
          "model_module_version": "1.2.0",
          "state": {
            "_model_module": "@jupyter-widgets/base",
            "_model_module_version": "1.2.0",
            "_model_name": "LayoutModel",
            "_view_count": null,
            "_view_module": "@jupyter-widgets/base",
            "_view_module_version": "1.2.0",
            "_view_name": "LayoutView",
            "align_content": null,
            "align_items": null,
            "align_self": null,
            "border": null,
            "bottom": null,
            "display": null,
            "flex": null,
            "flex_flow": null,
            "grid_area": null,
            "grid_auto_columns": null,
            "grid_auto_flow": null,
            "grid_auto_rows": null,
            "grid_column": null,
            "grid_gap": null,
            "grid_row": null,
            "grid_template_areas": null,
            "grid_template_columns": null,
            "grid_template_rows": null,
            "height": null,
            "justify_content": null,
            "justify_items": null,
            "left": null,
            "margin": null,
            "max_height": null,
            "max_width": null,
            "min_height": null,
            "min_width": null,
            "object_fit": null,
            "object_position": null,
            "order": null,
            "overflow": null,
            "overflow_x": null,
            "overflow_y": null,
            "padding": null,
            "right": null,
            "top": null,
            "visibility": null,
            "width": null
          }
        },
        "cba04597126c493b91c6771966994a45": {
          "model_module": "@jupyter-widgets/controls",
          "model_name": "ProgressStyleModel",
          "model_module_version": "1.5.0",
          "state": {
            "_model_module": "@jupyter-widgets/controls",
            "_model_module_version": "1.5.0",
            "_model_name": "ProgressStyleModel",
            "_view_count": null,
            "_view_module": "@jupyter-widgets/base",
            "_view_module_version": "1.2.0",
            "_view_name": "StyleView",
            "bar_color": null,
            "description_width": ""
          }
        },
        "14d741fe651547fc874a75331fb47c48": {
          "model_module": "@jupyter-widgets/base",
          "model_name": "LayoutModel",
          "model_module_version": "1.2.0",
          "state": {
            "_model_module": "@jupyter-widgets/base",
            "_model_module_version": "1.2.0",
            "_model_name": "LayoutModel",
            "_view_count": null,
            "_view_module": "@jupyter-widgets/base",
            "_view_module_version": "1.2.0",
            "_view_name": "LayoutView",
            "align_content": null,
            "align_items": null,
            "align_self": null,
            "border": null,
            "bottom": null,
            "display": null,
            "flex": null,
            "flex_flow": null,
            "grid_area": null,
            "grid_auto_columns": null,
            "grid_auto_flow": null,
            "grid_auto_rows": null,
            "grid_column": null,
            "grid_gap": null,
            "grid_row": null,
            "grid_template_areas": null,
            "grid_template_columns": null,
            "grid_template_rows": null,
            "height": null,
            "justify_content": null,
            "justify_items": null,
            "left": null,
            "margin": null,
            "max_height": null,
            "max_width": null,
            "min_height": null,
            "min_width": null,
            "object_fit": null,
            "object_position": null,
            "order": null,
            "overflow": null,
            "overflow_x": null,
            "overflow_y": null,
            "padding": null,
            "right": null,
            "top": null,
            "visibility": null,
            "width": null
          }
        },
        "3df640a60cdc4a72b43930ba9bb3ccac": {
          "model_module": "@jupyter-widgets/controls",
          "model_name": "DescriptionStyleModel",
          "model_module_version": "1.5.0",
          "state": {
            "_model_module": "@jupyter-widgets/controls",
            "_model_module_version": "1.5.0",
            "_model_name": "DescriptionStyleModel",
            "_view_count": null,
            "_view_module": "@jupyter-widgets/base",
            "_view_module_version": "1.2.0",
            "_view_name": "StyleView",
            "description_width": ""
          }
        },
        "d3625e56e3334bd98cf539944c3611a7": {
          "model_module": "@jupyter-widgets/controls",
          "model_name": "HBoxModel",
          "model_module_version": "1.5.0",
          "state": {
            "_dom_classes": [],
            "_model_module": "@jupyter-widgets/controls",
            "_model_module_version": "1.5.0",
            "_model_name": "HBoxModel",
            "_view_count": null,
            "_view_module": "@jupyter-widgets/controls",
            "_view_module_version": "1.5.0",
            "_view_name": "HBoxView",
            "box_style": "",
            "children": [
              "IPY_MODEL_9aa8b57e86d94d6ba04b44e16310eeab",
              "IPY_MODEL_cc334d1446d84c998c6f3487de4f5325",
              "IPY_MODEL_3f9bc7d4dd5842fbb6f611e06f0ee1e9"
            ],
            "layout": "IPY_MODEL_61b2e2b0610849619fd121b089b29169"
          }
        },
        "9aa8b57e86d94d6ba04b44e16310eeab": {
          "model_module": "@jupyter-widgets/controls",
          "model_name": "HTMLModel",
          "model_module_version": "1.5.0",
          "state": {
            "_dom_classes": [],
            "_model_module": "@jupyter-widgets/controls",
            "_model_module_version": "1.5.0",
            "_model_name": "HTMLModel",
            "_view_count": null,
            "_view_module": "@jupyter-widgets/controls",
            "_view_module_version": "1.5.0",
            "_view_name": "HTMLView",
            "description": "",
            "description_tooltip": null,
            "layout": "IPY_MODEL_1506f5ed84d1457088bd7849a21bf2ad",
            "placeholder": "​",
            "style": "IPY_MODEL_295930fdb2ad4174ae84fe3fffd7c623",
            "value": "100%"
          }
        },
        "cc334d1446d84c998c6f3487de4f5325": {
          "model_module": "@jupyter-widgets/controls",
          "model_name": "FloatProgressModel",
          "model_module_version": "1.5.0",
          "state": {
            "_dom_classes": [],
            "_model_module": "@jupyter-widgets/controls",
            "_model_module_version": "1.5.0",
            "_model_name": "FloatProgressModel",
            "_view_count": null,
            "_view_module": "@jupyter-widgets/controls",
            "_view_module_version": "1.5.0",
            "_view_name": "ProgressView",
            "bar_style": "success",
            "description": "",
            "description_tooltip": null,
            "layout": "IPY_MODEL_8649847065ca4a33b83dfafea2868889",
            "max": 10,
            "min": 0,
            "orientation": "horizontal",
            "style": "IPY_MODEL_d2cb4854b2274251878aa2a48511badc",
            "value": 10
          }
        },
        "3f9bc7d4dd5842fbb6f611e06f0ee1e9": {
          "model_module": "@jupyter-widgets/controls",
          "model_name": "HTMLModel",
          "model_module_version": "1.5.0",
          "state": {
            "_dom_classes": [],
            "_model_module": "@jupyter-widgets/controls",
            "_model_module_version": "1.5.0",
            "_model_name": "HTMLModel",
            "_view_count": null,
            "_view_module": "@jupyter-widgets/controls",
            "_view_module_version": "1.5.0",
            "_view_name": "HTMLView",
            "description": "",
            "description_tooltip": null,
            "layout": "IPY_MODEL_5fd75e942ecd4cd0bbbec24d6db3c896",
            "placeholder": "​",
            "style": "IPY_MODEL_08c6d6b667ed4f35864e6e1b5a4eef1e",
            "value": " 10/10 [24:23&lt;00:00, 146.74s/it]"
          }
        },
        "61b2e2b0610849619fd121b089b29169": {
          "model_module": "@jupyter-widgets/base",
          "model_name": "LayoutModel",
          "model_module_version": "1.2.0",
          "state": {
            "_model_module": "@jupyter-widgets/base",
            "_model_module_version": "1.2.0",
            "_model_name": "LayoutModel",
            "_view_count": null,
            "_view_module": "@jupyter-widgets/base",
            "_view_module_version": "1.2.0",
            "_view_name": "LayoutView",
            "align_content": null,
            "align_items": null,
            "align_self": null,
            "border": null,
            "bottom": null,
            "display": null,
            "flex": null,
            "flex_flow": null,
            "grid_area": null,
            "grid_auto_columns": null,
            "grid_auto_flow": null,
            "grid_auto_rows": null,
            "grid_column": null,
            "grid_gap": null,
            "grid_row": null,
            "grid_template_areas": null,
            "grid_template_columns": null,
            "grid_template_rows": null,
            "height": null,
            "justify_content": null,
            "justify_items": null,
            "left": null,
            "margin": null,
            "max_height": null,
            "max_width": null,
            "min_height": null,
            "min_width": null,
            "object_fit": null,
            "object_position": null,
            "order": null,
            "overflow": null,
            "overflow_x": null,
            "overflow_y": null,
            "padding": null,
            "right": null,
            "top": null,
            "visibility": null,
            "width": null
          }
        },
        "1506f5ed84d1457088bd7849a21bf2ad": {
          "model_module": "@jupyter-widgets/base",
          "model_name": "LayoutModel",
          "model_module_version": "1.2.0",
          "state": {
            "_model_module": "@jupyter-widgets/base",
            "_model_module_version": "1.2.0",
            "_model_name": "LayoutModel",
            "_view_count": null,
            "_view_module": "@jupyter-widgets/base",
            "_view_module_version": "1.2.0",
            "_view_name": "LayoutView",
            "align_content": null,
            "align_items": null,
            "align_self": null,
            "border": null,
            "bottom": null,
            "display": null,
            "flex": null,
            "flex_flow": null,
            "grid_area": null,
            "grid_auto_columns": null,
            "grid_auto_flow": null,
            "grid_auto_rows": null,
            "grid_column": null,
            "grid_gap": null,
            "grid_row": null,
            "grid_template_areas": null,
            "grid_template_columns": null,
            "grid_template_rows": null,
            "height": null,
            "justify_content": null,
            "justify_items": null,
            "left": null,
            "margin": null,
            "max_height": null,
            "max_width": null,
            "min_height": null,
            "min_width": null,
            "object_fit": null,
            "object_position": null,
            "order": null,
            "overflow": null,
            "overflow_x": null,
            "overflow_y": null,
            "padding": null,
            "right": null,
            "top": null,
            "visibility": null,
            "width": null
          }
        },
        "295930fdb2ad4174ae84fe3fffd7c623": {
          "model_module": "@jupyter-widgets/controls",
          "model_name": "DescriptionStyleModel",
          "model_module_version": "1.5.0",
          "state": {
            "_model_module": "@jupyter-widgets/controls",
            "_model_module_version": "1.5.0",
            "_model_name": "DescriptionStyleModel",
            "_view_count": null,
            "_view_module": "@jupyter-widgets/base",
            "_view_module_version": "1.2.0",
            "_view_name": "StyleView",
            "description_width": ""
          }
        },
        "8649847065ca4a33b83dfafea2868889": {
          "model_module": "@jupyter-widgets/base",
          "model_name": "LayoutModel",
          "model_module_version": "1.2.0",
          "state": {
            "_model_module": "@jupyter-widgets/base",
            "_model_module_version": "1.2.0",
            "_model_name": "LayoutModel",
            "_view_count": null,
            "_view_module": "@jupyter-widgets/base",
            "_view_module_version": "1.2.0",
            "_view_name": "LayoutView",
            "align_content": null,
            "align_items": null,
            "align_self": null,
            "border": null,
            "bottom": null,
            "display": null,
            "flex": null,
            "flex_flow": null,
            "grid_area": null,
            "grid_auto_columns": null,
            "grid_auto_flow": null,
            "grid_auto_rows": null,
            "grid_column": null,
            "grid_gap": null,
            "grid_row": null,
            "grid_template_areas": null,
            "grid_template_columns": null,
            "grid_template_rows": null,
            "height": null,
            "justify_content": null,
            "justify_items": null,
            "left": null,
            "margin": null,
            "max_height": null,
            "max_width": null,
            "min_height": null,
            "min_width": null,
            "object_fit": null,
            "object_position": null,
            "order": null,
            "overflow": null,
            "overflow_x": null,
            "overflow_y": null,
            "padding": null,
            "right": null,
            "top": null,
            "visibility": null,
            "width": null
          }
        },
        "d2cb4854b2274251878aa2a48511badc": {
          "model_module": "@jupyter-widgets/controls",
          "model_name": "ProgressStyleModel",
          "model_module_version": "1.5.0",
          "state": {
            "_model_module": "@jupyter-widgets/controls",
            "_model_module_version": "1.5.0",
            "_model_name": "ProgressStyleModel",
            "_view_count": null,
            "_view_module": "@jupyter-widgets/base",
            "_view_module_version": "1.2.0",
            "_view_name": "StyleView",
            "bar_color": null,
            "description_width": ""
          }
        },
        "5fd75e942ecd4cd0bbbec24d6db3c896": {
          "model_module": "@jupyter-widgets/base",
          "model_name": "LayoutModel",
          "model_module_version": "1.2.0",
          "state": {
            "_model_module": "@jupyter-widgets/base",
            "_model_module_version": "1.2.0",
            "_model_name": "LayoutModel",
            "_view_count": null,
            "_view_module": "@jupyter-widgets/base",
            "_view_module_version": "1.2.0",
            "_view_name": "LayoutView",
            "align_content": null,
            "align_items": null,
            "align_self": null,
            "border": null,
            "bottom": null,
            "display": null,
            "flex": null,
            "flex_flow": null,
            "grid_area": null,
            "grid_auto_columns": null,
            "grid_auto_flow": null,
            "grid_auto_rows": null,
            "grid_column": null,
            "grid_gap": null,
            "grid_row": null,
            "grid_template_areas": null,
            "grid_template_columns": null,
            "grid_template_rows": null,
            "height": null,
            "justify_content": null,
            "justify_items": null,
            "left": null,
            "margin": null,
            "max_height": null,
            "max_width": null,
            "min_height": null,
            "min_width": null,
            "object_fit": null,
            "object_position": null,
            "order": null,
            "overflow": null,
            "overflow_x": null,
            "overflow_y": null,
            "padding": null,
            "right": null,
            "top": null,
            "visibility": null,
            "width": null
          }
        },
        "08c6d6b667ed4f35864e6e1b5a4eef1e": {
          "model_module": "@jupyter-widgets/controls",
          "model_name": "DescriptionStyleModel",
          "model_module_version": "1.5.0",
          "state": {
            "_model_module": "@jupyter-widgets/controls",
            "_model_module_version": "1.5.0",
            "_model_name": "DescriptionStyleModel",
            "_view_count": null,
            "_view_module": "@jupyter-widgets/base",
            "_view_module_version": "1.2.0",
            "_view_name": "StyleView",
            "description_width": ""
          }
        },
        "f09ce951564641689e57033874e96799": {
          "model_module": "@jupyter-widgets/controls",
          "model_name": "HBoxModel",
          "model_module_version": "1.5.0",
          "state": {
            "_dom_classes": [],
            "_model_module": "@jupyter-widgets/controls",
            "_model_module_version": "1.5.0",
            "_model_name": "HBoxModel",
            "_view_count": null,
            "_view_module": "@jupyter-widgets/controls",
            "_view_module_version": "1.5.0",
            "_view_name": "HBoxView",
            "box_style": "",
            "children": [
              "IPY_MODEL_0f21deea5f16488f961717977375af41",
              "IPY_MODEL_1556d37349e44186a9cced28bb4dc099",
              "IPY_MODEL_a84ba13564294fd7884a7cbbd249d0ea"
            ],
            "layout": "IPY_MODEL_5d6fb096e0d9480ea17b74dbc804c4ca"
          }
        },
        "0f21deea5f16488f961717977375af41": {
          "model_module": "@jupyter-widgets/controls",
          "model_name": "HTMLModel",
          "model_module_version": "1.5.0",
          "state": {
            "_dom_classes": [],
            "_model_module": "@jupyter-widgets/controls",
            "_model_module_version": "1.5.0",
            "_model_name": "HTMLModel",
            "_view_count": null,
            "_view_module": "@jupyter-widgets/controls",
            "_view_module_version": "1.5.0",
            "_view_name": "HTMLView",
            "description": "",
            "description_tooltip": null,
            "layout": "IPY_MODEL_57bda810b5ce47a0a6e2d5c9ee8639d8",
            "placeholder": "​",
            "style": "IPY_MODEL_bbf46200010940fdaad98d481f81a8ec",
            "value": "100%"
          }
        },
        "1556d37349e44186a9cced28bb4dc099": {
          "model_module": "@jupyter-widgets/controls",
          "model_name": "FloatProgressModel",
          "model_module_version": "1.5.0",
          "state": {
            "_dom_classes": [],
            "_model_module": "@jupyter-widgets/controls",
            "_model_module_version": "1.5.0",
            "_model_name": "FloatProgressModel",
            "_view_count": null,
            "_view_module": "@jupyter-widgets/controls",
            "_view_module_version": "1.5.0",
            "_view_name": "ProgressView",
            "bar_style": "success",
            "description": "",
            "description_tooltip": null,
            "layout": "IPY_MODEL_1363dee7b8f54c86965db870ca51eeed",
            "max": 10,
            "min": 0,
            "orientation": "horizontal",
            "style": "IPY_MODEL_de0bb27e4941410484adac8f21150de5",
            "value": 10
          }
        },
        "a84ba13564294fd7884a7cbbd249d0ea": {
          "model_module": "@jupyter-widgets/controls",
          "model_name": "HTMLModel",
          "model_module_version": "1.5.0",
          "state": {
            "_dom_classes": [],
            "_model_module": "@jupyter-widgets/controls",
            "_model_module_version": "1.5.0",
            "_model_name": "HTMLModel",
            "_view_count": null,
            "_view_module": "@jupyter-widgets/controls",
            "_view_module_version": "1.5.0",
            "_view_name": "HTMLView",
            "description": "",
            "description_tooltip": null,
            "layout": "IPY_MODEL_65f1a6bd0c254cde973dcf6877a1278a",
            "placeholder": "​",
            "style": "IPY_MODEL_5d1e02f98a324beeadf0f23394fd0207",
            "value": " 10/10 [06:12&lt;00:00, 37.05s/it]"
          }
        },
        "5d6fb096e0d9480ea17b74dbc804c4ca": {
          "model_module": "@jupyter-widgets/base",
          "model_name": "LayoutModel",
          "model_module_version": "1.2.0",
          "state": {
            "_model_module": "@jupyter-widgets/base",
            "_model_module_version": "1.2.0",
            "_model_name": "LayoutModel",
            "_view_count": null,
            "_view_module": "@jupyter-widgets/base",
            "_view_module_version": "1.2.0",
            "_view_name": "LayoutView",
            "align_content": null,
            "align_items": null,
            "align_self": null,
            "border": null,
            "bottom": null,
            "display": null,
            "flex": null,
            "flex_flow": null,
            "grid_area": null,
            "grid_auto_columns": null,
            "grid_auto_flow": null,
            "grid_auto_rows": null,
            "grid_column": null,
            "grid_gap": null,
            "grid_row": null,
            "grid_template_areas": null,
            "grid_template_columns": null,
            "grid_template_rows": null,
            "height": null,
            "justify_content": null,
            "justify_items": null,
            "left": null,
            "margin": null,
            "max_height": null,
            "max_width": null,
            "min_height": null,
            "min_width": null,
            "object_fit": null,
            "object_position": null,
            "order": null,
            "overflow": null,
            "overflow_x": null,
            "overflow_y": null,
            "padding": null,
            "right": null,
            "top": null,
            "visibility": null,
            "width": null
          }
        },
        "57bda810b5ce47a0a6e2d5c9ee8639d8": {
          "model_module": "@jupyter-widgets/base",
          "model_name": "LayoutModel",
          "model_module_version": "1.2.0",
          "state": {
            "_model_module": "@jupyter-widgets/base",
            "_model_module_version": "1.2.0",
            "_model_name": "LayoutModel",
            "_view_count": null,
            "_view_module": "@jupyter-widgets/base",
            "_view_module_version": "1.2.0",
            "_view_name": "LayoutView",
            "align_content": null,
            "align_items": null,
            "align_self": null,
            "border": null,
            "bottom": null,
            "display": null,
            "flex": null,
            "flex_flow": null,
            "grid_area": null,
            "grid_auto_columns": null,
            "grid_auto_flow": null,
            "grid_auto_rows": null,
            "grid_column": null,
            "grid_gap": null,
            "grid_row": null,
            "grid_template_areas": null,
            "grid_template_columns": null,
            "grid_template_rows": null,
            "height": null,
            "justify_content": null,
            "justify_items": null,
            "left": null,
            "margin": null,
            "max_height": null,
            "max_width": null,
            "min_height": null,
            "min_width": null,
            "object_fit": null,
            "object_position": null,
            "order": null,
            "overflow": null,
            "overflow_x": null,
            "overflow_y": null,
            "padding": null,
            "right": null,
            "top": null,
            "visibility": null,
            "width": null
          }
        },
        "bbf46200010940fdaad98d481f81a8ec": {
          "model_module": "@jupyter-widgets/controls",
          "model_name": "DescriptionStyleModel",
          "model_module_version": "1.5.0",
          "state": {
            "_model_module": "@jupyter-widgets/controls",
            "_model_module_version": "1.5.0",
            "_model_name": "DescriptionStyleModel",
            "_view_count": null,
            "_view_module": "@jupyter-widgets/base",
            "_view_module_version": "1.2.0",
            "_view_name": "StyleView",
            "description_width": ""
          }
        },
        "1363dee7b8f54c86965db870ca51eeed": {
          "model_module": "@jupyter-widgets/base",
          "model_name": "LayoutModel",
          "model_module_version": "1.2.0",
          "state": {
            "_model_module": "@jupyter-widgets/base",
            "_model_module_version": "1.2.0",
            "_model_name": "LayoutModel",
            "_view_count": null,
            "_view_module": "@jupyter-widgets/base",
            "_view_module_version": "1.2.0",
            "_view_name": "LayoutView",
            "align_content": null,
            "align_items": null,
            "align_self": null,
            "border": null,
            "bottom": null,
            "display": null,
            "flex": null,
            "flex_flow": null,
            "grid_area": null,
            "grid_auto_columns": null,
            "grid_auto_flow": null,
            "grid_auto_rows": null,
            "grid_column": null,
            "grid_gap": null,
            "grid_row": null,
            "grid_template_areas": null,
            "grid_template_columns": null,
            "grid_template_rows": null,
            "height": null,
            "justify_content": null,
            "justify_items": null,
            "left": null,
            "margin": null,
            "max_height": null,
            "max_width": null,
            "min_height": null,
            "min_width": null,
            "object_fit": null,
            "object_position": null,
            "order": null,
            "overflow": null,
            "overflow_x": null,
            "overflow_y": null,
            "padding": null,
            "right": null,
            "top": null,
            "visibility": null,
            "width": null
          }
        },
        "de0bb27e4941410484adac8f21150de5": {
          "model_module": "@jupyter-widgets/controls",
          "model_name": "ProgressStyleModel",
          "model_module_version": "1.5.0",
          "state": {
            "_model_module": "@jupyter-widgets/controls",
            "_model_module_version": "1.5.0",
            "_model_name": "ProgressStyleModel",
            "_view_count": null,
            "_view_module": "@jupyter-widgets/base",
            "_view_module_version": "1.2.0",
            "_view_name": "StyleView",
            "bar_color": null,
            "description_width": ""
          }
        },
        "65f1a6bd0c254cde973dcf6877a1278a": {
          "model_module": "@jupyter-widgets/base",
          "model_name": "LayoutModel",
          "model_module_version": "1.2.0",
          "state": {
            "_model_module": "@jupyter-widgets/base",
            "_model_module_version": "1.2.0",
            "_model_name": "LayoutModel",
            "_view_count": null,
            "_view_module": "@jupyter-widgets/base",
            "_view_module_version": "1.2.0",
            "_view_name": "LayoutView",
            "align_content": null,
            "align_items": null,
            "align_self": null,
            "border": null,
            "bottom": null,
            "display": null,
            "flex": null,
            "flex_flow": null,
            "grid_area": null,
            "grid_auto_columns": null,
            "grid_auto_flow": null,
            "grid_auto_rows": null,
            "grid_column": null,
            "grid_gap": null,
            "grid_row": null,
            "grid_template_areas": null,
            "grid_template_columns": null,
            "grid_template_rows": null,
            "height": null,
            "justify_content": null,
            "justify_items": null,
            "left": null,
            "margin": null,
            "max_height": null,
            "max_width": null,
            "min_height": null,
            "min_width": null,
            "object_fit": null,
            "object_position": null,
            "order": null,
            "overflow": null,
            "overflow_x": null,
            "overflow_y": null,
            "padding": null,
            "right": null,
            "top": null,
            "visibility": null,
            "width": null
          }
        },
        "5d1e02f98a324beeadf0f23394fd0207": {
          "model_module": "@jupyter-widgets/controls",
          "model_name": "DescriptionStyleModel",
          "model_module_version": "1.5.0",
          "state": {
            "_model_module": "@jupyter-widgets/controls",
            "_model_module_version": "1.5.0",
            "_model_name": "DescriptionStyleModel",
            "_view_count": null,
            "_view_module": "@jupyter-widgets/base",
            "_view_module_version": "1.2.0",
            "_view_name": "StyleView",
            "description_width": ""
          }
        }
      }
    }
  },
  "cells": [
    {
      "cell_type": "code",
      "execution_count": null,
      "metadata": {
        "id": "zoE4Sf-b4i9X"
      },
      "outputs": [],
      "source": [
        " !pip install -q torchinfo"
      ]
    },
    {
      "cell_type": "code",
      "execution_count": null,
      "metadata": {
        "id": "hsBSfzoL3QVy"
      },
      "outputs": [],
      "source": [
        "import torch\n",
        "import torchvision\n",
        "import matplotlib.pyplot as plt\n",
        "\n",
        "from torch import nn\n",
        "from torchvision import transforms\n",
        "from torchinfo import summary"
      ]
    },
    {
      "cell_type": "code",
      "execution_count": null,
      "metadata": {
        "colab": {
          "base_uri": "https://localhost:8080/"
        },
        "id": "x_NZi9Y_9ii4",
        "outputId": "b8c921ec-7605-4443-87c5-cf8948981c29"
      },
      "outputs": [
        {
          "output_type": "stream",
          "name": "stdout",
          "text": [
            "[INFO] Couldn't find going_modular scripts... downloading them from GitHub.\n",
            "Cloning into 'pytorch-deep-learning'...\n",
            "remote: Enumerating objects: 4393, done.\u001b[K\n",
            "remote: Total 4393 (delta 0), reused 0 (delta 0), pack-reused 4393 (from 1)\u001b[K\n",
            "Receiving objects: 100% (4393/4393), 764.14 MiB | 20.22 MiB/s, done.\n",
            "Resolving deltas: 100% (2657/2657), done.\n",
            "Updating files: 100% (248/248), done.\n"
          ]
        }
      ],
      "source": [
        "# Get the going_modular scripts\n",
        "print(\"[INFO] Couldn't find going_modular scripts... downloading them from GitHub.\")\n",
        "!git clone https://github.com/mrdbourke/pytorch-deep-learning\n",
        "!mv pytorch-deep-learning/going_modular .\n",
        "!rm -rf pytorch-deep-learning\n",
        "from going_modular.going_modular import data_setup, engine"
      ]
    },
    {
      "cell_type": "code",
      "execution_count": null,
      "metadata": {
        "colab": {
          "base_uri": "https://localhost:8080/",
          "height": 35
        },
        "id": "DPGP-a3wLceP",
        "outputId": "1712f207-76c4-4f3f-a463-b22f25230c79"
      },
      "outputs": [
        {
          "output_type": "execute_result",
          "data": {
            "text/plain": [
              "'cpu'"
            ],
            "application/vnd.google.colaboratory.intrinsic+json": {
              "type": "string"
            }
          },
          "metadata": {},
          "execution_count": 4
        }
      ],
      "source": [
        "device = \"cuda\" if torch.cuda.is_available() else \"cpu\"\n",
        "device"
      ]
    },
    {
      "cell_type": "code",
      "execution_count": null,
      "metadata": {
        "colab": {
          "base_uri": "https://localhost:8080/"
        },
        "id": "HTw82ioIIILi",
        "outputId": "63e0d38a-34a6-4197-a483-347cf56a7585"
      },
      "outputs": [
        {
          "output_type": "stream",
          "name": "stdout",
          "text": [
            "Drive already mounted at /content/drive; to attempt to forcibly remount, call drive.mount(\"/content/drive\", force_remount=True).\n"
          ]
        }
      ],
      "source": [
        "from google.colab import drive\n",
        "drive.mount('/content/drive')"
      ]
    },
    {
      "cell_type": "markdown",
      "metadata": {
        "id": "SAj4GbgwxU5q"
      },
      "source": [
        "# Data path"
      ]
    },
    {
      "cell_type": "code",
      "execution_count": null,
      "metadata": {
        "id": "cWQhtHHz4Fco"
      },
      "outputs": [],
      "source": [
        "import os\n",
        "from pathlib import Path\n",
        "import requests\n",
        "\n",
        "# Setup path to data folder\n",
        "data_path = Path(\"drive/MyDrive/Image_data\")"
      ]
    },
    {
      "cell_type": "markdown",
      "metadata": {
        "id": "l8kV1nCOxlIf"
      },
      "source": [
        "# Train and Test Path\n",
        "\n",
        "---\n",
        "\n"
      ]
    },
    {
      "cell_type": "code",
      "execution_count": null,
      "metadata": {
        "id": "mjtwGC_M6z-t"
      },
      "outputs": [],
      "source": [
        "# Setup Dirs\n",
        "train_dir = data_path / \"train\"\n",
        "test_dir = data_path / \"test\""
      ]
    },
    {
      "cell_type": "markdown",
      "metadata": {
        "id": "N5AqhbKvxxWn"
      },
      "source": [
        "# **SqueezeNet Model**\n",
        "This is the 1.0 version. Which is from the paper"
      ]
    },
    {
      "cell_type": "code",
      "execution_count": null,
      "metadata": {
        "colab": {
          "base_uri": "https://localhost:8080/"
        },
        "id": "WTnjEX_-7B_F",
        "outputId": "42fb305e-cfdc-4c2f-95bb-3675d835ca4f"
      },
      "outputs": [
        {
          "output_type": "execute_result",
          "data": {
            "text/plain": [
              "SqueezeNet1_0_Weights.IMAGENET1K_V1"
            ]
          },
          "metadata": {},
          "execution_count": 8
        }
      ],
      "source": [
        "# Get a set of pretrained model weights\n",
        "weights = torchvision.models.SqueezeNet1_0_Weights.DEFAULT # .DEFAULT = best available weights from pretraining on ImageNet\n",
        "weights"
      ]
    },
    {
      "cell_type": "code",
      "execution_count": null,
      "metadata": {
        "colab": {
          "base_uri": "https://localhost:8080/"
        },
        "id": "GAGDrC2A8fbV",
        "outputId": "717f3834-70a2-4814-869a-80a279fd6748"
      },
      "outputs": [
        {
          "output_type": "execute_result",
          "data": {
            "text/plain": [
              "ImageClassification(\n",
              "    crop_size=[224]\n",
              "    resize_size=[256]\n",
              "    mean=[0.485, 0.456, 0.406]\n",
              "    std=[0.229, 0.224, 0.225]\n",
              "    interpolation=InterpolationMode.BILINEAR\n",
              ")"
            ]
          },
          "metadata": {},
          "execution_count": 9
        }
      ],
      "source": [
        "# Get the transforms used to create our pretrained weights\n",
        "auto_transforms = weights.transforms()\n",
        "auto_transforms"
      ]
    },
    {
      "cell_type": "code",
      "execution_count": null,
      "metadata": {
        "colab": {
          "base_uri": "https://localhost:8080/"
        },
        "id": "5NvLDyyV8jWY",
        "outputId": "ea156da9-9e00-40fb-9f0c-50a440f1bafc"
      },
      "outputs": [
        {
          "output_type": "execute_result",
          "data": {
            "text/plain": [
              "(<torch.utils.data.dataloader.DataLoader at 0x7c3df3c32330>,\n",
              " <torch.utils.data.dataloader.DataLoader at 0x7c3df3982a20>,\n",
              " ['Apple', 'Banana', 'Beans', 'Onion', 'Potato'])"
            ]
          },
          "metadata": {},
          "execution_count": 10
        }
      ],
      "source": [
        "# Create training and testing DataLoaders as well as get a list of class names\n",
        "train_dataloader, test_dataloader, class_names = data_setup.create_dataloaders(train_dir=train_dir,\n",
        "                                                                               test_dir=test_dir,\n",
        "                                                                               transform=auto_transforms, # perform same data transforms on our own data as the pretrained model\n",
        "                                                                               batch_size=32) # set mini-batch size to 32\n",
        "\n",
        "train_dataloader, test_dataloader, class_names"
      ]
    },
    {
      "cell_type": "code",
      "execution_count": null,
      "metadata": {
        "id": "X3vs_UIJ99NR",
        "colab": {
          "base_uri": "https://localhost:8080/"
        },
        "outputId": "94562a32-c3c3-47f4-b309-361a37b0a06a"
      },
      "outputs": [
        {
          "output_type": "stream",
          "name": "stdout",
          "text": [
            "Downloading: \"https://download.pytorch.org/models/squeezenet1_0-b66bff10.pth\" to /root/.cache/torch/hub/checkpoints/squeezenet1_0-b66bff10.pth\n"
          ]
        },
        {
          "output_type": "stream",
          "name": "stderr",
          "text": [
            "100%|██████████| 4.78M/4.78M [00:00<00:00, 17.6MB/s]\n"
          ]
        }
      ],
      "source": [
        "# NEW: Setup the model with pretrained weights and send it to the target device (torchvision v0.13+)\n",
        "model = torchvision.models.squeezenet1_0(weights=weights).to(device)"
      ]
    },
    {
      "cell_type": "code",
      "execution_count": null,
      "metadata": {
        "colab": {
          "base_uri": "https://localhost:8080/"
        },
        "id": "4PAnG1sXAB5B",
        "outputId": "21ed96f8-dd0b-478c-b8b9-2edc18cc2922"
      },
      "outputs": [
        {
          "output_type": "execute_result",
          "data": {
            "text/plain": [
              "=============================================================================================================================\n",
              "Layer (type (var_name))                       Input Shape          Output Shape         Param #              Trainable\n",
              "=============================================================================================================================\n",
              "SqueezeNet (SqueezeNet)                       [32, 3, 224, 224]    [32, 1000]           --                   True\n",
              "├─Sequential (features)                       [32, 3, 224, 224]    [32, 512, 13, 13]    --                   True\n",
              "│    └─Conv2d (0)                             [32, 3, 224, 224]    [32, 96, 109, 109]   14,208               True\n",
              "│    └─ReLU (1)                               [32, 96, 109, 109]   [32, 96, 109, 109]   --                   --\n",
              "│    └─MaxPool2d (2)                          [32, 96, 109, 109]   [32, 96, 54, 54]     --                   --\n",
              "│    └─Fire (3)                               [32, 96, 54, 54]     [32, 128, 54, 54]    --                   True\n",
              "│    │    └─Conv2d (squeeze)                  [32, 96, 54, 54]     [32, 16, 54, 54]     1,552                True\n",
              "│    │    └─ReLU (squeeze_activation)         [32, 16, 54, 54]     [32, 16, 54, 54]     --                   --\n",
              "│    │    └─Conv2d (expand1x1)                [32, 16, 54, 54]     [32, 64, 54, 54]     1,088                True\n",
              "│    │    └─ReLU (expand1x1_activation)       [32, 64, 54, 54]     [32, 64, 54, 54]     --                   --\n",
              "│    │    └─Conv2d (expand3x3)                [32, 16, 54, 54]     [32, 64, 54, 54]     9,280                True\n",
              "│    │    └─ReLU (expand3x3_activation)       [32, 64, 54, 54]     [32, 64, 54, 54]     --                   --\n",
              "│    └─Fire (4)                               [32, 128, 54, 54]    [32, 128, 54, 54]    --                   True\n",
              "│    │    └─Conv2d (squeeze)                  [32, 128, 54, 54]    [32, 16, 54, 54]     2,064                True\n",
              "│    │    └─ReLU (squeeze_activation)         [32, 16, 54, 54]     [32, 16, 54, 54]     --                   --\n",
              "│    │    └─Conv2d (expand1x1)                [32, 16, 54, 54]     [32, 64, 54, 54]     1,088                True\n",
              "│    │    └─ReLU (expand1x1_activation)       [32, 64, 54, 54]     [32, 64, 54, 54]     --                   --\n",
              "│    │    └─Conv2d (expand3x3)                [32, 16, 54, 54]     [32, 64, 54, 54]     9,280                True\n",
              "│    │    └─ReLU (expand3x3_activation)       [32, 64, 54, 54]     [32, 64, 54, 54]     --                   --\n",
              "│    └─Fire (5)                               [32, 128, 54, 54]    [32, 256, 54, 54]    --                   True\n",
              "│    │    └─Conv2d (squeeze)                  [32, 128, 54, 54]    [32, 32, 54, 54]     4,128                True\n",
              "│    │    └─ReLU (squeeze_activation)         [32, 32, 54, 54]     [32, 32, 54, 54]     --                   --\n",
              "│    │    └─Conv2d (expand1x1)                [32, 32, 54, 54]     [32, 128, 54, 54]    4,224                True\n",
              "│    │    └─ReLU (expand1x1_activation)       [32, 128, 54, 54]    [32, 128, 54, 54]    --                   --\n",
              "│    │    └─Conv2d (expand3x3)                [32, 32, 54, 54]     [32, 128, 54, 54]    36,992               True\n",
              "│    │    └─ReLU (expand3x3_activation)       [32, 128, 54, 54]    [32, 128, 54, 54]    --                   --\n",
              "│    └─MaxPool2d (6)                          [32, 256, 54, 54]    [32, 256, 27, 27]    --                   --\n",
              "│    └─Fire (7)                               [32, 256, 27, 27]    [32, 256, 27, 27]    --                   True\n",
              "│    │    └─Conv2d (squeeze)                  [32, 256, 27, 27]    [32, 32, 27, 27]     8,224                True\n",
              "│    │    └─ReLU (squeeze_activation)         [32, 32, 27, 27]     [32, 32, 27, 27]     --                   --\n",
              "│    │    └─Conv2d (expand1x1)                [32, 32, 27, 27]     [32, 128, 27, 27]    4,224                True\n",
              "│    │    └─ReLU (expand1x1_activation)       [32, 128, 27, 27]    [32, 128, 27, 27]    --                   --\n",
              "│    │    └─Conv2d (expand3x3)                [32, 32, 27, 27]     [32, 128, 27, 27]    36,992               True\n",
              "│    │    └─ReLU (expand3x3_activation)       [32, 128, 27, 27]    [32, 128, 27, 27]    --                   --\n",
              "│    └─Fire (8)                               [32, 256, 27, 27]    [32, 384, 27, 27]    --                   True\n",
              "│    │    └─Conv2d (squeeze)                  [32, 256, 27, 27]    [32, 48, 27, 27]     12,336               True\n",
              "│    │    └─ReLU (squeeze_activation)         [32, 48, 27, 27]     [32, 48, 27, 27]     --                   --\n",
              "│    │    └─Conv2d (expand1x1)                [32, 48, 27, 27]     [32, 192, 27, 27]    9,408                True\n",
              "│    │    └─ReLU (expand1x1_activation)       [32, 192, 27, 27]    [32, 192, 27, 27]    --                   --\n",
              "│    │    └─Conv2d (expand3x3)                [32, 48, 27, 27]     [32, 192, 27, 27]    83,136               True\n",
              "│    │    └─ReLU (expand3x3_activation)       [32, 192, 27, 27]    [32, 192, 27, 27]    --                   --\n",
              "│    └─Fire (9)                               [32, 384, 27, 27]    [32, 384, 27, 27]    --                   True\n",
              "│    │    └─Conv2d (squeeze)                  [32, 384, 27, 27]    [32, 48, 27, 27]     18,480               True\n",
              "│    │    └─ReLU (squeeze_activation)         [32, 48, 27, 27]     [32, 48, 27, 27]     --                   --\n",
              "│    │    └─Conv2d (expand1x1)                [32, 48, 27, 27]     [32, 192, 27, 27]    9,408                True\n",
              "│    │    └─ReLU (expand1x1_activation)       [32, 192, 27, 27]    [32, 192, 27, 27]    --                   --\n",
              "│    │    └─Conv2d (expand3x3)                [32, 48, 27, 27]     [32, 192, 27, 27]    83,136               True\n",
              "│    │    └─ReLU (expand3x3_activation)       [32, 192, 27, 27]    [32, 192, 27, 27]    --                   --\n",
              "│    └─Fire (10)                              [32, 384, 27, 27]    [32, 512, 27, 27]    --                   True\n",
              "│    │    └─Conv2d (squeeze)                  [32, 384, 27, 27]    [32, 64, 27, 27]     24,640               True\n",
              "│    │    └─ReLU (squeeze_activation)         [32, 64, 27, 27]     [32, 64, 27, 27]     --                   --\n",
              "│    │    └─Conv2d (expand1x1)                [32, 64, 27, 27]     [32, 256, 27, 27]    16,640               True\n",
              "│    │    └─ReLU (expand1x1_activation)       [32, 256, 27, 27]    [32, 256, 27, 27]    --                   --\n",
              "│    │    └─Conv2d (expand3x3)                [32, 64, 27, 27]     [32, 256, 27, 27]    147,712              True\n",
              "│    │    └─ReLU (expand3x3_activation)       [32, 256, 27, 27]    [32, 256, 27, 27]    --                   --\n",
              "│    └─MaxPool2d (11)                         [32, 512, 27, 27]    [32, 512, 13, 13]    --                   --\n",
              "│    └─Fire (12)                              [32, 512, 13, 13]    [32, 512, 13, 13]    --                   True\n",
              "│    │    └─Conv2d (squeeze)                  [32, 512, 13, 13]    [32, 64, 13, 13]     32,832               True\n",
              "│    │    └─ReLU (squeeze_activation)         [32, 64, 13, 13]     [32, 64, 13, 13]     --                   --\n",
              "│    │    └─Conv2d (expand1x1)                [32, 64, 13, 13]     [32, 256, 13, 13]    16,640               True\n",
              "│    │    └─ReLU (expand1x1_activation)       [32, 256, 13, 13]    [32, 256, 13, 13]    --                   --\n",
              "│    │    └─Conv2d (expand3x3)                [32, 64, 13, 13]     [32, 256, 13, 13]    147,712              True\n",
              "│    │    └─ReLU (expand3x3_activation)       [32, 256, 13, 13]    [32, 256, 13, 13]    --                   --\n",
              "├─Sequential (classifier)                     [32, 512, 13, 13]    [32, 1000, 1, 1]     --                   True\n",
              "│    └─Dropout (0)                            [32, 512, 13, 13]    [32, 512, 13, 13]    --                   --\n",
              "│    └─Conv2d (1)                             [32, 512, 13, 13]    [32, 1000, 13, 13]   513,000              True\n",
              "│    └─ReLU (2)                               [32, 1000, 13, 13]   [32, 1000, 13, 13]   --                   --\n",
              "│    └─AdaptiveAvgPool2d (3)                  [32, 1000, 13, 13]   [32, 1000, 1, 1]     --                   --\n",
              "=============================================================================================================================\n",
              "Total params: 1,248,424\n",
              "Trainable params: 1,248,424\n",
              "Non-trainable params: 0\n",
              "Total mult-adds (Units.GIGABYTES): 26.34\n",
              "=============================================================================================================================\n",
              "Input size (MB): 19.27\n",
              "Forward/backward pass size (MB): 1112.64\n",
              "Params size (MB): 4.99\n",
              "Estimated Total Size (MB): 1136.90\n",
              "============================================================================================================================="
            ]
          },
          "metadata": {},
          "execution_count": 12
        }
      ],
      "source": [
        "# Print a summary using torchinfo (uncomment for actual output)\n",
        "summary(model=model,\n",
        "        input_size=(32, 3, 224, 224), # make sure this is \"input_size\", not \"input_shape\"\n",
        "        # col_names=[\"input_size\"], # uncomment for smaller output\n",
        "        col_names=[\"input_size\", \"output_size\", \"num_params\", \"trainable\"],\n",
        "        col_width=20,\n",
        "        row_settings=[\"var_names\"]\n",
        ")"
      ]
    },
    {
      "cell_type": "code",
      "execution_count": null,
      "metadata": {
        "id": "psEuEzzCAIdh"
      },
      "outputs": [],
      "source": [
        "# Freeze all base layers in the \"features\" section of the model (the feature extractor) by setting requires_grad=False\n",
        "for param in model.features.parameters():\n",
        "    param.requires_grad = False\n"
      ]
    },
    {
      "cell_type": "code",
      "execution_count": null,
      "metadata": {
        "id": "tfM7rjrTCOk1"
      },
      "outputs": [],
      "source": [
        "# Recreate the classifier layer and seed it to the target device\n",
        "model.classifier = nn.Sequential(\n",
        "    nn.Dropout(p=0.5), # Original SqueezeNet has dropout before the last conv layer\n",
        "    nn.Conv2d(512, len(class_names), kernel_size=1), # Replace the original last conv layer\n",
        "    nn.ReLU(inplace=True),\n",
        "    nn.AdaptiveAvgPool2d(1) # Add AdaptiveAvgPool2d to flatten the output, only provide the positional argument for output_size\n",
        ").to(device)"
      ]
    },
    {
      "cell_type": "code",
      "execution_count": null,
      "metadata": {
        "colab": {
          "base_uri": "https://localhost:8080/"
        },
        "id": "aNDpqj0ZC5cT",
        "outputId": "1b4a447a-84bf-4eb9-a668-48486fd8c048"
      },
      "outputs": [
        {
          "output_type": "execute_result",
          "data": {
            "text/plain": [
              "=============================================================================================================================\n",
              "Layer (type (var_name))                       Input Shape          Output Shape         Param #              Trainable\n",
              "=============================================================================================================================\n",
              "SqueezeNet (SqueezeNet)                       [32, 3, 224, 224]    [32, 5]              --                   Partial\n",
              "├─Sequential (features)                       [32, 3, 224, 224]    [32, 512, 13, 13]    --                   False\n",
              "│    └─Conv2d (0)                             [32, 3, 224, 224]    [32, 96, 109, 109]   (14,208)             False\n",
              "│    └─ReLU (1)                               [32, 96, 109, 109]   [32, 96, 109, 109]   --                   --\n",
              "│    └─MaxPool2d (2)                          [32, 96, 109, 109]   [32, 96, 54, 54]     --                   --\n",
              "│    └─Fire (3)                               [32, 96, 54, 54]     [32, 128, 54, 54]    --                   False\n",
              "│    │    └─Conv2d (squeeze)                  [32, 96, 54, 54]     [32, 16, 54, 54]     (1,552)              False\n",
              "│    │    └─ReLU (squeeze_activation)         [32, 16, 54, 54]     [32, 16, 54, 54]     --                   --\n",
              "│    │    └─Conv2d (expand1x1)                [32, 16, 54, 54]     [32, 64, 54, 54]     (1,088)              False\n",
              "│    │    └─ReLU (expand1x1_activation)       [32, 64, 54, 54]     [32, 64, 54, 54]     --                   --\n",
              "│    │    └─Conv2d (expand3x3)                [32, 16, 54, 54]     [32, 64, 54, 54]     (9,280)              False\n",
              "│    │    └─ReLU (expand3x3_activation)       [32, 64, 54, 54]     [32, 64, 54, 54]     --                   --\n",
              "│    └─Fire (4)                               [32, 128, 54, 54]    [32, 128, 54, 54]    --                   False\n",
              "│    │    └─Conv2d (squeeze)                  [32, 128, 54, 54]    [32, 16, 54, 54]     (2,064)              False\n",
              "│    │    └─ReLU (squeeze_activation)         [32, 16, 54, 54]     [32, 16, 54, 54]     --                   --\n",
              "│    │    └─Conv2d (expand1x1)                [32, 16, 54, 54]     [32, 64, 54, 54]     (1,088)              False\n",
              "│    │    └─ReLU (expand1x1_activation)       [32, 64, 54, 54]     [32, 64, 54, 54]     --                   --\n",
              "│    │    └─Conv2d (expand3x3)                [32, 16, 54, 54]     [32, 64, 54, 54]     (9,280)              False\n",
              "│    │    └─ReLU (expand3x3_activation)       [32, 64, 54, 54]     [32, 64, 54, 54]     --                   --\n",
              "│    └─Fire (5)                               [32, 128, 54, 54]    [32, 256, 54, 54]    --                   False\n",
              "│    │    └─Conv2d (squeeze)                  [32, 128, 54, 54]    [32, 32, 54, 54]     (4,128)              False\n",
              "│    │    └─ReLU (squeeze_activation)         [32, 32, 54, 54]     [32, 32, 54, 54]     --                   --\n",
              "│    │    └─Conv2d (expand1x1)                [32, 32, 54, 54]     [32, 128, 54, 54]    (4,224)              False\n",
              "│    │    └─ReLU (expand1x1_activation)       [32, 128, 54, 54]    [32, 128, 54, 54]    --                   --\n",
              "│    │    └─Conv2d (expand3x3)                [32, 32, 54, 54]     [32, 128, 54, 54]    (36,992)             False\n",
              "│    │    └─ReLU (expand3x3_activation)       [32, 128, 54, 54]    [32, 128, 54, 54]    --                   --\n",
              "│    └─MaxPool2d (6)                          [32, 256, 54, 54]    [32, 256, 27, 27]    --                   --\n",
              "│    └─Fire (7)                               [32, 256, 27, 27]    [32, 256, 27, 27]    --                   False\n",
              "│    │    └─Conv2d (squeeze)                  [32, 256, 27, 27]    [32, 32, 27, 27]     (8,224)              False\n",
              "│    │    └─ReLU (squeeze_activation)         [32, 32, 27, 27]     [32, 32, 27, 27]     --                   --\n",
              "│    │    └─Conv2d (expand1x1)                [32, 32, 27, 27]     [32, 128, 27, 27]    (4,224)              False\n",
              "│    │    └─ReLU (expand1x1_activation)       [32, 128, 27, 27]    [32, 128, 27, 27]    --                   --\n",
              "│    │    └─Conv2d (expand3x3)                [32, 32, 27, 27]     [32, 128, 27, 27]    (36,992)             False\n",
              "│    │    └─ReLU (expand3x3_activation)       [32, 128, 27, 27]    [32, 128, 27, 27]    --                   --\n",
              "│    └─Fire (8)                               [32, 256, 27, 27]    [32, 384, 27, 27]    --                   False\n",
              "│    │    └─Conv2d (squeeze)                  [32, 256, 27, 27]    [32, 48, 27, 27]     (12,336)             False\n",
              "│    │    └─ReLU (squeeze_activation)         [32, 48, 27, 27]     [32, 48, 27, 27]     --                   --\n",
              "│    │    └─Conv2d (expand1x1)                [32, 48, 27, 27]     [32, 192, 27, 27]    (9,408)              False\n",
              "│    │    └─ReLU (expand1x1_activation)       [32, 192, 27, 27]    [32, 192, 27, 27]    --                   --\n",
              "│    │    └─Conv2d (expand3x3)                [32, 48, 27, 27]     [32, 192, 27, 27]    (83,136)             False\n",
              "│    │    └─ReLU (expand3x3_activation)       [32, 192, 27, 27]    [32, 192, 27, 27]    --                   --\n",
              "│    └─Fire (9)                               [32, 384, 27, 27]    [32, 384, 27, 27]    --                   False\n",
              "│    │    └─Conv2d (squeeze)                  [32, 384, 27, 27]    [32, 48, 27, 27]     (18,480)             False\n",
              "│    │    └─ReLU (squeeze_activation)         [32, 48, 27, 27]     [32, 48, 27, 27]     --                   --\n",
              "│    │    └─Conv2d (expand1x1)                [32, 48, 27, 27]     [32, 192, 27, 27]    (9,408)              False\n",
              "│    │    └─ReLU (expand1x1_activation)       [32, 192, 27, 27]    [32, 192, 27, 27]    --                   --\n",
              "│    │    └─Conv2d (expand3x3)                [32, 48, 27, 27]     [32, 192, 27, 27]    (83,136)             False\n",
              "│    │    └─ReLU (expand3x3_activation)       [32, 192, 27, 27]    [32, 192, 27, 27]    --                   --\n",
              "│    └─Fire (10)                              [32, 384, 27, 27]    [32, 512, 27, 27]    --                   False\n",
              "│    │    └─Conv2d (squeeze)                  [32, 384, 27, 27]    [32, 64, 27, 27]     (24,640)             False\n",
              "│    │    └─ReLU (squeeze_activation)         [32, 64, 27, 27]     [32, 64, 27, 27]     --                   --\n",
              "│    │    └─Conv2d (expand1x1)                [32, 64, 27, 27]     [32, 256, 27, 27]    (16,640)             False\n",
              "│    │    └─ReLU (expand1x1_activation)       [32, 256, 27, 27]    [32, 256, 27, 27]    --                   --\n",
              "│    │    └─Conv2d (expand3x3)                [32, 64, 27, 27]     [32, 256, 27, 27]    (147,712)            False\n",
              "│    │    └─ReLU (expand3x3_activation)       [32, 256, 27, 27]    [32, 256, 27, 27]    --                   --\n",
              "│    └─MaxPool2d (11)                         [32, 512, 27, 27]    [32, 512, 13, 13]    --                   --\n",
              "│    └─Fire (12)                              [32, 512, 13, 13]    [32, 512, 13, 13]    --                   False\n",
              "│    │    └─Conv2d (squeeze)                  [32, 512, 13, 13]    [32, 64, 13, 13]     (32,832)             False\n",
              "│    │    └─ReLU (squeeze_activation)         [32, 64, 13, 13]     [32, 64, 13, 13]     --                   --\n",
              "│    │    └─Conv2d (expand1x1)                [32, 64, 13, 13]     [32, 256, 13, 13]    (16,640)             False\n",
              "│    │    └─ReLU (expand1x1_activation)       [32, 256, 13, 13]    [32, 256, 13, 13]    --                   --\n",
              "│    │    └─Conv2d (expand3x3)                [32, 64, 13, 13]     [32, 256, 13, 13]    (147,712)            False\n",
              "│    │    └─ReLU (expand3x3_activation)       [32, 256, 13, 13]    [32, 256, 13, 13]    --                   --\n",
              "├─Sequential (classifier)                     [32, 512, 13, 13]    [32, 5, 1, 1]        --                   True\n",
              "│    └─Dropout (0)                            [32, 512, 13, 13]    [32, 512, 13, 13]    --                   --\n",
              "│    └─Conv2d (1)                             [32, 512, 13, 13]    [32, 5, 13, 13]      2,565                True\n",
              "│    └─ReLU (2)                               [32, 5, 13, 13]      [32, 5, 13, 13]      --                   --\n",
              "│    └─AdaptiveAvgPool2d (3)                  [32, 5, 13, 13]      [32, 5, 1, 1]        --                   --\n",
              "=============================================================================================================================\n",
              "Total params: 737,989\n",
              "Trainable params: 2,565\n",
              "Non-trainable params: 735,424\n",
              "Total mult-adds (Units.GIGABYTES): 23.58\n",
              "=============================================================================================================================\n",
              "Input size (MB): 19.27\n",
              "Forward/backward pass size (MB): 1069.59\n",
              "Params size (MB): 2.95\n",
              "Estimated Total Size (MB): 1091.81\n",
              "============================================================================================================================="
            ]
          },
          "metadata": {},
          "execution_count": 15
        }
      ],
      "source": [
        "# # Do a summary *after* freezing the features and changing the output classifier layer (uncomment for actual output)\n",
        "summary(model,\n",
        "        input_size=(32, 3, 224, 224),\n",
        "        verbose=0,\n",
        "        col_names=[\"input_size\", \"output_size\", \"num_params\", \"trainable\"],\n",
        "        col_width=20,\n",
        "        row_settings=[\"var_names\"]\n",
        ")"
      ]
    },
    {
      "cell_type": "code",
      "execution_count": null,
      "metadata": {
        "id": "dohE9uBEaApo"
      },
      "outputs": [],
      "source": [
        "loss_fn = nn.CrossEntropyLoss()\n",
        "optimizer = torch.optim.Adam(model.parameters(), lr=0.001)"
      ]
    },
    {
      "cell_type": "code",
      "execution_count": null,
      "metadata": {
        "colab": {
          "base_uri": "https://localhost:8080/",
          "height": 277,
          "referenced_widgets": [
            "526cf27eecfe453e843170af1c03b097",
            "a26b6fbea2654608976a12f20cb61863",
            "2f3bbba11766414cab6890e769e5c03c",
            "c5d916c4eaf84aedb50f384fa59c4bc0",
            "62af32129de744edbc1d65386751669a",
            "5bb4871b4acf440685a2cb493ff02338",
            "ad140a1632d140a9b51ffba36256e9f3",
            "e6f0c63764eb47e0a3860ebac9a0d844",
            "17fd26880e2644f79ae2f53c2dbe3b8d",
            "e02d174626454823a5b94532b07c0fda",
            "eb613393296f4569a111aa02b571e1d7"
          ]
        },
        "id": "_IhTozOsaApo",
        "outputId": "51917996-bcac-4ada-bb57-827a620583ae"
      },
      "outputs": [
        {
          "output_type": "display_data",
          "data": {
            "text/plain": [
              "  0%|          | 0/10 [00:00<?, ?it/s]"
            ],
            "application/vnd.jupyter.widget-view+json": {
              "version_major": 2,
              "version_minor": 0,
              "model_id": "526cf27eecfe453e843170af1c03b097"
            }
          },
          "metadata": {}
        },
        {
          "output_type": "stream",
          "name": "stderr",
          "text": [
            "/usr/local/lib/python3.12/dist-packages/torch/utils/data/dataloader.py:666: UserWarning: 'pin_memory' argument is set as true but no accelerator is found, then device pinned memory won't be used.\n",
            "  warnings.warn(warn_msg)\n"
          ]
        },
        {
          "output_type": "stream",
          "name": "stdout",
          "text": [
            "Epoch: 1 | train_loss: 1.0431 | train_acc: 0.6713 | test_loss: 0.3927 | test_acc: 0.9453\n",
            "Epoch: 2 | train_loss: 0.2142 | train_acc: 0.9623 | test_loss: 0.1082 | test_acc: 0.9688\n",
            "Epoch: 3 | train_loss: 0.1015 | train_acc: 0.9774 | test_loss: 0.0555 | test_acc: 1.0000\n",
            "Epoch: 4 | train_loss: 0.0656 | train_acc: 0.9881 | test_loss: 0.0408 | test_acc: 1.0000\n",
            "Epoch: 5 | train_loss: 0.0542 | train_acc: 0.9860 | test_loss: 0.0295 | test_acc: 1.0000\n",
            "Epoch: 6 | train_loss: 0.0378 | train_acc: 0.9946 | test_loss: 0.0271 | test_acc: 1.0000\n",
            "Epoch: 7 | train_loss: 0.0260 | train_acc: 0.9978 | test_loss: 0.0226 | test_acc: 1.0000\n",
            "Epoch: 8 | train_loss: 0.0215 | train_acc: 0.9989 | test_loss: 0.0190 | test_acc: 1.0000\n",
            "Epoch: 9 | train_loss: 0.0185 | train_acc: 0.9989 | test_loss: 0.0162 | test_acc: 1.0000\n",
            "Epoch: 10 | train_loss: 0.0157 | train_acc: 1.0000 | test_loss: 0.0150 | test_acc: 1.0000\n"
          ]
        }
      ],
      "source": [
        "# Add a random seed for reproducibility\n",
        "torch.manual_seed(42)\n",
        "torch.cuda.manual_seed(42)\n",
        "\n",
        "results = engine.train(model=model,\n",
        "                       train_dataloader=train_dataloader,\n",
        "                       test_dataloader=test_dataloader,\n",
        "                       optimizer=optimizer,\n",
        "                       loss_fn=loss_fn,\n",
        "                       epochs=10,\n",
        "                       device=device)"
      ]
    },
    {
      "cell_type": "markdown",
      "metadata": {
        "id": "U2xm8Kkgz6A1"
      },
      "source": [
        "# **Creating Confusion**"
      ]
    },
    {
      "cell_type": "code",
      "execution_count": null,
      "metadata": {
        "colab": {
          "base_uri": "https://localhost:8080/",
          "height": 104,
          "referenced_widgets": [
            "575c952b5ffd478ab0ce2ddb2bab46f5",
            "bcb1211367e34005b327652689ef6c22",
            "04ff192fb74a479bbbab7f2a31bb7b18",
            "04bdae0cc7f446d6b6fc3db68cb37825",
            "5c06b735c1794e4da503fece27fda9a6",
            "e405e759f3694781a51aa83d7f50917c",
            "a3141983dcae4f2cb1aa5b8007255f42",
            "6fb13265794244be9383cba272f4d494",
            "a97c3f29a9034d0485d791defcc8bbed",
            "dd9cce7cef2d4e35bb931cd726d25782",
            "c4b999768b7647c0ba74d031e2e8e2f1"
          ]
        },
        "id": "EBCXofwCTrX1",
        "outputId": "0c7f5df7-4d37-422f-8947-a153621ddb66"
      },
      "outputs": [
        {
          "output_type": "display_data",
          "data": {
            "text/plain": [
              "Making predictions:   0%|          | 0/4 [00:00<?, ?it/s]"
            ],
            "application/vnd.jupyter.widget-view+json": {
              "version_major": 2,
              "version_minor": 0,
              "model_id": "575c952b5ffd478ab0ce2ddb2bab46f5"
            }
          },
          "metadata": {}
        },
        {
          "output_type": "stream",
          "name": "stderr",
          "text": [
            "/usr/local/lib/python3.12/dist-packages/torch/utils/data/dataloader.py:666: UserWarning: 'pin_memory' argument is set as true but no accelerator is found, then device pinned memory won't be used.\n",
            "  warnings.warn(warn_msg)\n"
          ]
        }
      ],
      "source": [
        "# Import tqdm for progress bar\n",
        "from tqdm.auto import tqdm\n",
        "\n",
        "# 1. Make predictions with trained model\n",
        "y_preds = []\n",
        "model.eval()\n",
        "with torch.inference_mode():\n",
        "  for X, y in tqdm(test_dataloader, desc=\"Making predictions\"):\n",
        "    # Send data and targets to target device\n",
        "    X, y = X.to(device), y.to(device)\n",
        "    # Do the forward pass\n",
        "    y_logit = model(X)\n",
        "    # Turn predictions from logits -> prediction probabilities -> predictions labels\n",
        "    y_pred = torch.softmax(y_logit, dim=1).argmax(dim=1) # note: perform softmax on the \"logits\" dimension, not \"batch\" dimension (in this case we have a batch size of 32, so can perform on dim=1)\n",
        "    # Put predictions on CPU for evaluation\n",
        "    y_preds.extend(y_pred.cpu().tolist())\n",
        "# Concatenate list of predictions into a tensor\n",
        "y_pred_tensor = torch.tensor(y_preds, device = device)"
      ]
    },
    {
      "cell_type": "code",
      "execution_count": null,
      "metadata": {
        "colab": {
          "base_uri": "https://localhost:8080/"
        },
        "id": "Gmkq7r1JKawn",
        "outputId": "4fac7a51-44a9-4520-e355-a18e5807eea2"
      },
      "outputs": [
        {
          "output_type": "stream",
          "name": "stdout",
          "text": [
            "\u001b[?25l   \u001b[90m━━━━━━━━━━━━━━━━━━━━━━━━━━━━━━━━━━━━━━━━\u001b[0m \u001b[32m0.0/983.2 kB\u001b[0m \u001b[31m?\u001b[0m eta \u001b[36m-:--:--\u001b[0m\r\u001b[2K   \u001b[91m━━━━━━━━━━━━━━━━━━━━━━━\u001b[0m\u001b[91m╸\u001b[0m\u001b[90m━━━━━━━━━━━━━━━━\u001b[0m \u001b[32m583.7/983.2 kB\u001b[0m \u001b[31m17.4 MB/s\u001b[0m eta \u001b[36m0:00:01\u001b[0m\r\u001b[2K   \u001b[90m━━━━━━━━━━━━━━━━━━━━━━━━━━━━━━━━━━━━━━━━\u001b[0m \u001b[32m983.2/983.2 kB\u001b[0m \u001b[31m17.2 MB/s\u001b[0m eta \u001b[36m0:00:00\u001b[0m\n",
            "\u001b[?25hmlxtend version: 0.23.4\n"
          ]
        }
      ],
      "source": [
        "# See if torchmetrics exists, if not, install it\n",
        "try:\n",
        "    import torchmetrics, mlxtend\n",
        "    print(f\"mlxtend version: {mlxtend.__version__}\")\n",
        "    assert int(mlxtend.__version__.split(\".\")[1]) >= 19, \"mlxtend verison should be 0.19.0 or higher\"\n",
        "except:\n",
        "    !pip install -q torchmetrics -U mlxtend # <- Note: If you're using Google Colab, this may require restarting the runtime\n",
        "    import torchmetrics, mlxtend\n",
        "    print(f\"mlxtend version: {mlxtend.__version__}\")"
      ]
    },
    {
      "cell_type": "code",
      "execution_count": null,
      "metadata": {
        "colab": {
          "base_uri": "https://localhost:8080/"
        },
        "id": "rDOmI-Jtc28h",
        "outputId": "8ca2d9e7-14e7-4901-e67f-30a780f35810"
      },
      "outputs": [
        {
          "output_type": "stream",
          "name": "stdout",
          "text": [
            "0.23.4\n"
          ]
        }
      ],
      "source": [
        "# Import mlxtend upgraded version\n",
        "import mlxtend\n",
        "print(mlxtend.__version__)\n",
        "assert int(mlxtend.__version__.split(\".\")[1]) >= 19 # should be version 0.19.0 or higher"
      ]
    },
    {
      "cell_type": "code",
      "execution_count": null,
      "metadata": {
        "id": "PA8V0J4seg9Y"
      },
      "outputs": [],
      "source": [
        "from torchvision import datasets\n",
        "test_data = datasets.ImageFolder(root=test_dir,\n",
        "                                 transform=auto_transforms)"
      ]
    },
    {
      "cell_type": "code",
      "execution_count": null,
      "metadata": {
        "colab": {
          "base_uri": "https://localhost:8080/"
        },
        "id": "Q6qhF5TAfen2",
        "outputId": "f7eb68dd-bc43-4af5-93ce-53a6f49f6024"
      },
      "outputs": [
        {
          "output_type": "execute_result",
          "data": {
            "text/plain": [
              "['Apple', 'Banana', 'Bean', 'Onion', 'Potato']"
            ]
          },
          "metadata": {},
          "execution_count": 22
        }
      ],
      "source": [
        "class_names = test_data.classes\n",
        "class_names"
      ]
    },
    {
      "cell_type": "code",
      "execution_count": null,
      "metadata": {
        "colab": {
          "base_uri": "https://localhost:8080/",
          "height": 652
        },
        "id": "7wwXtnm3dL8h",
        "outputId": "5018d984-5c54-4924-de36-3c4c47de9a85"
      },
      "outputs": [
        {
          "output_type": "display_data",
          "data": {
            "text/plain": [
              "<Figure size 1000x700 with 1 Axes>"
            ],
            "image/png": "[encoded data removed]"
          },
          "metadata": {}
        }
      ],
      "source": [
        "from torchmetrics import ConfusionMatrix\n",
        "from mlxtend.plotting import plot_confusion_matrix\n",
        "\n",
        "\n",
        "# 2. Setup confusion matrix instance and compare predictions to targets\n",
        "confmat = ConfusionMatrix(num_classes=len(class_names), task='multiclass')\n",
        "confmat_tensor = confmat(preds=y_pred_tensor.to(confmat.device),\n",
        "                         target=torch.tensor(test_data.targets).to(confmat.device))\n",
        "\n",
        "confmat_normalized = confmat_tensor / confmat_tensor.sum(axis=1, keepdims=True) * 100\n",
        "# 3. Plot the confusion matrix\n",
        "fig, ax = plot_confusion_matrix(\n",
        "    conf_mat=confmat_normalized.numpy(), # matplotlib likes working with NumPy\n",
        "    class_names=class_names, # turn the row and column labels into class names\n",
        "    figsize=(10, 7),\n",
        ");"
      ]
    },
    {
      "cell_type": "code",
      "execution_count": null,
      "metadata": {
        "colab": {
          "base_uri": "https://localhost:8080/",
          "height": 658
        },
        "id": "W4X96TeFQbsP",
        "outputId": "cc0217c0-b62b-4826-d787-65f73d36c820"
      },
      "outputs": [
        {
          "output_type": "stream",
          "name": "stdout",
          "text": [
            "[INFO] Couldn't find helper_functions.py, downloading...\n"
          ]
        },
        {
          "output_type": "display_data",
          "data": {
            "text/plain": [
              "<Figure size 1500x700 with 2 Axes>"
            ],
            "image/png": "[encoded data removed]"
          },
          "metadata": {}
        }
      ],
      "source": [
        "# Get the plot_loss_curves() function from helper_functions.py, download the file if we don't have it\n",
        "try:\n",
        "    from helper_functions import plot_loss_curves\n",
        "except:\n",
        "    print(\"[INFO] Couldn't find helper_functions.py, downloading...\")\n",
        "    with open(\"helper_functions.py\", \"wb\") as f:\n",
        "        import requests\n",
        "        request = requests.get(\"https://raw.githubusercontent.com/mrdbourke/pytorch-deep-learning/main/helper_functions.py\")\n",
        "        f.write(request.content)\n",
        "    from helper_functions import plot_loss_curves\n",
        "\n",
        "# Plot the loss curves of our model\n",
        "plot_loss_curves(results)"
      ]
    },
    {
      "cell_type": "code",
      "execution_count": null,
      "metadata": {
        "colab": {
          "base_uri": "https://localhost:8080/"
        },
        "id": "_5GW3nl76Awn",
        "outputId": "df41084b-84e0-4323-dfc6-26f64d15fb08"
      },
      "outputs": [
        {
          "output_type": "stream",
          "name": "stdout",
          "text": [
            "              precision    recall  f1-score   support\n",
            "\n",
            "       Apple    1.00000   1.00000   1.00000        20\n",
            "      Banana    1.00000   1.00000   1.00000        20\n",
            "        Bean    1.00000   1.00000   1.00000        20\n",
            "       Onion    1.00000   1.00000   1.00000        20\n",
            "      Potato    1.00000   1.00000   1.00000        20\n",
            "\n",
            "    accuracy                        1.00000       100\n",
            "   macro avg    1.00000   1.00000   1.00000       100\n",
            "weighted avg    1.00000   1.00000   1.00000       100\n",
            "\n"
          ]
        }
      ],
      "source": [
        "from sklearn.metrics import classification_report\n",
        "print(classification_report(torch.tensor(test_data.targets).cpu(), torch.tensor(y_preds).cpu(), target_names=class_names, digits=5))"
      ]
    },
    {
      "cell_type": "markdown",
      "metadata": {
        "id": "oV6Q4LeQCFYZ"
      },
      "source": [
        "# **MobileNetV2**\n",
        "\n",
        "\n",
        "---\n",
        "\n",
        "\n",
        "\n",
        "---\n",
        "\n",
        "\n",
        "\n",
        "---\n",
        "\n"
      ]
    },
    {
      "cell_type": "code",
      "execution_count": null,
      "metadata": {
        "colab": {
          "base_uri": "https://localhost:8080/"
        },
        "id": "hlnO7Ag-CiVx",
        "outputId": "7ef2103d-d591-433a-e2c1-78617174b7dc"
      },
      "outputs": [
        {
          "output_type": "execute_result",
          "data": {
            "text/plain": [
              "MobileNet_V2_Weights.IMAGENET1K_V2"
            ]
          },
          "metadata": {},
          "execution_count": 26
        }
      ],
      "source": [
        "# Get a set of pretrained model weights\n",
        "weights = torchvision.models.MobileNet_V2_Weights.DEFAULT # .DEFAULT = best available weights from pretraining on ImageNet\n",
        "weights"
      ]
    },
    {
      "cell_type": "code",
      "execution_count": null,
      "metadata": {
        "colab": {
          "base_uri": "https://localhost:8080/"
        },
        "id": "oUIH9OqWCiVx",
        "outputId": "5439b2ab-05ab-47b1-9d6d-5d4cfbfa0b18"
      },
      "outputs": [
        {
          "output_type": "execute_result",
          "data": {
            "text/plain": [
              "ImageClassification(\n",
              "    crop_size=[224]\n",
              "    resize_size=[232]\n",
              "    mean=[0.485, 0.456, 0.406]\n",
              "    std=[0.229, 0.224, 0.225]\n",
              "    interpolation=InterpolationMode.BILINEAR\n",
              ")"
            ]
          },
          "metadata": {},
          "execution_count": 27
        }
      ],
      "source": [
        "# Get the transforms used to create our pretrained weights\n",
        "auto_transforms = weights.transforms()\n",
        "auto_transforms"
      ]
    },
    {
      "cell_type": "code",
      "execution_count": null,
      "metadata": {
        "colab": {
          "base_uri": "https://localhost:8080/"
        },
        "id": "_Kw97ojGCiVy",
        "outputId": "b021b120-20c2-46dc-b4db-394e4547fa16"
      },
      "outputs": [
        {
          "output_type": "execute_result",
          "data": {
            "text/plain": [
              "(<torch.utils.data.dataloader.DataLoader at 0x7c3dc8f7fdd0>,\n",
              " <torch.utils.data.dataloader.DataLoader at 0x7c3dc967ccb0>,\n",
              " ['Apple', 'Banana', 'Beans', 'Onion', 'Potato'])"
            ]
          },
          "metadata": {},
          "execution_count": 28
        }
      ],
      "source": [
        "# Create training and testing DataLoaders as well as get a list of class names\n",
        "train_dataloader, test_dataloader, class_names = data_setup.create_dataloaders(train_dir=train_dir,\n",
        "                                                                               test_dir=test_dir,\n",
        "                                                                               transform=auto_transforms, # perform same data transforms on our own data as the pretrained model\n",
        "                                                                               batch_size=32) # set mini-batch size to 32\n",
        "\n",
        "train_dataloader, test_dataloader, class_names"
      ]
    },
    {
      "cell_type": "code",
      "execution_count": null,
      "metadata": {
        "colab": {
          "base_uri": "https://localhost:8080/"
        },
        "id": "NSxZvZUSCiVy",
        "outputId": "49a464e7-72bc-4ce8-8eb2-f9d4f5037045"
      },
      "outputs": [
        {
          "output_type": "stream",
          "name": "stdout",
          "text": [
            "Downloading: \"https://download.pytorch.org/models/mobilenet_v2-7ebf99e0.pth\" to /root/.cache/torch/hub/checkpoints/mobilenet_v2-7ebf99e0.pth\n"
          ]
        },
        {
          "output_type": "stream",
          "name": "stderr",
          "text": [
            "100%|██████████| 13.6M/13.6M [00:00<00:00, 80.6MB/s]\n"
          ]
        }
      ],
      "source": [
        "# NEW: Setup the model with pretrained weights and send it to the target device (torchvision v0.13+)\n",
        "model = torchvision.models.mobilenet_v2(weights=weights).to(device)"
      ]
    },
    {
      "cell_type": "code",
      "execution_count": null,
      "metadata": {
        "colab": {
          "base_uri": "https://localhost:8080/"
        },
        "id": "RVw4lGbnCiVz",
        "outputId": "a98e3611-c6b0-44a6-eef1-097e613a5f9f"
      },
      "outputs": [
        {
          "output_type": "execute_result",
          "data": {
            "text/plain": [
              "=============================================================================================================================\n",
              "Layer (type (var_name))                       Input Shape          Output Shape         Param #              Trainable\n",
              "=============================================================================================================================\n",
              "MobileNetV2 (MobileNetV2)                     [32, 3, 224, 224]    [32, 1000]           --                   True\n",
              "├─Sequential (features)                       [32, 3, 224, 224]    [32, 1280, 7, 7]     --                   True\n",
              "│    └─Conv2dNormActivation (0)               [32, 3, 224, 224]    [32, 32, 112, 112]   --                   True\n",
              "│    │    └─Conv2d (0)                        [32, 3, 224, 224]    [32, 32, 112, 112]   864                  True\n",
              "│    │    └─BatchNorm2d (1)                   [32, 32, 112, 112]   [32, 32, 112, 112]   64                   True\n",
              "│    │    └─ReLU6 (2)                         [32, 32, 112, 112]   [32, 32, 112, 112]   --                   --\n",
              "│    └─InvertedResidual (1)                   [32, 32, 112, 112]   [32, 16, 112, 112]   --                   True\n",
              "│    │    └─Sequential (conv)                 [32, 32, 112, 112]   [32, 16, 112, 112]   896                  True\n",
              "│    └─InvertedResidual (2)                   [32, 16, 112, 112]   [32, 24, 56, 56]     --                   True\n",
              "│    │    └─Sequential (conv)                 [32, 16, 112, 112]   [32, 24, 56, 56]     5,136                True\n",
              "│    └─InvertedResidual (3)                   [32, 24, 56, 56]     [32, 24, 56, 56]     --                   True\n",
              "│    │    └─Sequential (conv)                 [32, 24, 56, 56]     [32, 24, 56, 56]     8,832                True\n",
              "│    └─InvertedResidual (4)                   [32, 24, 56, 56]     [32, 32, 28, 28]     --                   True\n",
              "│    │    └─Sequential (conv)                 [32, 24, 56, 56]     [32, 32, 28, 28]     10,000               True\n",
              "│    └─InvertedResidual (5)                   [32, 32, 28, 28]     [32, 32, 28, 28]     --                   True\n",
              "│    │    └─Sequential (conv)                 [32, 32, 28, 28]     [32, 32, 28, 28]     14,848               True\n",
              "│    └─InvertedResidual (6)                   [32, 32, 28, 28]     [32, 32, 28, 28]     --                   True\n",
              "│    │    └─Sequential (conv)                 [32, 32, 28, 28]     [32, 32, 28, 28]     14,848               True\n",
              "│    └─InvertedResidual (7)                   [32, 32, 28, 28]     [32, 64, 14, 14]     --                   True\n",
              "│    │    └─Sequential (conv)                 [32, 32, 28, 28]     [32, 64, 14, 14]     21,056               True\n",
              "│    └─InvertedResidual (8)                   [32, 64, 14, 14]     [32, 64, 14, 14]     --                   True\n",
              "│    │    └─Sequential (conv)                 [32, 64, 14, 14]     [32, 64, 14, 14]     54,272               True\n",
              "│    └─InvertedResidual (9)                   [32, 64, 14, 14]     [32, 64, 14, 14]     --                   True\n",
              "│    │    └─Sequential (conv)                 [32, 64, 14, 14]     [32, 64, 14, 14]     54,272               True\n",
              "│    └─InvertedResidual (10)                  [32, 64, 14, 14]     [32, 64, 14, 14]     --                   True\n",
              "│    │    └─Sequential (conv)                 [32, 64, 14, 14]     [32, 64, 14, 14]     54,272               True\n",
              "│    └─InvertedResidual (11)                  [32, 64, 14, 14]     [32, 96, 14, 14]     --                   True\n",
              "│    │    └─Sequential (conv)                 [32, 64, 14, 14]     [32, 96, 14, 14]     66,624               True\n",
              "│    └─InvertedResidual (12)                  [32, 96, 14, 14]     [32, 96, 14, 14]     --                   True\n",
              "│    │    └─Sequential (conv)                 [32, 96, 14, 14]     [32, 96, 14, 14]     118,272              True\n",
              "│    └─InvertedResidual (13)                  [32, 96, 14, 14]     [32, 96, 14, 14]     --                   True\n",
              "│    │    └─Sequential (conv)                 [32, 96, 14, 14]     [32, 96, 14, 14]     118,272              True\n",
              "│    └─InvertedResidual (14)                  [32, 96, 14, 14]     [32, 160, 7, 7]      --                   True\n",
              "│    │    └─Sequential (conv)                 [32, 96, 14, 14]     [32, 160, 7, 7]      155,264              True\n",
              "│    └─InvertedResidual (15)                  [32, 160, 7, 7]      [32, 160, 7, 7]      --                   True\n",
              "│    │    └─Sequential (conv)                 [32, 160, 7, 7]      [32, 160, 7, 7]      320,000              True\n",
              "│    └─InvertedResidual (16)                  [32, 160, 7, 7]      [32, 160, 7, 7]      --                   True\n",
              "│    │    └─Sequential (conv)                 [32, 160, 7, 7]      [32, 160, 7, 7]      320,000              True\n",
              "│    └─InvertedResidual (17)                  [32, 160, 7, 7]      [32, 320, 7, 7]      --                   True\n",
              "│    │    └─Sequential (conv)                 [32, 160, 7, 7]      [32, 320, 7, 7]      473,920              True\n",
              "│    └─Conv2dNormActivation (18)              [32, 320, 7, 7]      [32, 1280, 7, 7]     --                   True\n",
              "│    │    └─Conv2d (0)                        [32, 320, 7, 7]      [32, 1280, 7, 7]     409,600              True\n",
              "│    │    └─BatchNorm2d (1)                   [32, 1280, 7, 7]     [32, 1280, 7, 7]     2,560                True\n",
              "│    │    └─ReLU6 (2)                         [32, 1280, 7, 7]     [32, 1280, 7, 7]     --                   --\n",
              "├─Sequential (classifier)                     [32, 1280]           [32, 1000]           --                   True\n",
              "│    └─Dropout (0)                            [32, 1280]           [32, 1280]           --                   --\n",
              "│    └─Linear (1)                             [32, 1280]           [32, 1000]           1,281,000            True\n",
              "=============================================================================================================================\n",
              "Total params: 3,504,872\n",
              "Trainable params: 3,504,872\n",
              "Non-trainable params: 0\n",
              "Total mult-adds (Units.GIGABYTES): 9.63\n",
              "=============================================================================================================================\n",
              "Input size (MB): 19.27\n",
              "Forward/backward pass size (MB): 3419.45\n",
              "Params size (MB): 14.02\n",
              "Estimated Total Size (MB): 3452.74\n",
              "============================================================================================================================="
            ]
          },
          "metadata": {},
          "execution_count": 30
        }
      ],
      "source": [
        "# Print a summary using torchinfo (uncomment for actual output)\n",
        "summary(model=model,\n",
        "        input_size=(32, 3, 224, 224), # make sure this is \"input_size\", not \"input_shape\"\n",
        "        # col_names=[\"input_size\"], # uncomment for smaller output\n",
        "        col_names=[\"input_size\", \"output_size\", \"num_params\", \"trainable\"],\n",
        "        col_width=20,\n",
        "        row_settings=[\"var_names\"]\n",
        ")"
      ]
    },
    {
      "cell_type": "code",
      "execution_count": null,
      "metadata": {
        "id": "bbD0_LvgCiV0"
      },
      "outputs": [],
      "source": [
        "# Freeze all base layers in the \"features\" section of the model (the feature extractor) by setting requires_grad=False\n",
        "for param in model.features.parameters():\n",
        "    param.requires_grad = False\n"
      ]
    },
    {
      "cell_type": "code",
      "execution_count": null,
      "metadata": {
        "id": "UlmmqCguCiV1"
      },
      "outputs": [],
      "source": [
        "# Recreate the classifier layer and seed it to the target device\n",
        "model.classifier = torch.nn.Sequential(\n",
        "    torch.nn.Dropout(p=0.2, inplace=True),\n",
        "    torch.nn.Linear(in_features=1280,\n",
        "                    out_features=5, # same number of output units as our number of classes\n",
        "                    bias=True)).to(device)"
      ]
    },
    {
      "cell_type": "code",
      "execution_count": null,
      "metadata": {
        "colab": {
          "base_uri": "https://localhost:8080/"
        },
        "id": "tnrjqwjzCiV1",
        "outputId": "fab219b9-1c6d-4317-bedb-1481978b5248"
      },
      "outputs": [
        {
          "output_type": "execute_result",
          "data": {
            "text/plain": [
              "=============================================================================================================================\n",
              "Layer (type (var_name))                       Input Shape          Output Shape         Param #              Trainable\n",
              "=============================================================================================================================\n",
              "MobileNetV2 (MobileNetV2)                     [32, 3, 224, 224]    [32, 5]              --                   Partial\n",
              "├─Sequential (features)                       [32, 3, 224, 224]    [32, 1280, 7, 7]     --                   False\n",
              "│    └─Conv2dNormActivation (0)               [32, 3, 224, 224]    [32, 32, 112, 112]   --                   False\n",
              "│    │    └─Conv2d (0)                        [32, 3, 224, 224]    [32, 32, 112, 112]   (864)                False\n",
              "│    │    └─BatchNorm2d (1)                   [32, 32, 112, 112]   [32, 32, 112, 112]   (64)                 False\n",
              "│    │    └─ReLU6 (2)                         [32, 32, 112, 112]   [32, 32, 112, 112]   --                   --\n",
              "│    └─InvertedResidual (1)                   [32, 32, 112, 112]   [32, 16, 112, 112]   --                   False\n",
              "│    │    └─Sequential (conv)                 [32, 32, 112, 112]   [32, 16, 112, 112]   (896)                False\n",
              "│    └─InvertedResidual (2)                   [32, 16, 112, 112]   [32, 24, 56, 56]     --                   False\n",
              "│    │    └─Sequential (conv)                 [32, 16, 112, 112]   [32, 24, 56, 56]     (5,136)              False\n",
              "│    └─InvertedResidual (3)                   [32, 24, 56, 56]     [32, 24, 56, 56]     --                   False\n",
              "│    │    └─Sequential (conv)                 [32, 24, 56, 56]     [32, 24, 56, 56]     (8,832)              False\n",
              "│    └─InvertedResidual (4)                   [32, 24, 56, 56]     [32, 32, 28, 28]     --                   False\n",
              "│    │    └─Sequential (conv)                 [32, 24, 56, 56]     [32, 32, 28, 28]     (10,000)             False\n",
              "│    └─InvertedResidual (5)                   [32, 32, 28, 28]     [32, 32, 28, 28]     --                   False\n",
              "│    │    └─Sequential (conv)                 [32, 32, 28, 28]     [32, 32, 28, 28]     (14,848)             False\n",
              "│    └─InvertedResidual (6)                   [32, 32, 28, 28]     [32, 32, 28, 28]     --                   False\n",
              "│    │    └─Sequential (conv)                 [32, 32, 28, 28]     [32, 32, 28, 28]     (14,848)             False\n",
              "│    └─InvertedResidual (7)                   [32, 32, 28, 28]     [32, 64, 14, 14]     --                   False\n",
              "│    │    └─Sequential (conv)                 [32, 32, 28, 28]     [32, 64, 14, 14]     (21,056)             False\n",
              "│    └─InvertedResidual (8)                   [32, 64, 14, 14]     [32, 64, 14, 14]     --                   False\n",
              "│    │    └─Sequential (conv)                 [32, 64, 14, 14]     [32, 64, 14, 14]     (54,272)             False\n",
              "│    └─InvertedResidual (9)                   [32, 64, 14, 14]     [32, 64, 14, 14]     --                   False\n",
              "│    │    └─Sequential (conv)                 [32, 64, 14, 14]     [32, 64, 14, 14]     (54,272)             False\n",
              "│    └─InvertedResidual (10)                  [32, 64, 14, 14]     [32, 64, 14, 14]     --                   False\n",
              "│    │    └─Sequential (conv)                 [32, 64, 14, 14]     [32, 64, 14, 14]     (54,272)             False\n",
              "│    └─InvertedResidual (11)                  [32, 64, 14, 14]     [32, 96, 14, 14]     --                   False\n",
              "│    │    └─Sequential (conv)                 [32, 64, 14, 14]     [32, 96, 14, 14]     (66,624)             False\n",
              "│    └─InvertedResidual (12)                  [32, 96, 14, 14]     [32, 96, 14, 14]     --                   False\n",
              "│    │    └─Sequential (conv)                 [32, 96, 14, 14]     [32, 96, 14, 14]     (118,272)            False\n",
              "│    └─InvertedResidual (13)                  [32, 96, 14, 14]     [32, 96, 14, 14]     --                   False\n",
              "│    │    └─Sequential (conv)                 [32, 96, 14, 14]     [32, 96, 14, 14]     (118,272)            False\n",
              "│    └─InvertedResidual (14)                  [32, 96, 14, 14]     [32, 160, 7, 7]      --                   False\n",
              "│    │    └─Sequential (conv)                 [32, 96, 14, 14]     [32, 160, 7, 7]      (155,264)            False\n",
              "│    └─InvertedResidual (15)                  [32, 160, 7, 7]      [32, 160, 7, 7]      --                   False\n",
              "│    │    └─Sequential (conv)                 [32, 160, 7, 7]      [32, 160, 7, 7]      (320,000)            False\n",
              "│    └─InvertedResidual (16)                  [32, 160, 7, 7]      [32, 160, 7, 7]      --                   False\n",
              "│    │    └─Sequential (conv)                 [32, 160, 7, 7]      [32, 160, 7, 7]      (320,000)            False\n",
              "│    └─InvertedResidual (17)                  [32, 160, 7, 7]      [32, 320, 7, 7]      --                   False\n",
              "│    │    └─Sequential (conv)                 [32, 160, 7, 7]      [32, 320, 7, 7]      (473,920)            False\n",
              "│    └─Conv2dNormActivation (18)              [32, 320, 7, 7]      [32, 1280, 7, 7]     --                   False\n",
              "│    │    └─Conv2d (0)                        [32, 320, 7, 7]      [32, 1280, 7, 7]     (409,600)            False\n",
              "│    │    └─BatchNorm2d (1)                   [32, 1280, 7, 7]     [32, 1280, 7, 7]     (2,560)              False\n",
              "│    │    └─ReLU6 (2)                         [32, 1280, 7, 7]     [32, 1280, 7, 7]     --                   --\n",
              "├─Sequential (classifier)                     [32, 1280]           [32, 5]              --                   True\n",
              "│    └─Dropout (0)                            [32, 1280]           [32, 1280]           --                   --\n",
              "│    └─Linear (1)                             [32, 1280]           [32, 5]              6,405                True\n",
              "=============================================================================================================================\n",
              "Total params: 2,230,277\n",
              "Trainable params: 6,405\n",
              "Non-trainable params: 2,223,872\n",
              "Total mult-adds (Units.GIGABYTES): 9.59\n",
              "=============================================================================================================================\n",
              "Input size (MB): 19.27\n",
              "Forward/backward pass size (MB): 3419.19\n",
              "Params size (MB): 8.92\n",
              "Estimated Total Size (MB): 3447.38\n",
              "============================================================================================================================="
            ]
          },
          "metadata": {},
          "execution_count": 33
        }
      ],
      "source": [
        "# # Do a summary *after* freezing the features and changing the output classifier layer (uncomment for actual output)\n",
        "summary(model,\n",
        "        input_size=(32, 3, 224, 224),\n",
        "        verbose=0,\n",
        "        col_names=[\"input_size\", \"output_size\", \"num_params\", \"trainable\"],\n",
        "        col_width=20,\n",
        "        row_settings=[\"var_names\"]\n",
        ")"
      ]
    },
    {
      "cell_type": "code",
      "execution_count": null,
      "metadata": {
        "id": "1Px_7h_7CiV1"
      },
      "outputs": [],
      "source": [
        "loss_fn = nn.CrossEntropyLoss()\n",
        "optimizer = torch.optim.Adam(model.parameters(), lr=0.001)"
      ]
    },
    {
      "cell_type": "code",
      "execution_count": null,
      "metadata": {
        "colab": {
          "base_uri": "https://localhost:8080/",
          "height": 277,
          "referenced_widgets": [
            "a72f66b146244f4fb9894ca09c7fbf63",
            "ae5b7af7db474da4a6bf576764288fbd",
            "8d0b8bf702094ca3b8b2439d7d6622e8",
            "69c3705a1c3a401f9b314c03f6214110",
            "44943a6fc7254263bc717293b56afb4b",
            "97f2ed0713a246c18a2febaffc806dfd",
            "58d1dc33a7094f09a435fa03a95562a6",
            "17577d831e1040afbfeb69bdc9ded305",
            "e5923163ba6c49fba7d07407f93cb305",
            "6cb95717eef54ace8ab0fb661281af21",
            "bbf9cf0ee64a43f0a1aa8fe2437a1b1c"
          ]
        },
        "id": "PKpbLJ1yCiV2",
        "outputId": "2a82e83a-7c7f-4fa8-b926-a0a8fb17209b"
      },
      "outputs": [
        {
          "output_type": "display_data",
          "data": {
            "text/plain": [
              "  0%|          | 0/10 [00:00<?, ?it/s]"
            ],
            "application/vnd.jupyter.widget-view+json": {
              "version_major": 2,
              "version_minor": 0,
              "model_id": "a72f66b146244f4fb9894ca09c7fbf63"
            }
          },
          "metadata": {}
        },
        {
          "output_type": "stream",
          "name": "stderr",
          "text": [
            "/usr/local/lib/python3.12/dist-packages/torch/utils/data/dataloader.py:666: UserWarning: 'pin_memory' argument is set as true but no accelerator is found, then device pinned memory won't be used.\n",
            "  warnings.warn(warn_msg)\n"
          ]
        },
        {
          "output_type": "stream",
          "name": "stdout",
          "text": [
            "Epoch: 1 | train_loss: 1.1154 | train_acc: 0.7985 | test_loss: 0.6906 | test_acc: 0.9297\n",
            "Epoch: 2 | train_loss: 0.5384 | train_acc: 0.9601 | test_loss: 0.3837 | test_acc: 0.9375\n",
            "Epoch: 3 | train_loss: 0.3672 | train_acc: 0.9623 | test_loss: 0.2829 | test_acc: 0.9453\n",
            "Epoch: 4 | train_loss: 0.2478 | train_acc: 0.9774 | test_loss: 0.2069 | test_acc: 0.9453\n",
            "Epoch: 5 | train_loss: 0.2062 | train_acc: 0.9774 | test_loss: 0.1811 | test_acc: 0.9531\n",
            "Epoch: 6 | train_loss: 0.1775 | train_acc: 0.9795 | test_loss: 0.1515 | test_acc: 0.9531\n",
            "Epoch: 7 | train_loss: 0.1369 | train_acc: 0.9774 | test_loss: 0.1280 | test_acc: 0.9531\n",
            "Epoch: 8 | train_loss: 0.1273 | train_acc: 0.9849 | test_loss: 0.1118 | test_acc: 0.9766\n",
            "Epoch: 9 | train_loss: 0.1224 | train_acc: 0.9806 | test_loss: 0.1027 | test_acc: 0.9766\n",
            "Epoch: 10 | train_loss: 0.1014 | train_acc: 0.9935 | test_loss: 0.0901 | test_acc: 0.9766\n"
          ]
        }
      ],
      "source": [
        "torch.manual_seed(42)\n",
        "torch.cuda.manual_seed(42)\n",
        "\n",
        "results = engine.train(model=model,\n",
        "                       train_dataloader=train_dataloader,\n",
        "                       test_dataloader=test_dataloader,\n",
        "                       optimizer=optimizer,\n",
        "                       loss_fn=loss_fn,\n",
        "                       epochs=10,\n",
        "                       device=device)\n"
      ]
    },
    {
      "cell_type": "code",
      "execution_count": null,
      "metadata": {
        "colab": {
          "base_uri": "https://localhost:8080/",
          "height": 49,
          "referenced_widgets": [
            "a18ba562d42345de883b7761a0abb4a6",
            "8c01e87c3de145adaf543d1dd48a7e9b",
            "1bd4a8d8a06b4b219c0a74e7f95a7f0b",
            "bcc2c181e8ab407a8f94e88d1bea2fc2",
            "a6ae30312ffa4d7b851976bdf1947cd4",
            "d097c419e2d64ff3994e60991cb2fc37",
            "23d891e77e3f4998b38934eccc38f1da",
            "9b454008f6144a4f8293884c1f26e795",
            "0893db665c404892a91e5eee572dfcea",
            "a3f90b71fa2c4184abfa593c5385a844",
            "55d5968073b5491092ee7db275fa8ed8"
          ]
        },
        "id": "71JzVjj8CiV2",
        "outputId": "69e7d08a-141f-4e3a-b1fc-30ac58cfdae1"
      },
      "outputs": [
        {
          "output_type": "display_data",
          "data": {
            "text/plain": [
              "Making predictions:   0%|          | 0/4 [00:00<?, ?it/s]"
            ],
            "application/vnd.jupyter.widget-view+json": {
              "version_major": 2,
              "version_minor": 0,
              "model_id": "a18ba562d42345de883b7761a0abb4a6"
            }
          },
          "metadata": {}
        }
      ],
      "source": [
        "# Import tqdm for progress bar\n",
        "from tqdm.auto import tqdm\n",
        "\n",
        "# 1. Make predictions with trained model\n",
        "y_preds = []\n",
        "model.eval()\n",
        "with torch.inference_mode():\n",
        "  for X, y in tqdm(test_dataloader, desc=\"Making predictions\"):\n",
        "    # Send data and targets to target device\n",
        "    X, y = X.to(device), y.to(device)\n",
        "    # Do the forward pass\n",
        "    y_logit = model(X)\n",
        "    # Turn predictions from logits -> prediction probabilities -> predictions labels\n",
        "    y_pred = torch.softmax(y_logit, dim=1).argmax(dim=1) # note: perform softmax on the \"logits\" dimension, not \"batch\" dimension (in this case we have a batch size of 32, so can perform on dim=1)\n",
        "    # Put predictions on CPU for evaluation\n",
        "    y_preds.extend(y_pred.cpu().tolist())\n",
        "# Concatenate list of predictions into a tensor\n",
        "y_pred_tensor = torch.tensor(y_preds, device = device)"
      ]
    },
    {
      "cell_type": "code",
      "execution_count": null,
      "metadata": {
        "colab": {
          "base_uri": "https://localhost:8080/"
        },
        "id": "AtBYtdvsCiV3",
        "outputId": "6410b580-3464-4ba9-d394-fee5274eab23"
      },
      "outputs": [
        {
          "output_type": "stream",
          "name": "stdout",
          "text": [
            "mlxtend version: 0.23.4\n"
          ]
        }
      ],
      "source": [
        "# See if torchmetrics exists, if not, install it\n",
        "try:\n",
        "    import torchmetrics, mlxtend\n",
        "    print(f\"mlxtend version: {mlxtend.__version__}\")\n",
        "    assert int(mlxtend.__version__.split(\".\")[1]) >= 19, \"mlxtend verison should be 0.19.0 or higher\"\n",
        "except:\n",
        "    !pip install -q torchmetrics -U mlxtend # <- Note: If you're using Google Colab, this may require restarting the runtime\n",
        "    import torchmetrics, mlxtend\n",
        "    print(f\"mlxtend version: {mlxtend.__version__}\")"
      ]
    },
    {
      "cell_type": "code",
      "execution_count": null,
      "metadata": {
        "colab": {
          "base_uri": "https://localhost:8080/"
        },
        "id": "QL5R00byCiV3",
        "outputId": "3dff0691-4f65-4bf5-ab9d-ccac7dd30f2c"
      },
      "outputs": [
        {
          "output_type": "stream",
          "name": "stdout",
          "text": [
            "0.23.4\n"
          ]
        }
      ],
      "source": [
        "# Import mlxtend upgraded version\n",
        "import mlxtend\n",
        "print(mlxtend.__version__)\n",
        "assert int(mlxtend.__version__.split(\".\")[1]) >= 19 # should be version 0.19.0 or higher"
      ]
    },
    {
      "cell_type": "code",
      "execution_count": null,
      "metadata": {
        "id": "c99-c6kSCiV4"
      },
      "outputs": [],
      "source": [
        "from torchvision import datasets\n",
        "test_data = datasets.ImageFolder(root=test_dir,\n",
        "                                 transform=auto_transforms)"
      ]
    },
    {
      "cell_type": "code",
      "execution_count": null,
      "metadata": {
        "colab": {
          "base_uri": "https://localhost:8080/"
        },
        "id": "4nYS0bUUCiV4",
        "outputId": "6779f859-9545-4c52-ee47-f19510bd35f5"
      },
      "outputs": [
        {
          "output_type": "execute_result",
          "data": {
            "text/plain": [
              "['Apple', 'Banana', 'Bean', 'Onion', 'Potato']"
            ]
          },
          "metadata": {},
          "execution_count": 40
        }
      ],
      "source": [
        "class_names = test_data.classes\n",
        "class_names"
      ]
    },
    {
      "cell_type": "code",
      "execution_count": null,
      "metadata": {
        "colab": {
          "base_uri": "https://localhost:8080/",
          "height": 652
        },
        "id": "lmMeyaLoCiV4",
        "outputId": "ecd0c2c1-1200-464c-ed3d-91227101f0bd"
      },
      "outputs": [
        {
          "output_type": "display_data",
          "data": {
            "text/plain": [
              "<Figure size 1000x700 with 1 Axes>"
            ],
            "image/png": "[encoded data removed]"
          },
          "metadata": {}
        }
      ],
      "source": [
        "from torchmetrics import ConfusionMatrix\n",
        "from mlxtend.plotting import plot_confusion_matrix\n",
        "\n",
        "\n",
        "# 2. Setup confusion matrix instance and compare predictions to targets\n",
        "confmat = ConfusionMatrix(num_classes=len(class_names), task='multiclass')\n",
        "confmat_tensor = confmat(preds=y_pred_tensor.to(confmat.device),\n",
        "                         target=torch.tensor(test_data.targets).to(confmat.device))\n",
        "\n",
        "confmat_normalized = confmat_tensor / confmat_tensor.sum(axis=1, keepdims=True) * 100\n",
        "# 3. Plot the confusion matrix\n",
        "fig, ax = plot_confusion_matrix(\n",
        "    conf_mat=confmat_normalized.numpy(), # matplotlib likes working with NumPy\n",
        "    class_names=class_names, # turn the row and column labels into class names\n",
        "    figsize=(10, 7),\n",
        ");"
      ]
    },
    {
      "cell_type": "code",
      "execution_count": null,
      "metadata": {
        "colab": {
          "base_uri": "https://localhost:8080/",
          "height": 641
        },
        "id": "8sulbfEACiV4",
        "outputId": "1a9825ab-022e-4aeb-fddf-8b8d122444f5"
      },
      "outputs": [
        {
          "output_type": "display_data",
          "data": {
            "text/plain": [
              "<Figure size 1500x700 with 2 Axes>"
            ],
            "image/png": "[encoded data removed]"
          },
          "metadata": {}
        }
      ],
      "source": [
        "# Get the plot_loss_curves() function from helper_functions.py, download the file if we don't have it\n",
        "try:\n",
        "    from helper_functions import plot_loss_curves\n",
        "except:\n",
        "    print(\"[INFO] Couldn't find helper_functions.py, downloading...\")\n",
        "    with open(\"helper_functions.py\", \"wb\") as f:\n",
        "        import requests\n",
        "        request = requests.get(\"https://raw.githubusercontent.com/mrdbourke/pytorch-deep-learning/main/helper_functions.py\")\n",
        "        f.write(request.content)\n",
        "    from helper_functions import plot_loss_curves\n",
        "\n",
        "# Plot the loss curves of our model\n",
        "plot_loss_curves(results)"
      ]
    },
    {
      "cell_type": "code",
      "execution_count": null,
      "metadata": {
        "colab": {
          "base_uri": "https://localhost:8080/"
        },
        "id": "qYgzWiCeCiV5",
        "outputId": "554afc24-1988-4a19-9c2a-61f8e653223f"
      },
      "outputs": [
        {
          "output_type": "stream",
          "name": "stdout",
          "text": [
            "              precision    recall  f1-score   support\n",
            "\n",
            "       Apple    0.90909   1.00000   0.95238        20\n",
            "      Banana    1.00000   1.00000   1.00000        20\n",
            "        Bean    1.00000   1.00000   1.00000        20\n",
            "       Onion    0.95000   0.95000   0.95000        20\n",
            "      Potato    1.00000   0.90000   0.94737        20\n",
            "\n",
            "    accuracy                        0.97000       100\n",
            "   macro avg    0.97182   0.97000   0.96995       100\n",
            "weighted avg    0.97182   0.97000   0.96995       100\n",
            "\n"
          ]
        }
      ],
      "source": [
        "from sklearn.metrics import classification_report\n",
        "print(classification_report(torch.tensor(test_data.targets).cpu(), torch.tensor(y_preds).cpu(), target_names=class_names, digits=5))"
      ]
    },
    {
      "cell_type": "markdown",
      "metadata": {
        "id": "Ln5CyL9NJUWE"
      },
      "source": [
        "# **ShuffleNet_V2_0.5**\n",
        "\n",
        "---\n",
        "\n",
        "\n",
        "\n",
        "---\n",
        "\n",
        "\n",
        "\n",
        "---\n",
        "0.5x version using\n"
      ]
    },
    {
      "cell_type": "code",
      "execution_count": null,
      "metadata": {
        "colab": {
          "base_uri": "https://localhost:8080/"
        },
        "id": "YadYgsGmJ1Yv",
        "outputId": "cc7261ed-af14-418f-f3f1-3d408dd97315"
      },
      "outputs": [
        {
          "output_type": "execute_result",
          "data": {
            "text/plain": [
              "ShuffleNet_V2_X0_5_Weights.IMAGENET1K_V1"
            ]
          },
          "metadata": {},
          "execution_count": 44
        }
      ],
      "source": [
        "# Get a set of pretrained model weights\n",
        "weights = torchvision.models.ShuffleNet_V2_X0_5_Weights.DEFAULT # .DEFAULT = best available weights from pretraining on ImageNet\n",
        "weights"
      ]
    },
    {
      "cell_type": "code",
      "execution_count": null,
      "metadata": {
        "colab": {
          "base_uri": "https://localhost:8080/"
        },
        "id": "TNasvSbmJ1Yw",
        "outputId": "d81a25f7-a3ec-4ec1-9906-ee526fa7696f"
      },
      "outputs": [
        {
          "output_type": "execute_result",
          "data": {
            "text/plain": [
              "ImageClassification(\n",
              "    crop_size=[224]\n",
              "    resize_size=[256]\n",
              "    mean=[0.485, 0.456, 0.406]\n",
              "    std=[0.229, 0.224, 0.225]\n",
              "    interpolation=InterpolationMode.BILINEAR\n",
              ")"
            ]
          },
          "metadata": {},
          "execution_count": 45
        }
      ],
      "source": [
        "# Get the transforms used to create our pretrained weights\n",
        "auto_transforms = weights.transforms()\n",
        "auto_transforms"
      ]
    },
    {
      "cell_type": "code",
      "execution_count": null,
      "metadata": {
        "colab": {
          "base_uri": "https://localhost:8080/"
        },
        "id": "ndX3t4MdJ1Yx",
        "outputId": "a6012cb4-3233-44d6-9399-57d58b72a051"
      },
      "outputs": [
        {
          "output_type": "execute_result",
          "data": {
            "text/plain": [
              "(<torch.utils.data.dataloader.DataLoader at 0x7c3dc8c65a30>,\n",
              " <torch.utils.data.dataloader.DataLoader at 0x7c3dc8c039e0>,\n",
              " ['Apple', 'Banana', 'Beans', 'Onion', 'Potato'])"
            ]
          },
          "metadata": {},
          "execution_count": 46
        }
      ],
      "source": [
        "# Create training and testing DataLoaders as well as get a list of class names\n",
        "train_dataloader, test_dataloader, class_names = data_setup.create_dataloaders(train_dir=train_dir,\n",
        "                                                                               test_dir=test_dir,\n",
        "                                                                               transform=auto_transforms, # perform same data transforms on our own data as the pretrained model\n",
        "                                                                               batch_size=32) # set mini-batch size to 32\n",
        "\n",
        "train_dataloader, test_dataloader, class_names"
      ]
    },
    {
      "cell_type": "code",
      "execution_count": null,
      "metadata": {
        "colab": {
          "base_uri": "https://localhost:8080/"
        },
        "id": "r_aJBwcKJ1Yx",
        "outputId": "97ec4f7e-7261-4ba4-f6df-86d4930786a2"
      },
      "outputs": [
        {
          "output_type": "stream",
          "name": "stdout",
          "text": [
            "Downloading: \"https://download.pytorch.org/models/shufflenetv2_x0.5-f707e7126e.pth\" to /root/.cache/torch/hub/checkpoints/shufflenetv2_x0.5-f707e7126e.pth\n"
          ]
        },
        {
          "output_type": "stream",
          "name": "stderr",
          "text": [
            "100%|██████████| 5.28M/5.28M [00:00<00:00, 22.4MB/s]\n"
          ]
        }
      ],
      "source": [
        "# NEW: Setup the model with pretrained weights and send it to the target device (torchvision v0.13+)\n",
        "model = torchvision.models.shufflenet_v2_x0_5(weights=weights).to(device)"
      ]
    },
    {
      "cell_type": "code",
      "execution_count": null,
      "metadata": {
        "colab": {
          "base_uri": "https://localhost:8080/"
        },
        "id": "4VanlImMJ1Yx",
        "outputId": "c66fffe3-9ae6-4c91-bae9-ea751662904d"
      },
      "outputs": [
        {
          "output_type": "execute_result",
          "data": {
            "text/plain": [
              "========================================================================================================================\n",
              "Layer (type (var_name))                  Input Shape          Output Shape         Param #              Trainable\n",
              "========================================================================================================================\n",
              "ShuffleNetV2 (ShuffleNetV2)              [32, 3, 224, 224]    [32, 1000]           --                   True\n",
              "├─Sequential (conv1)                     [32, 3, 224, 224]    [32, 24, 112, 112]   --                   True\n",
              "│    └─Conv2d (0)                        [32, 3, 224, 224]    [32, 24, 112, 112]   648                  True\n",
              "│    └─BatchNorm2d (1)                   [32, 24, 112, 112]   [32, 24, 112, 112]   48                   True\n",
              "│    └─ReLU (2)                          [32, 24, 112, 112]   [32, 24, 112, 112]   --                   --\n",
              "├─MaxPool2d (maxpool)                    [32, 24, 112, 112]   [32, 24, 56, 56]     --                   --\n",
              "├─Sequential (stage2)                    [32, 24, 56, 56]     [32, 48, 28, 28]     --                   True\n",
              "│    └─InvertedResidual (0)              [32, 24, 56, 56]     [32, 48, 28, 28]     --                   True\n",
              "│    │    └─Sequential (branch1)         [32, 24, 56, 56]     [32, 24, 28, 28]     888                  True\n",
              "│    │    └─Sequential (branch2)         [32, 24, 56, 56]     [32, 24, 28, 28]     1,512                True\n",
              "│    └─InvertedResidual (1)              [32, 48, 28, 28]     [32, 48, 28, 28]     --                   True\n",
              "│    │    └─Sequential (branch2)         [32, 24, 28, 28]     [32, 24, 28, 28]     1,512                True\n",
              "│    └─InvertedResidual (2)              [32, 48, 28, 28]     [32, 48, 28, 28]     --                   True\n",
              "│    │    └─Sequential (branch2)         [32, 24, 28, 28]     [32, 24, 28, 28]     1,512                True\n",
              "│    └─InvertedResidual (3)              [32, 48, 28, 28]     [32, 48, 28, 28]     --                   True\n",
              "│    │    └─Sequential (branch2)         [32, 24, 28, 28]     [32, 24, 28, 28]     1,512                True\n",
              "├─Sequential (stage3)                    [32, 48, 28, 28]     [32, 96, 14, 14]     --                   True\n",
              "│    └─InvertedResidual (0)              [32, 48, 28, 28]     [32, 96, 14, 14]     --                   True\n",
              "│    │    └─Sequential (branch1)         [32, 48, 28, 28]     [32, 48, 14, 14]     2,928                True\n",
              "│    │    └─Sequential (branch2)         [32, 48, 28, 28]     [32, 48, 14, 14]     5,328                True\n",
              "│    └─InvertedResidual (1)              [32, 96, 14, 14]     [32, 96, 14, 14]     --                   True\n",
              "│    │    └─Sequential (branch2)         [32, 48, 14, 14]     [32, 48, 14, 14]     5,328                True\n",
              "│    └─InvertedResidual (2)              [32, 96, 14, 14]     [32, 96, 14, 14]     --                   True\n",
              "│    │    └─Sequential (branch2)         [32, 48, 14, 14]     [32, 48, 14, 14]     5,328                True\n",
              "│    └─InvertedResidual (3)              [32, 96, 14, 14]     [32, 96, 14, 14]     --                   True\n",
              "│    │    └─Sequential (branch2)         [32, 48, 14, 14]     [32, 48, 14, 14]     5,328                True\n",
              "│    └─InvertedResidual (4)              [32, 96, 14, 14]     [32, 96, 14, 14]     --                   True\n",
              "│    │    └─Sequential (branch2)         [32, 48, 14, 14]     [32, 48, 14, 14]     5,328                True\n",
              "│    └─InvertedResidual (5)              [32, 96, 14, 14]     [32, 96, 14, 14]     --                   True\n",
              "│    │    └─Sequential (branch2)         [32, 48, 14, 14]     [32, 48, 14, 14]     5,328                True\n",
              "│    └─InvertedResidual (6)              [32, 96, 14, 14]     [32, 96, 14, 14]     --                   True\n",
              "│    │    └─Sequential (branch2)         [32, 48, 14, 14]     [32, 48, 14, 14]     5,328                True\n",
              "│    └─InvertedResidual (7)              [32, 96, 14, 14]     [32, 96, 14, 14]     --                   True\n",
              "│    │    └─Sequential (branch2)         [32, 48, 14, 14]     [32, 48, 14, 14]     5,328                True\n",
              "├─Sequential (stage4)                    [32, 96, 14, 14]     [32, 192, 7, 7]      --                   True\n",
              "│    └─InvertedResidual (0)              [32, 96, 14, 14]     [32, 192, 7, 7]      --                   True\n",
              "│    │    └─Sequential (branch1)         [32, 96, 14, 14]     [32, 96, 7, 7]       10,464               True\n",
              "│    │    └─Sequential (branch2)         [32, 96, 14, 14]     [32, 96, 7, 7]       19,872               True\n",
              "│    └─InvertedResidual (1)              [32, 192, 7, 7]      [32, 192, 7, 7]      --                   True\n",
              "│    │    └─Sequential (branch2)         [32, 96, 7, 7]       [32, 96, 7, 7]       19,872               True\n",
              "│    └─InvertedResidual (2)              [32, 192, 7, 7]      [32, 192, 7, 7]      --                   True\n",
              "│    │    └─Sequential (branch2)         [32, 96, 7, 7]       [32, 96, 7, 7]       19,872               True\n",
              "│    └─InvertedResidual (3)              [32, 192, 7, 7]      [32, 192, 7, 7]      --                   True\n",
              "│    │    └─Sequential (branch2)         [32, 96, 7, 7]       [32, 96, 7, 7]       19,872               True\n",
              "├─Sequential (conv5)                     [32, 192, 7, 7]      [32, 1024, 7, 7]     --                   True\n",
              "│    └─Conv2d (0)                        [32, 192, 7, 7]      [32, 1024, 7, 7]     196,608              True\n",
              "│    └─BatchNorm2d (1)                   [32, 1024, 7, 7]     [32, 1024, 7, 7]     2,048                True\n",
              "│    └─ReLU (2)                          [32, 1024, 7, 7]     [32, 1024, 7, 7]     --                   --\n",
              "├─Linear (fc)                            [32, 1024]           [32, 1000]           1,025,000            True\n",
              "========================================================================================================================\n",
              "Total params: 1,366,792\n",
              "Trainable params: 1,366,792\n",
              "Non-trainable params: 0\n",
              "Total mult-adds (Units.GIGABYTES): 1.30\n",
              "========================================================================================================================\n",
              "Input size (MB): 19.27\n",
              "Forward/backward pass size (MB): 524.49\n",
              "Params size (MB): 5.47\n",
              "Estimated Total Size (MB): 549.23\n",
              "========================================================================================================================"
            ]
          },
          "metadata": {},
          "execution_count": 48
        }
      ],
      "source": [
        "# Print a summary using torchinfo (uncomment for actual output)\n",
        "summary(model=model,\n",
        "        input_size=(32, 3, 224, 224), # make sure this is \"input_size\", not \"input_shape\"\n",
        "        # col_names=[\"input_size\"], # uncomment for smaller output\n",
        "        col_names=[\"input_size\", \"output_size\", \"num_params\", \"trainable\"],\n",
        "        col_width=20,\n",
        "        row_settings=[\"var_names\"]\n",
        ")"
      ]
    },
    {
      "cell_type": "code",
      "execution_count": null,
      "metadata": {
        "id": "bTmCRgUxJ1Yx"
      },
      "outputs": [],
      "source": [
        "# Freeze all base layers except the final classifier\n",
        "for name, param in model.named_parameters():\n",
        "    if 'fc' not in name: # Assuming the final fully connected layer is named 'fc'\n",
        "        param.requires_grad = False"
      ]
    },
    {
      "cell_type": "code",
      "execution_count": null,
      "metadata": {
        "id": "BUL7AkiFJ1Yx"
      },
      "outputs": [],
      "source": [
        "# Recreate the classifier layer and seed it to the target device\n",
        "# The in_features for ShuffleNet_V2_X0_5's classifier is 1024\n",
        "model.fc = torch.nn.Sequential(\n",
        "    torch.nn.Dropout(p=0.2, inplace=True),\n",
        "    torch.nn.Linear(in_features=1024, # Corrected in_features for ShuffleNet_V2_X0_5\n",
        "                    out_features=len(class_names), # Set the output features to number of classes\n",
        "                    bias=True)).to(device)"
      ]
    },
    {
      "cell_type": "code",
      "execution_count": null,
      "metadata": {
        "colab": {
          "base_uri": "https://localhost:8080/"
        },
        "id": "8AwtPZVoJ1Yy",
        "outputId": "80593c40-0339-4e95-b28c-eba32135767b"
      },
      "outputs": [
        {
          "output_type": "execute_result",
          "data": {
            "text/plain": [
              "========================================================================================================================\n",
              "Layer (type (var_name))                  Input Shape          Output Shape         Param #              Trainable\n",
              "========================================================================================================================\n",
              "ShuffleNetV2 (ShuffleNetV2)              [32, 3, 224, 224]    [32, 5]              --                   Partial\n",
              "├─Sequential (conv1)                     [32, 3, 224, 224]    [32, 24, 112, 112]   --                   False\n",
              "│    └─Conv2d (0)                        [32, 3, 224, 224]    [32, 24, 112, 112]   (648)                False\n",
              "│    └─BatchNorm2d (1)                   [32, 24, 112, 112]   [32, 24, 112, 112]   (48)                 False\n",
              "│    └─ReLU (2)                          [32, 24, 112, 112]   [32, 24, 112, 112]   --                   --\n",
              "├─MaxPool2d (maxpool)                    [32, 24, 112, 112]   [32, 24, 56, 56]     --                   --\n",
              "├─Sequential (stage2)                    [32, 24, 56, 56]     [32, 48, 28, 28]     --                   False\n",
              "│    └─InvertedResidual (0)              [32, 24, 56, 56]     [32, 48, 28, 28]     --                   False\n",
              "│    │    └─Sequential (branch1)         [32, 24, 56, 56]     [32, 24, 28, 28]     (888)                False\n",
              "│    │    └─Sequential (branch2)         [32, 24, 56, 56]     [32, 24, 28, 28]     (1,512)              False\n",
              "│    └─InvertedResidual (1)              [32, 48, 28, 28]     [32, 48, 28, 28]     --                   False\n",
              "│    │    └─Sequential (branch2)         [32, 24, 28, 28]     [32, 24, 28, 28]     (1,512)              False\n",
              "│    └─InvertedResidual (2)              [32, 48, 28, 28]     [32, 48, 28, 28]     --                   False\n",
              "│    │    └─Sequential (branch2)         [32, 24, 28, 28]     [32, 24, 28, 28]     (1,512)              False\n",
              "│    └─InvertedResidual (3)              [32, 48, 28, 28]     [32, 48, 28, 28]     --                   False\n",
              "│    │    └─Sequential (branch2)         [32, 24, 28, 28]     [32, 24, 28, 28]     (1,512)              False\n",
              "├─Sequential (stage3)                    [32, 48, 28, 28]     [32, 96, 14, 14]     --                   False\n",
              "│    └─InvertedResidual (0)              [32, 48, 28, 28]     [32, 96, 14, 14]     --                   False\n",
              "│    │    └─Sequential (branch1)         [32, 48, 28, 28]     [32, 48, 14, 14]     (2,928)              False\n",
              "│    │    └─Sequential (branch2)         [32, 48, 28, 28]     [32, 48, 14, 14]     (5,328)              False\n",
              "│    └─InvertedResidual (1)              [32, 96, 14, 14]     [32, 96, 14, 14]     --                   False\n",
              "│    │    └─Sequential (branch2)         [32, 48, 14, 14]     [32, 48, 14, 14]     (5,328)              False\n",
              "│    └─InvertedResidual (2)              [32, 96, 14, 14]     [32, 96, 14, 14]     --                   False\n",
              "│    │    └─Sequential (branch2)         [32, 48, 14, 14]     [32, 48, 14, 14]     (5,328)              False\n",
              "│    └─InvertedResidual (3)              [32, 96, 14, 14]     [32, 96, 14, 14]     --                   False\n",
              "│    │    └─Sequential (branch2)         [32, 48, 14, 14]     [32, 48, 14, 14]     (5,328)              False\n",
              "│    └─InvertedResidual (4)              [32, 96, 14, 14]     [32, 96, 14, 14]     --                   False\n",
              "│    │    └─Sequential (branch2)         [32, 48, 14, 14]     [32, 48, 14, 14]     (5,328)              False\n",
              "│    └─InvertedResidual (5)              [32, 96, 14, 14]     [32, 96, 14, 14]     --                   False\n",
              "│    │    └─Sequential (branch2)         [32, 48, 14, 14]     [32, 48, 14, 14]     (5,328)              False\n",
              "│    └─InvertedResidual (6)              [32, 96, 14, 14]     [32, 96, 14, 14]     --                   False\n",
              "│    │    └─Sequential (branch2)         [32, 48, 14, 14]     [32, 48, 14, 14]     (5,328)              False\n",
              "│    └─InvertedResidual (7)              [32, 96, 14, 14]     [32, 96, 14, 14]     --                   False\n",
              "│    │    └─Sequential (branch2)         [32, 48, 14, 14]     [32, 48, 14, 14]     (5,328)              False\n",
              "├─Sequential (stage4)                    [32, 96, 14, 14]     [32, 192, 7, 7]      --                   False\n",
              "│    └─InvertedResidual (0)              [32, 96, 14, 14]     [32, 192, 7, 7]      --                   False\n",
              "│    │    └─Sequential (branch1)         [32, 96, 14, 14]     [32, 96, 7, 7]       (10,464)             False\n",
              "│    │    └─Sequential (branch2)         [32, 96, 14, 14]     [32, 96, 7, 7]       (19,872)             False\n",
              "│    └─InvertedResidual (1)              [32, 192, 7, 7]      [32, 192, 7, 7]      --                   False\n",
              "│    │    └─Sequential (branch2)         [32, 96, 7, 7]       [32, 96, 7, 7]       (19,872)             False\n",
              "│    └─InvertedResidual (2)              [32, 192, 7, 7]      [32, 192, 7, 7]      --                   False\n",
              "│    │    └─Sequential (branch2)         [32, 96, 7, 7]       [32, 96, 7, 7]       (19,872)             False\n",
              "│    └─InvertedResidual (3)              [32, 192, 7, 7]      [32, 192, 7, 7]      --                   False\n",
              "│    │    └─Sequential (branch2)         [32, 96, 7, 7]       [32, 96, 7, 7]       (19,872)             False\n",
              "├─Sequential (conv5)                     [32, 192, 7, 7]      [32, 1024, 7, 7]     --                   False\n",
              "│    └─Conv2d (0)                        [32, 192, 7, 7]      [32, 1024, 7, 7]     (196,608)            False\n",
              "│    └─BatchNorm2d (1)                   [32, 1024, 7, 7]     [32, 1024, 7, 7]     (2,048)              False\n",
              "│    └─ReLU (2)                          [32, 1024, 7, 7]     [32, 1024, 7, 7]     --                   --\n",
              "├─Sequential (fc)                        [32, 1024]           [32, 5]              --                   True\n",
              "│    └─Dropout (0)                       [32, 1024]           [32, 1024]           --                   --\n",
              "│    └─Linear (1)                        [32, 1024]           [32, 5]              5,125                True\n",
              "========================================================================================================================\n",
              "Total params: 346,917\n",
              "Trainable params: 5,125\n",
              "Non-trainable params: 341,792\n",
              "Total mult-adds (Units.GIGABYTES): 1.26\n",
              "========================================================================================================================\n",
              "Input size (MB): 19.27\n",
              "Forward/backward pass size (MB): 524.24\n",
              "Params size (MB): 1.39\n",
              "Estimated Total Size (MB): 544.90\n",
              "========================================================================================================================"
            ]
          },
          "metadata": {},
          "execution_count": 51
        }
      ],
      "source": [
        "# # Do a summary *after* freezing the features and changing the output classifier layer (uncomment for actual output)\n",
        "summary(model,\n",
        "        input_size=(32, 3, 224, 224),\n",
        "        verbose=0,\n",
        "        col_names=[\"input_size\", \"output_size\", \"num_params\", \"trainable\"],\n",
        "        col_width=20,\n",
        "        row_settings=[\"var_names\"]\n",
        ")"
      ]
    },
    {
      "cell_type": "code",
      "execution_count": null,
      "metadata": {
        "id": "N1zfb_hqJ1Yz"
      },
      "outputs": [],
      "source": [
        "loss_fn = nn.CrossEntropyLoss()\n",
        "optimizer = torch.optim.Adam(model.parameters(), lr=0.001)"
      ]
    },
    {
      "cell_type": "code",
      "execution_count": null,
      "metadata": {
        "colab": {
          "base_uri": "https://localhost:8080/",
          "height": 277,
          "referenced_widgets": [
            "4a51f012b22a4aaab42bb3bbbf988972",
            "375988c33bb64f41a6e811c51090bbb4",
            "1ae89c480c82406ea01b52127d777a78",
            "05f45a67ad624e539d9f2f57be2f6fdc",
            "ae29f2c521cd453d899366cdcff936dc",
            "1fba4745fb32423ba66b2a5eb280351b",
            "add6e500ea5b4facb1f2c780049fb2e9",
            "834ab296aa864a809c3f7ff8b701165b",
            "bc2da31c50834c929804ead1cc17eaae",
            "d76c83755bf943a6a97c0d7fd964b979",
            "2a6330c22bdb483ca468d65e2a7673df"
          ]
        },
        "id": "aZvL6uqoJ1Yz",
        "outputId": "ffa8e872-fc2d-4f3d-b32a-2fa8547fd050"
      },
      "outputs": [
        {
          "output_type": "display_data",
          "data": {
            "text/plain": [
              "  0%|          | 0/10 [00:00<?, ?it/s]"
            ],
            "application/vnd.jupyter.widget-view+json": {
              "version_major": 2,
              "version_minor": 0,
              "model_id": "4a51f012b22a4aaab42bb3bbbf988972"
            }
          },
          "metadata": {}
        },
        {
          "output_type": "stream",
          "name": "stderr",
          "text": [
            "/usr/local/lib/python3.12/dist-packages/torch/utils/data/dataloader.py:666: UserWarning: 'pin_memory' argument is set as true but no accelerator is found, then device pinned memory won't be used.\n",
            "  warnings.warn(warn_msg)\n"
          ]
        },
        {
          "output_type": "stream",
          "name": "stdout",
          "text": [
            "Epoch: 1 | train_loss: 1.5577 | train_acc: 0.6315 | test_loss: 1.4935 | test_acc: 0.9062\n",
            "Epoch: 2 | train_loss: 1.4491 | train_acc: 0.8481 | test_loss: 1.3883 | test_acc: 0.8906\n",
            "Epoch: 3 | train_loss: 1.3476 | train_acc: 0.9504 | test_loss: 1.3036 | test_acc: 0.9531\n",
            "Epoch: 4 | train_loss: 1.2526 | train_acc: 0.9569 | test_loss: 1.2128 | test_acc: 0.9297\n",
            "Epoch: 5 | train_loss: 1.1762 | train_acc: 0.9461 | test_loss: 1.1362 | test_acc: 0.9375\n",
            "Epoch: 6 | train_loss: 1.0925 | train_acc: 0.9666 | test_loss: 1.0652 | test_acc: 0.9453\n",
            "Epoch: 7 | train_loss: 1.0287 | train_acc: 0.9644 | test_loss: 0.9950 | test_acc: 0.9375\n",
            "Epoch: 8 | train_loss: 0.9541 | train_acc: 0.9644 | test_loss: 0.9234 | test_acc: 0.9297\n",
            "Epoch: 9 | train_loss: 0.8961 | train_acc: 0.9655 | test_loss: 0.8705 | test_acc: 0.9297\n",
            "Epoch: 10 | train_loss: 0.8458 | train_acc: 0.9558 | test_loss: 0.8144 | test_acc: 0.9297\n"
          ]
        }
      ],
      "source": [
        "torch.manual_seed(42)\n",
        "torch.cuda.manual_seed(42)\n",
        "\n",
        "results = engine.train(model=model,\n",
        "                       train_dataloader=train_dataloader,\n",
        "                       test_dataloader=test_dataloader,\n",
        "                       optimizer=optimizer,\n",
        "                       loss_fn=loss_fn,\n",
        "                       epochs=10,\n",
        "                       device=device)\n"
      ]
    },
    {
      "cell_type": "code",
      "execution_count": null,
      "metadata": {
        "colab": {
          "base_uri": "https://localhost:8080/",
          "height": 49,
          "referenced_widgets": [
            "a735f813679145a9bdc729df68c9c228",
            "432a23265c61438d9623aa784d8c182a",
            "c8334cee0bdc4068ac9273e18ba26a41",
            "6e89cd2c7d4145b7b634f478f8ebee55",
            "e71d46258e074eefafc4cb3626f4e9fe",
            "aede8aab25f94bf29f98d5f19236abc0",
            "ddde0408f5de4c74bf5b3de79fab5bc8",
            "d58c81728763404e903d027cc2fa4cf2",
            "e9a234df37724bb98e50b21278209ce6",
            "9bf34ffd76624233a4bb890531142090",
            "b3d9d95d6ce54bc7b8d3c2ad83fe3985"
          ]
        },
        "id": "MAlGH_0VJ1Yz",
        "outputId": "2d70e53f-84c8-4fcc-dbef-dd8be84bacbe"
      },
      "outputs": [
        {
          "output_type": "display_data",
          "data": {
            "text/plain": [
              "Making predictions:   0%|          | 0/4 [00:00<?, ?it/s]"
            ],
            "application/vnd.jupyter.widget-view+json": {
              "version_major": 2,
              "version_minor": 0,
              "model_id": "a735f813679145a9bdc729df68c9c228"
            }
          },
          "metadata": {}
        }
      ],
      "source": [
        "# Import tqdm for progress bar\n",
        "from tqdm.auto import tqdm\n",
        "\n",
        "# 1. Make predictions with trained model\n",
        "y_preds = []\n",
        "model.eval()\n",
        "with torch.inference_mode():\n",
        "  for X, y in tqdm(test_dataloader, desc=\"Making predictions\"):\n",
        "    # Send data and targets to target device\n",
        "    X, y = X.to(device), y.to(device)\n",
        "    # Do the forward pass\n",
        "    y_logit = model(X)\n",
        "    # Turn predictions from logits -> prediction probabilities -> predictions labels\n",
        "    y_pred = torch.softmax(y_logit, dim=1).argmax(dim=1) # note: perform softmax on the \"logits\" dimension, not \"batch\" dimension (in this case we have a batch size of 32, so can perform on dim=1)\n",
        "    # Put predictions on CPU for evaluation\n",
        "    y_preds.extend(y_pred.cpu().tolist())\n",
        "# Concatenate list of predictions into a tensor\n",
        "y_pred_tensor = torch.tensor(y_preds, device = device)"
      ]
    },
    {
      "cell_type": "code",
      "execution_count": null,
      "metadata": {
        "colab": {
          "base_uri": "https://localhost:8080/"
        },
        "id": "mu4qWPusJ1Yz",
        "outputId": "3cb592bf-c664-4fa7-f962-a313508bb090"
      },
      "outputs": [
        {
          "output_type": "stream",
          "name": "stdout",
          "text": [
            "mlxtend version: 0.23.4\n"
          ]
        }
      ],
      "source": [
        "# See if torchmetrics exists, if not, install it\n",
        "try:\n",
        "    import torchmetrics, mlxtend\n",
        "    print(f\"mlxtend version: {mlxtend.__version__}\")\n",
        "    assert int(mlxtend.__version__.split(\".\")[1]) >= 19, \"mlxtend verison should be 0.19.0 or higher\"\n",
        "except:\n",
        "    !pip install -q torchmetrics -U mlxtend # <- Note: If you're using Google Colab, this may require restarting the runtime\n",
        "    import torchmetrics, mlxtend\n",
        "    print(f\"mlxtend version: {mlxtend.__version__}\")"
      ]
    },
    {
      "cell_type": "code",
      "execution_count": null,
      "metadata": {
        "colab": {
          "base_uri": "https://localhost:8080/"
        },
        "id": "E-zY7EC6J1Yz",
        "outputId": "a89e5a20-77f7-48bd-8039-265506759d4b"
      },
      "outputs": [
        {
          "output_type": "stream",
          "name": "stdout",
          "text": [
            "0.23.4\n"
          ]
        }
      ],
      "source": [
        "# Import mlxtend upgraded version\n",
        "import mlxtend\n",
        "print(mlxtend.__version__)\n",
        "assert int(mlxtend.__version__.split(\".\")[1]) >= 19 # should be version 0.19.0 or higher"
      ]
    },
    {
      "cell_type": "code",
      "execution_count": null,
      "metadata": {
        "id": "hW2srdTYJ1Yz"
      },
      "outputs": [],
      "source": [
        "from torchvision import datasets\n",
        "test_data = datasets.ImageFolder(root=test_dir,\n",
        "                                 transform=auto_transforms)"
      ]
    },
    {
      "cell_type": "code",
      "execution_count": null,
      "metadata": {
        "colab": {
          "base_uri": "https://localhost:8080/"
        },
        "id": "cEJAY_izJ1Yz",
        "outputId": "e2404802-a77d-4d6e-df0a-3c210e857fd2"
      },
      "outputs": [
        {
          "output_type": "execute_result",
          "data": {
            "text/plain": [
              "['Apple', 'Banana', 'Bean', 'Onion', 'Potato']"
            ]
          },
          "metadata": {},
          "execution_count": 58
        }
      ],
      "source": [
        "class_names = test_data.classes\n",
        "class_names"
      ]
    },
    {
      "cell_type": "code",
      "execution_count": null,
      "metadata": {
        "colab": {
          "base_uri": "https://localhost:8080/",
          "height": 652
        },
        "id": "cnF20wGKJ1Yz",
        "outputId": "bd682d3b-0462-4d8d-fdc7-c5862d49c24f"
      },
      "outputs": [
        {
          "output_type": "display_data",
          "data": {
            "text/plain": [
              "<Figure size 1000x700 with 1 Axes>"
            ],
            "image/png": "[encoded data removed]"
          },
          "metadata": {}
        }
      ],
      "source": [
        "from torchmetrics import ConfusionMatrix\n",
        "from mlxtend.plotting import plot_confusion_matrix\n",
        "\n",
        "\n",
        "# 2. Setup confusion matrix instance and compare predictions to targets\n",
        "confmat = ConfusionMatrix(num_classes=len(class_names), task='multiclass')\n",
        "confmat_tensor = confmat(preds=y_pred_tensor.to(confmat.device),\n",
        "                         target=torch.tensor(test_data.targets).to(confmat.device))\n",
        "\n",
        "confmat_normalized = confmat_tensor / confmat_tensor.sum(axis=1, keepdims=True) * 100\n",
        "# 3. Plot the confusion matrix\n",
        "fig, ax = plot_confusion_matrix(\n",
        "    conf_mat=confmat_normalized.numpy(), # matplotlib likes working with NumPy\n",
        "    class_names=class_names, # turn the row and column labels into class names\n",
        "    figsize=(10, 7),\n",
        ");"
      ]
    },
    {
      "cell_type": "code",
      "execution_count": null,
      "metadata": {
        "colab": {
          "base_uri": "https://localhost:8080/",
          "height": 641
        },
        "id": "EJpueUZoJ1Yz",
        "outputId": "17352d98-52a5-4cf8-d485-f6444808e9e1"
      },
      "outputs": [
        {
          "output_type": "display_data",
          "data": {
            "text/plain": [
              "<Figure size 1500x700 with 2 Axes>"
            ],
            "image/png": "[encoded data removed]"
          },
          "metadata": {}
        }
      ],
      "source": [
        "# Get the plot_loss_curves() function from helper_functions.py, download the file if we don't have it\n",
        "try:\n",
        "    from helper_functions import plot_loss_curves\n",
        "except:\n",
        "    print(\"[INFO] Couldn't find helper_functions.py, downloading...\")\n",
        "    with open(\"helper_functions.py\", \"wb\") as f:\n",
        "        import requests\n",
        "        request = requests.get(\"https://raw.githubusercontent.com/mrdbourke/pytorch-deep-learning/main/helper_functions.py\")\n",
        "        f.write(request.content)\n",
        "    from helper_functions import plot_loss_curves\n",
        "\n",
        "# Plot the loss curves of our model\n",
        "plot_loss_curves(results)"
      ]
    },
    {
      "cell_type": "code",
      "execution_count": null,
      "metadata": {
        "colab": {
          "base_uri": "https://localhost:8080/"
        },
        "id": "7urg-kkpJ1Yz",
        "outputId": "63e6fe77-8433-4df0-d704-cfa9a519c825"
      },
      "outputs": [
        {
          "output_type": "stream",
          "name": "stdout",
          "text": [
            "              precision    recall  f1-score   support\n",
            "\n",
            "       Apple     0.8333    1.0000    0.9091        20\n",
            "      Banana     1.0000    1.0000    1.0000        20\n",
            "        Bean     1.0000    1.0000    1.0000        20\n",
            "       Onion     0.8750    0.7000    0.7778        20\n",
            "      Potato     0.8500    0.8500    0.8500        20\n",
            "\n",
            "    accuracy                         0.9100       100\n",
            "   macro avg     0.9117    0.9100    0.9074       100\n",
            "weighted avg     0.9117    0.9100    0.9074       100\n",
            "\n"
          ]
        }
      ],
      "source": [
        "from sklearn.metrics import classification_report\n",
        "print(classification_report(torch.tensor(test_data.targets).cpu(), torch.tensor(y_preds).cpu(), target_names=class_names, digits=4))"
      ]
    },
    {
      "cell_type": "code",
      "execution_count": null,
      "metadata": {
        "id": "tUzyw9BIby_Q"
      },
      "outputs": [],
      "source": []
    },
    {
      "cell_type": "markdown",
      "metadata": {
        "id": "cgbxkMvzbza6"
      },
      "source": [
        "# **ResNet18**\n",
        "\n",
        "---\n",
        "\n",
        "\n",
        "\n",
        "---\n",
        "\n",
        "\n",
        "\n",
        "---\n",
        "\n"
      ]
    },
    {
      "cell_type": "code",
      "execution_count": null,
      "metadata": {
        "colab": {
          "base_uri": "https://localhost:8080/"
        },
        "id": "u0G-PXR1bza7",
        "outputId": "7fff11f7-5446-4271-f407-90964b4df153"
      },
      "outputs": [
        {
          "output_type": "execute_result",
          "data": {
            "text/plain": [
              "ResNet18_Weights.IMAGENET1K_V1"
            ]
          },
          "metadata": {},
          "execution_count": 62
        }
      ],
      "source": [
        "# Get a set of pretrained model weights\n",
        "weights = torchvision.models.ResNet18_Weights.DEFAULT # .DEFAULT = best available weights from pretraining on ImageNet\n",
        "weights"
      ]
    },
    {
      "cell_type": "code",
      "execution_count": null,
      "metadata": {
        "colab": {
          "base_uri": "https://localhost:8080/"
        },
        "id": "PrOyZtXjbza7",
        "outputId": "09d42e52-5edb-4582-b685-d268c358053c"
      },
      "outputs": [
        {
          "output_type": "execute_result",
          "data": {
            "text/plain": [
              "ImageClassification(\n",
              "    crop_size=[224]\n",
              "    resize_size=[256]\n",
              "    mean=[0.485, 0.456, 0.406]\n",
              "    std=[0.229, 0.224, 0.225]\n",
              "    interpolation=InterpolationMode.BILINEAR\n",
              ")"
            ]
          },
          "metadata": {},
          "execution_count": 63
        }
      ],
      "source": [
        "# Get the transforms used to create our pretrained weights\n",
        "auto_transforms = weights.transforms()\n",
        "auto_transforms"
      ]
    },
    {
      "cell_type": "code",
      "execution_count": null,
      "metadata": {
        "colab": {
          "base_uri": "https://localhost:8080/"
        },
        "id": "__CPOUVZbza8",
        "outputId": "946ae96f-2c02-4e9b-e144-ece412f8eb55"
      },
      "outputs": [
        {
          "output_type": "execute_result",
          "data": {
            "text/plain": [
              "(<torch.utils.data.dataloader.DataLoader at 0x7c3dc47f7710>,\n",
              " <torch.utils.data.dataloader.DataLoader at 0x7c3dc8c82a20>,\n",
              " ['Apple', 'Banana', 'Beans', 'Onion', 'Potato'])"
            ]
          },
          "metadata": {},
          "execution_count": 64
        }
      ],
      "source": [
        "# Create training and testing DataLoaders as well as get a list of class names\n",
        "train_dataloader, test_dataloader, class_names = data_setup.create_dataloaders(train_dir=train_dir,\n",
        "                                                                               test_dir=test_dir,\n",
        "                                                                               transform=auto_transforms, # perform same data transforms on our own data as the pretrained model\n",
        "                                                                               batch_size=32) # set mini-batch size to 32\n",
        "\n",
        "train_dataloader, test_dataloader, class_names"
      ]
    },
    {
      "cell_type": "code",
      "execution_count": null,
      "metadata": {
        "colab": {
          "base_uri": "https://localhost:8080/"
        },
        "id": "4pvhzEcGbza8",
        "outputId": "8c51cd13-8fee-4767-866b-98c0b892bfba"
      },
      "outputs": [
        {
          "output_type": "stream",
          "name": "stdout",
          "text": [
            "Downloading: \"https://download.pytorch.org/models/resnet18-f37072fd.pth\" to /root/.cache/torch/hub/checkpoints/resnet18-f37072fd.pth\n"
          ]
        },
        {
          "output_type": "stream",
          "name": "stderr",
          "text": [
            "100%|██████████| 44.7M/44.7M [00:00<00:00, 131MB/s]\n"
          ]
        }
      ],
      "source": [
        "# NEW: Setup the model with pretrained weights and send it to the target device (torchvision v0.13+)\n",
        "model = torchvision.models.resnet18(weights=weights).to(device)"
      ]
    },
    {
      "cell_type": "code",
      "execution_count": null,
      "metadata": {
        "colab": {
          "base_uri": "https://localhost:8080/"
        },
        "id": "FihG6657bza8",
        "outputId": "e5c56c7f-cc66-4ecc-c53f-30a6fbf40ea5"
      },
      "outputs": [
        {
          "output_type": "execute_result",
          "data": {
            "text/plain": [
              "========================================================================================================================\n",
              "Layer (type (var_name))                  Input Shape          Output Shape         Param #              Trainable\n",
              "========================================================================================================================\n",
              "ResNet (ResNet)                          [32, 3, 224, 224]    [32, 1000]           --                   True\n",
              "├─Conv2d (conv1)                         [32, 3, 224, 224]    [32, 64, 112, 112]   9,408                True\n",
              "├─BatchNorm2d (bn1)                      [32, 64, 112, 112]   [32, 64, 112, 112]   128                  True\n",
              "├─ReLU (relu)                            [32, 64, 112, 112]   [32, 64, 112, 112]   --                   --\n",
              "├─MaxPool2d (maxpool)                    [32, 64, 112, 112]   [32, 64, 56, 56]     --                   --\n",
              "├─Sequential (layer1)                    [32, 64, 56, 56]     [32, 64, 56, 56]     --                   True\n",
              "│    └─BasicBlock (0)                    [32, 64, 56, 56]     [32, 64, 56, 56]     --                   True\n",
              "│    │    └─Conv2d (conv1)               [32, 64, 56, 56]     [32, 64, 56, 56]     36,864               True\n",
              "│    │    └─BatchNorm2d (bn1)            [32, 64, 56, 56]     [32, 64, 56, 56]     128                  True\n",
              "│    │    └─ReLU (relu)                  [32, 64, 56, 56]     [32, 64, 56, 56]     --                   --\n",
              "│    │    └─Conv2d (conv2)               [32, 64, 56, 56]     [32, 64, 56, 56]     36,864               True\n",
              "│    │    └─BatchNorm2d (bn2)            [32, 64, 56, 56]     [32, 64, 56, 56]     128                  True\n",
              "│    │    └─ReLU (relu)                  [32, 64, 56, 56]     [32, 64, 56, 56]     --                   --\n",
              "│    └─BasicBlock (1)                    [32, 64, 56, 56]     [32, 64, 56, 56]     --                   True\n",
              "│    │    └─Conv2d (conv1)               [32, 64, 56, 56]     [32, 64, 56, 56]     36,864               True\n",
              "│    │    └─BatchNorm2d (bn1)            [32, 64, 56, 56]     [32, 64, 56, 56]     128                  True\n",
              "│    │    └─ReLU (relu)                  [32, 64, 56, 56]     [32, 64, 56, 56]     --                   --\n",
              "│    │    └─Conv2d (conv2)               [32, 64, 56, 56]     [32, 64, 56, 56]     36,864               True\n",
              "│    │    └─BatchNorm2d (bn2)            [32, 64, 56, 56]     [32, 64, 56, 56]     128                  True\n",
              "│    │    └─ReLU (relu)                  [32, 64, 56, 56]     [32, 64, 56, 56]     --                   --\n",
              "├─Sequential (layer2)                    [32, 64, 56, 56]     [32, 128, 28, 28]    --                   True\n",
              "│    └─BasicBlock (0)                    [32, 64, 56, 56]     [32, 128, 28, 28]    --                   True\n",
              "│    │    └─Conv2d (conv1)               [32, 64, 56, 56]     [32, 128, 28, 28]    73,728               True\n",
              "│    │    └─BatchNorm2d (bn1)            [32, 128, 28, 28]    [32, 128, 28, 28]    256                  True\n",
              "│    │    └─ReLU (relu)                  [32, 128, 28, 28]    [32, 128, 28, 28]    --                   --\n",
              "│    │    └─Conv2d (conv2)               [32, 128, 28, 28]    [32, 128, 28, 28]    147,456              True\n",
              "│    │    └─BatchNorm2d (bn2)            [32, 128, 28, 28]    [32, 128, 28, 28]    256                  True\n",
              "│    │    └─Sequential (downsample)      [32, 64, 56, 56]     [32, 128, 28, 28]    8,448                True\n",
              "│    │    └─ReLU (relu)                  [32, 128, 28, 28]    [32, 128, 28, 28]    --                   --\n",
              "│    └─BasicBlock (1)                    [32, 128, 28, 28]    [32, 128, 28, 28]    --                   True\n",
              "│    │    └─Conv2d (conv1)               [32, 128, 28, 28]    [32, 128, 28, 28]    147,456              True\n",
              "│    │    └─BatchNorm2d (bn1)            [32, 128, 28, 28]    [32, 128, 28, 28]    256                  True\n",
              "│    │    └─ReLU (relu)                  [32, 128, 28, 28]    [32, 128, 28, 28]    --                   --\n",
              "│    │    └─Conv2d (conv2)               [32, 128, 28, 28]    [32, 128, 28, 28]    147,456              True\n",
              "│    │    └─BatchNorm2d (bn2)            [32, 128, 28, 28]    [32, 128, 28, 28]    256                  True\n",
              "│    │    └─ReLU (relu)                  [32, 128, 28, 28]    [32, 128, 28, 28]    --                   --\n",
              "├─Sequential (layer3)                    [32, 128, 28, 28]    [32, 256, 14, 14]    --                   True\n",
              "│    └─BasicBlock (0)                    [32, 128, 28, 28]    [32, 256, 14, 14]    --                   True\n",
              "│    │    └─Conv2d (conv1)               [32, 128, 28, 28]    [32, 256, 14, 14]    294,912              True\n",
              "│    │    └─BatchNorm2d (bn1)            [32, 256, 14, 14]    [32, 256, 14, 14]    512                  True\n",
              "│    │    └─ReLU (relu)                  [32, 256, 14, 14]    [32, 256, 14, 14]    --                   --\n",
              "│    │    └─Conv2d (conv2)               [32, 256, 14, 14]    [32, 256, 14, 14]    589,824              True\n",
              "│    │    └─BatchNorm2d (bn2)            [32, 256, 14, 14]    [32, 256, 14, 14]    512                  True\n",
              "│    │    └─Sequential (downsample)      [32, 128, 28, 28]    [32, 256, 14, 14]    33,280               True\n",
              "│    │    └─ReLU (relu)                  [32, 256, 14, 14]    [32, 256, 14, 14]    --                   --\n",
              "│    └─BasicBlock (1)                    [32, 256, 14, 14]    [32, 256, 14, 14]    --                   True\n",
              "│    │    └─Conv2d (conv1)               [32, 256, 14, 14]    [32, 256, 14, 14]    589,824              True\n",
              "│    │    └─BatchNorm2d (bn1)            [32, 256, 14, 14]    [32, 256, 14, 14]    512                  True\n",
              "│    │    └─ReLU (relu)                  [32, 256, 14, 14]    [32, 256, 14, 14]    --                   --\n",
              "│    │    └─Conv2d (conv2)               [32, 256, 14, 14]    [32, 256, 14, 14]    589,824              True\n",
              "│    │    └─BatchNorm2d (bn2)            [32, 256, 14, 14]    [32, 256, 14, 14]    512                  True\n",
              "│    │    └─ReLU (relu)                  [32, 256, 14, 14]    [32, 256, 14, 14]    --                   --\n",
              "├─Sequential (layer4)                    [32, 256, 14, 14]    [32, 512, 7, 7]      --                   True\n",
              "│    └─BasicBlock (0)                    [32, 256, 14, 14]    [32, 512, 7, 7]      --                   True\n",
              "│    │    └─Conv2d (conv1)               [32, 256, 14, 14]    [32, 512, 7, 7]      1,179,648            True\n",
              "│    │    └─BatchNorm2d (bn1)            [32, 512, 7, 7]      [32, 512, 7, 7]      1,024                True\n",
              "│    │    └─ReLU (relu)                  [32, 512, 7, 7]      [32, 512, 7, 7]      --                   --\n",
              "│    │    └─Conv2d (conv2)               [32, 512, 7, 7]      [32, 512, 7, 7]      2,359,296            True\n",
              "│    │    └─BatchNorm2d (bn2)            [32, 512, 7, 7]      [32, 512, 7, 7]      1,024                True\n",
              "│    │    └─Sequential (downsample)      [32, 256, 14, 14]    [32, 512, 7, 7]      132,096              True\n",
              "│    │    └─ReLU (relu)                  [32, 512, 7, 7]      [32, 512, 7, 7]      --                   --\n",
              "│    └─BasicBlock (1)                    [32, 512, 7, 7]      [32, 512, 7, 7]      --                   True\n",
              "│    │    └─Conv2d (conv1)               [32, 512, 7, 7]      [32, 512, 7, 7]      2,359,296            True\n",
              "│    │    └─BatchNorm2d (bn1)            [32, 512, 7, 7]      [32, 512, 7, 7]      1,024                True\n",
              "│    │    └─ReLU (relu)                  [32, 512, 7, 7]      [32, 512, 7, 7]      --                   --\n",
              "│    │    └─Conv2d (conv2)               [32, 512, 7, 7]      [32, 512, 7, 7]      2,359,296            True\n",
              "│    │    └─BatchNorm2d (bn2)            [32, 512, 7, 7]      [32, 512, 7, 7]      1,024                True\n",
              "│    │    └─ReLU (relu)                  [32, 512, 7, 7]      [32, 512, 7, 7]      --                   --\n",
              "├─AdaptiveAvgPool2d (avgpool)            [32, 512, 7, 7]      [32, 512, 1, 1]      --                   --\n",
              "├─Linear (fc)                            [32, 512]            [32, 1000]           513,000              True\n",
              "========================================================================================================================\n",
              "Total params: 11,689,512\n",
              "Trainable params: 11,689,512\n",
              "Non-trainable params: 0\n",
              "Total mult-adds (Units.GIGABYTES): 58.05\n",
              "========================================================================================================================\n",
              "Input size (MB): 19.27\n",
              "Forward/backward pass size (MB): 1271.92\n",
              "Params size (MB): 46.76\n",
              "Estimated Total Size (MB): 1337.94\n",
              "========================================================================================================================"
            ]
          },
          "metadata": {},
          "execution_count": 66
        }
      ],
      "source": [
        "# Print a summary using torchinfo (uncomment for actual output)\n",
        "summary(model=model,\n",
        "        input_size=(32, 3, 224, 224), # make sure this is \"input_size\", not \"input_shape\"\n",
        "        # col_names=[\"input_size\"], # uncomment for smaller output\n",
        "        col_names=[\"input_size\", \"output_size\", \"num_params\", \"trainable\"],\n",
        "        col_width=20,\n",
        "        row_settings=[\"var_names\"]\n",
        ")"
      ]
    },
    {
      "cell_type": "code",
      "execution_count": null,
      "metadata": {
        "id": "1ED6ob-3bza8"
      },
      "outputs": [],
      "source": [
        "# Freeze all base layers except the final classifier\n",
        "for name, param in model.named_parameters():\n",
        "    if 'fc' not in name: # Assuming the final fully connected layer is named 'fc'\n",
        "        param.requires_grad = False"
      ]
    },
    {
      "cell_type": "code",
      "execution_count": null,
      "metadata": {
        "id": "v1W__gl4bza9"
      },
      "outputs": [],
      "source": [
        "# Recreate the classifier layer and seed it to the target device\n",
        "# The in_features for ResNet18's classifier is 512\n",
        "model.fc = torch.nn.Sequential(\n",
        "    torch.nn.Dropout(p=0.2, inplace=True),\n",
        "    torch.nn.Linear(in_features=512, # Corrected in_features for ResNet18\n",
        "                    out_features=5, # Set the output features to number of classes\n",
        "                    bias=True)).to(device)"
      ]
    },
    {
      "cell_type": "code",
      "execution_count": null,
      "metadata": {
        "colab": {
          "base_uri": "https://localhost:8080/"
        },
        "id": "6-lsCH3Ibza9",
        "outputId": "f666db62-ab57-464d-8b1c-60cf455a5b50"
      },
      "outputs": [
        {
          "output_type": "execute_result",
          "data": {
            "text/plain": [
              "========================================================================================================================\n",
              "Layer (type (var_name))                  Input Shape          Output Shape         Param #              Trainable\n",
              "========================================================================================================================\n",
              "ResNet (ResNet)                          [32, 3, 224, 224]    [32, 5]              --                   Partial\n",
              "├─Conv2d (conv1)                         [32, 3, 224, 224]    [32, 64, 112, 112]   (9,408)              False\n",
              "├─BatchNorm2d (bn1)                      [32, 64, 112, 112]   [32, 64, 112, 112]   (128)                False\n",
              "├─ReLU (relu)                            [32, 64, 112, 112]   [32, 64, 112, 112]   --                   --\n",
              "├─MaxPool2d (maxpool)                    [32, 64, 112, 112]   [32, 64, 56, 56]     --                   --\n",
              "├─Sequential (layer1)                    [32, 64, 56, 56]     [32, 64, 56, 56]     --                   False\n",
              "│    └─BasicBlock (0)                    [32, 64, 56, 56]     [32, 64, 56, 56]     --                   False\n",
              "│    │    └─Conv2d (conv1)               [32, 64, 56, 56]     [32, 64, 56, 56]     (36,864)             False\n",
              "│    │    └─BatchNorm2d (bn1)            [32, 64, 56, 56]     [32, 64, 56, 56]     (128)                False\n",
              "│    │    └─ReLU (relu)                  [32, 64, 56, 56]     [32, 64, 56, 56]     --                   --\n",
              "│    │    └─Conv2d (conv2)               [32, 64, 56, 56]     [32, 64, 56, 56]     (36,864)             False\n",
              "│    │    └─BatchNorm2d (bn2)            [32, 64, 56, 56]     [32, 64, 56, 56]     (128)                False\n",
              "│    │    └─ReLU (relu)                  [32, 64, 56, 56]     [32, 64, 56, 56]     --                   --\n",
              "│    └─BasicBlock (1)                    [32, 64, 56, 56]     [32, 64, 56, 56]     --                   False\n",
              "│    │    └─Conv2d (conv1)               [32, 64, 56, 56]     [32, 64, 56, 56]     (36,864)             False\n",
              "│    │    └─BatchNorm2d (bn1)            [32, 64, 56, 56]     [32, 64, 56, 56]     (128)                False\n",
              "│    │    └─ReLU (relu)                  [32, 64, 56, 56]     [32, 64, 56, 56]     --                   --\n",
              "│    │    └─Conv2d (conv2)               [32, 64, 56, 56]     [32, 64, 56, 56]     (36,864)             False\n",
              "│    │    └─BatchNorm2d (bn2)            [32, 64, 56, 56]     [32, 64, 56, 56]     (128)                False\n",
              "│    │    └─ReLU (relu)                  [32, 64, 56, 56]     [32, 64, 56, 56]     --                   --\n",
              "├─Sequential (layer2)                    [32, 64, 56, 56]     [32, 128, 28, 28]    --                   False\n",
              "│    └─BasicBlock (0)                    [32, 64, 56, 56]     [32, 128, 28, 28]    --                   False\n",
              "│    │    └─Conv2d (conv1)               [32, 64, 56, 56]     [32, 128, 28, 28]    (73,728)             False\n",
              "│    │    └─BatchNorm2d (bn1)            [32, 128, 28, 28]    [32, 128, 28, 28]    (256)                False\n",
              "│    │    └─ReLU (relu)                  [32, 128, 28, 28]    [32, 128, 28, 28]    --                   --\n",
              "│    │    └─Conv2d (conv2)               [32, 128, 28, 28]    [32, 128, 28, 28]    (147,456)            False\n",
              "│    │    └─BatchNorm2d (bn2)            [32, 128, 28, 28]    [32, 128, 28, 28]    (256)                False\n",
              "│    │    └─Sequential (downsample)      [32, 64, 56, 56]     [32, 128, 28, 28]    (8,448)              False\n",
              "│    │    └─ReLU (relu)                  [32, 128, 28, 28]    [32, 128, 28, 28]    --                   --\n",
              "│    └─BasicBlock (1)                    [32, 128, 28, 28]    [32, 128, 28, 28]    --                   False\n",
              "│    │    └─Conv2d (conv1)               [32, 128, 28, 28]    [32, 128, 28, 28]    (147,456)            False\n",
              "│    │    └─BatchNorm2d (bn1)            [32, 128, 28, 28]    [32, 128, 28, 28]    (256)                False\n",
              "│    │    └─ReLU (relu)                  [32, 128, 28, 28]    [32, 128, 28, 28]    --                   --\n",
              "│    │    └─Conv2d (conv2)               [32, 128, 28, 28]    [32, 128, 28, 28]    (147,456)            False\n",
              "│    │    └─BatchNorm2d (bn2)            [32, 128, 28, 28]    [32, 128, 28, 28]    (256)                False\n",
              "│    │    └─ReLU (relu)                  [32, 128, 28, 28]    [32, 128, 28, 28]    --                   --\n",
              "├─Sequential (layer3)                    [32, 128, 28, 28]    [32, 256, 14, 14]    --                   False\n",
              "│    └─BasicBlock (0)                    [32, 128, 28, 28]    [32, 256, 14, 14]    --                   False\n",
              "│    │    └─Conv2d (conv1)               [32, 128, 28, 28]    [32, 256, 14, 14]    (294,912)            False\n",
              "│    │    └─BatchNorm2d (bn1)            [32, 256, 14, 14]    [32, 256, 14, 14]    (512)                False\n",
              "│    │    └─ReLU (relu)                  [32, 256, 14, 14]    [32, 256, 14, 14]    --                   --\n",
              "│    │    └─Conv2d (conv2)               [32, 256, 14, 14]    [32, 256, 14, 14]    (589,824)            False\n",
              "│    │    └─BatchNorm2d (bn2)            [32, 256, 14, 14]    [32, 256, 14, 14]    (512)                False\n",
              "│    │    └─Sequential (downsample)      [32, 128, 28, 28]    [32, 256, 14, 14]    (33,280)             False\n",
              "│    │    └─ReLU (relu)                  [32, 256, 14, 14]    [32, 256, 14, 14]    --                   --\n",
              "│    └─BasicBlock (1)                    [32, 256, 14, 14]    [32, 256, 14, 14]    --                   False\n",
              "│    │    └─Conv2d (conv1)               [32, 256, 14, 14]    [32, 256, 14, 14]    (589,824)            False\n",
              "│    │    └─BatchNorm2d (bn1)            [32, 256, 14, 14]    [32, 256, 14, 14]    (512)                False\n",
              "│    │    └─ReLU (relu)                  [32, 256, 14, 14]    [32, 256, 14, 14]    --                   --\n",
              "│    │    └─Conv2d (conv2)               [32, 256, 14, 14]    [32, 256, 14, 14]    (589,824)            False\n",
              "│    │    └─BatchNorm2d (bn2)            [32, 256, 14, 14]    [32, 256, 14, 14]    (512)                False\n",
              "│    │    └─ReLU (relu)                  [32, 256, 14, 14]    [32, 256, 14, 14]    --                   --\n",
              "├─Sequential (layer4)                    [32, 256, 14, 14]    [32, 512, 7, 7]      --                   False\n",
              "│    └─BasicBlock (0)                    [32, 256, 14, 14]    [32, 512, 7, 7]      --                   False\n",
              "│    │    └─Conv2d (conv1)               [32, 256, 14, 14]    [32, 512, 7, 7]      (1,179,648)          False\n",
              "│    │    └─BatchNorm2d (bn1)            [32, 512, 7, 7]      [32, 512, 7, 7]      (1,024)              False\n",
              "│    │    └─ReLU (relu)                  [32, 512, 7, 7]      [32, 512, 7, 7]      --                   --\n",
              "│    │    └─Conv2d (conv2)               [32, 512, 7, 7]      [32, 512, 7, 7]      (2,359,296)          False\n",
              "│    │    └─BatchNorm2d (bn2)            [32, 512, 7, 7]      [32, 512, 7, 7]      (1,024)              False\n",
              "│    │    └─Sequential (downsample)      [32, 256, 14, 14]    [32, 512, 7, 7]      (132,096)            False\n",
              "│    │    └─ReLU (relu)                  [32, 512, 7, 7]      [32, 512, 7, 7]      --                   --\n",
              "│    └─BasicBlock (1)                    [32, 512, 7, 7]      [32, 512, 7, 7]      --                   False\n",
              "│    │    └─Conv2d (conv1)               [32, 512, 7, 7]      [32, 512, 7, 7]      (2,359,296)          False\n",
              "│    │    └─BatchNorm2d (bn1)            [32, 512, 7, 7]      [32, 512, 7, 7]      (1,024)              False\n",
              "│    │    └─ReLU (relu)                  [32, 512, 7, 7]      [32, 512, 7, 7]      --                   --\n",
              "│    │    └─Conv2d (conv2)               [32, 512, 7, 7]      [32, 512, 7, 7]      (2,359,296)          False\n",
              "│    │    └─BatchNorm2d (bn2)            [32, 512, 7, 7]      [32, 512, 7, 7]      (1,024)              False\n",
              "│    │    └─ReLU (relu)                  [32, 512, 7, 7]      [32, 512, 7, 7]      --                   --\n",
              "├─AdaptiveAvgPool2d (avgpool)            [32, 512, 7, 7]      [32, 512, 1, 1]      --                   --\n",
              "├─Sequential (fc)                        [32, 512]            [32, 5]              --                   True\n",
              "│    └─Dropout (0)                       [32, 512]            [32, 512]            --                   --\n",
              "│    └─Linear (1)                        [32, 512]            [32, 5]              2,565                True\n",
              "========================================================================================================================\n",
              "Total params: 11,179,077\n",
              "Trainable params: 2,565\n",
              "Non-trainable params: 11,176,512\n",
              "Total mult-adds (Units.GIGABYTES): 58.03\n",
              "========================================================================================================================\n",
              "Input size (MB): 19.27\n",
              "Forward/backward pass size (MB): 1271.66\n",
              "Params size (MB): 44.72\n",
              "Estimated Total Size (MB): 1335.65\n",
              "========================================================================================================================"
            ]
          },
          "metadata": {},
          "execution_count": 69
        }
      ],
      "source": [
        "# # Do a summary *after* freezing the features and changing the output classifier layer (uncomment for actual output)\n",
        "summary(model,\n",
        "        input_size=(32, 3, 224, 224),\n",
        "        verbose=0,\n",
        "        col_names=[\"input_size\", \"output_size\", \"num_params\", \"trainable\"],\n",
        "        col_width=20,\n",
        "        row_settings=[\"var_names\"]\n",
        ")"
      ]
    },
    {
      "cell_type": "code",
      "execution_count": null,
      "metadata": {
        "id": "-UXNnBuFbza9"
      },
      "outputs": [],
      "source": [
        "loss_fn = nn.CrossEntropyLoss()\n",
        "optimizer = torch.optim.Adam(model.parameters(), lr=0.001)"
      ]
    },
    {
      "cell_type": "code",
      "execution_count": null,
      "metadata": {
        "colab": {
          "base_uri": "https://localhost:8080/",
          "height": 277,
          "referenced_widgets": [
            "63a0513ba9464032b5c4ed6490838c8f",
            "ccf1cff670b3418d8247e6cf84777714",
            "65bc2a223ddb43188981e8824b17a640",
            "a3b0e1929ad04bb2961aab5f2f765a7d",
            "9854d862b2114e3f8a1e31f1053803aa",
            "9b385a6a42aa41d2942292ac64046b34",
            "006640e1994a48a9b13b8606bedf6d52",
            "aa6721425f3646a48a58b81fba3033dc",
            "9a8884bd18df46cdbb23c41b6ab782b6",
            "6ac0c92cc6794ed2883b592e6511184e",
            "4b4b609e55434b8894aea01cea953558"
          ]
        },
        "id": "vJMwLvckbza9",
        "outputId": "d9aee601-5926-4849-931c-3cde425f9175"
      },
      "outputs": [
        {
          "output_type": "display_data",
          "data": {
            "text/plain": [
              "  0%|          | 0/10 [00:00<?, ?it/s]"
            ],
            "application/vnd.jupyter.widget-view+json": {
              "version_major": 2,
              "version_minor": 0,
              "model_id": "63a0513ba9464032b5c4ed6490838c8f"
            }
          },
          "metadata": {}
        },
        {
          "output_type": "stream",
          "name": "stderr",
          "text": [
            "/usr/local/lib/python3.12/dist-packages/torch/utils/data/dataloader.py:666: UserWarning: 'pin_memory' argument is set as true but no accelerator is found, then device pinned memory won't be used.\n",
            "  warnings.warn(warn_msg)\n"
          ]
        },
        {
          "output_type": "stream",
          "name": "stdout",
          "text": [
            "Epoch: 1 | train_loss: 1.1557 | train_acc: 0.6078 | test_loss: 0.6440 | test_acc: 0.9375\n",
            "Epoch: 2 | train_loss: 0.4837 | train_acc: 0.9246 | test_loss: 0.3257 | test_acc: 0.9453\n",
            "Epoch: 3 | train_loss: 0.2885 | train_acc: 0.9655 | test_loss: 0.2703 | test_acc: 0.9453\n",
            "Epoch: 4 | train_loss: 0.2611 | train_acc: 0.9418 | test_loss: 0.2180 | test_acc: 0.9453\n",
            "Epoch: 5 | train_loss: 0.2017 | train_acc: 0.9612 | test_loss: 0.1826 | test_acc: 0.9453\n",
            "Epoch: 6 | train_loss: 0.1515 | train_acc: 0.9817 | test_loss: 0.1429 | test_acc: 0.9531\n",
            "Epoch: 7 | train_loss: 0.1395 | train_acc: 0.9806 | test_loss: 0.1413 | test_acc: 0.9531\n",
            "Epoch: 8 | train_loss: 0.1214 | train_acc: 0.9838 | test_loss: 0.1270 | test_acc: 0.9531\n",
            "Epoch: 9 | train_loss: 0.1077 | train_acc: 0.9795 | test_loss: 0.1232 | test_acc: 0.9688\n",
            "Epoch: 10 | train_loss: 0.0953 | train_acc: 0.9849 | test_loss: 0.1135 | test_acc: 0.9688\n"
          ]
        }
      ],
      "source": [
        "torch.manual_seed(42)\n",
        "torch.cuda.manual_seed(42)\n",
        "\n",
        "results = engine.train(model=model,\n",
        "                       train_dataloader=train_dataloader,\n",
        "                       test_dataloader=test_dataloader,\n",
        "                       optimizer=optimizer,\n",
        "                       loss_fn=loss_fn,\n",
        "                       epochs=10,\n",
        "                       device=device)\n"
      ]
    },
    {
      "cell_type": "code",
      "execution_count": null,
      "metadata": {
        "colab": {
          "base_uri": "https://localhost:8080/",
          "height": 49,
          "referenced_widgets": [
            "8eb85bdf0bea42fa83eb452bd18413f1",
            "09836a984307420e9eb38dde32021256",
            "d59fd48e6ced4e2085236abf0e40a4c1",
            "148207a409214ac6bf91ddadfc976497",
            "0416bb4ed6714f248f108e1ea02ee092",
            "b288fcd241f443a594bb597558cf3fd8",
            "fcd614e08ae046c5926906db238f44b2",
            "6729ee40aadd488b926245e6ff5f2d15",
            "c7ba444d810644e69bed5814744d88e3",
            "c80a11d600404f9b90fdfd8d5822b25e",
            "5b27ecaf78364eaab2686ed6cb2117a7"
          ]
        },
        "id": "EmXzCJjFbza9",
        "outputId": "e5cbfbbc-4d8c-499d-c100-a9349c803c20"
      },
      "outputs": [
        {
          "output_type": "display_data",
          "data": {
            "text/plain": [
              "Making predictions:   0%|          | 0/4 [00:00<?, ?it/s]"
            ],
            "application/vnd.jupyter.widget-view+json": {
              "version_major": 2,
              "version_minor": 0,
              "model_id": "8eb85bdf0bea42fa83eb452bd18413f1"
            }
          },
          "metadata": {}
        }
      ],
      "source": [
        "# Import tqdm for progress bar\n",
        "from tqdm.auto import tqdm\n",
        "\n",
        "# 1. Make predictions with trained model\n",
        "y_preds = []\n",
        "model.eval()\n",
        "with torch.inference_mode():\n",
        "  for X, y in tqdm(test_dataloader, desc=\"Making predictions\"):\n",
        "    # Send data and targets to target device\n",
        "    X, y = X.to(device), y.to(device)\n",
        "    # Do the forward pass\n",
        "    y_logit = model(X)\n",
        "    # Turn predictions from logits -> prediction probabilities -> predictions labels\n",
        "    y_pred = torch.softmax(y_logit, dim=1).argmax(dim=1) # note: perform softmax on the \"logits\" dimension, not \"batch\" dimension (in this case we have a batch size of 32, so can perform on dim=1)\n",
        "    # Put predictions on CPU for evaluation\n",
        "    y_preds.extend(y_pred.cpu().tolist())\n",
        "# Concatenate list of predictions into a tensor\n",
        "y_pred_tensor = torch.tensor(y_preds, device = device)"
      ]
    },
    {
      "cell_type": "code",
      "execution_count": null,
      "metadata": {
        "colab": {
          "base_uri": "https://localhost:8080/"
        },
        "id": "AeW8phNpbza-",
        "outputId": "cbab5e47-ca97-4de6-b0ec-14d257f9ba52"
      },
      "outputs": [
        {
          "output_type": "stream",
          "name": "stdout",
          "text": [
            "mlxtend version: 0.23.4\n"
          ]
        }
      ],
      "source": [
        "# See if torchmetrics exists, if not, install it\n",
        "try:\n",
        "    import torchmetrics, mlxtend\n",
        "    print(f\"mlxtend version: {mlxtend.__version__}\")\n",
        "    assert int(mlxtend.__version__.split(\".\")[1]) >= 19, \"mlxtend verison should be 0.19.0 or higher\"\n",
        "except:\n",
        "    !pip install -q torchmetrics -U mlxtend # <- Note: If you're using Google Colab, this may require restarting the runtime\n",
        "    import torchmetrics, mlxtend\n",
        "    print(f\"mlxtend version: {mlxtend.__version__}\")"
      ]
    },
    {
      "cell_type": "code",
      "execution_count": null,
      "metadata": {
        "colab": {
          "base_uri": "https://localhost:8080/"
        },
        "id": "gBB_WQlobza-",
        "outputId": "1055f2ec-dcb7-4962-8a3a-b1bae45be36e"
      },
      "outputs": [
        {
          "output_type": "stream",
          "name": "stdout",
          "text": [
            "0.23.4\n"
          ]
        }
      ],
      "source": [
        "# Import mlxtend upgraded version\n",
        "import mlxtend\n",
        "print(mlxtend.__version__)\n",
        "assert int(mlxtend.__version__.split(\".\")[1]) >= 19 # should be version 0.19.0 or higher"
      ]
    },
    {
      "cell_type": "code",
      "execution_count": null,
      "metadata": {
        "id": "TclgIpNcbza-"
      },
      "outputs": [],
      "source": [
        "from torchvision import datasets\n",
        "test_data = datasets.ImageFolder(root=test_dir,\n",
        "                                 transform=auto_transforms)"
      ]
    },
    {
      "cell_type": "code",
      "execution_count": null,
      "metadata": {
        "colab": {
          "base_uri": "https://localhost:8080/"
        },
        "id": "t6XXD4Gmbza-",
        "outputId": "1a30bf89-e476-4776-daca-1518824baba2"
      },
      "outputs": [
        {
          "output_type": "execute_result",
          "data": {
            "text/plain": [
              "['Apple', 'Banana', 'Bean', 'Onion', 'Potato']"
            ]
          },
          "metadata": {},
          "execution_count": 76
        }
      ],
      "source": [
        "class_names = test_data.classes\n",
        "class_names"
      ]
    },
    {
      "cell_type": "code",
      "execution_count": null,
      "metadata": {
        "colab": {
          "base_uri": "https://localhost:8080/",
          "height": 652
        },
        "id": "pqDXnipfbza-",
        "outputId": "49fd522c-11bf-4758-a847-e2e7dba6b056"
      },
      "outputs": [
        {
          "output_type": "display_data",
          "data": {
            "text/plain": [
              "<Figure size 1000x700 with 1 Axes>"
            ],
            "image/png": "[encoded data removed]"
          },
          "metadata": {}
        }
      ],
      "source": [
        "from torchmetrics import ConfusionMatrix\n",
        "from mlxtend.plotting import plot_confusion_matrix\n",
        "\n",
        "\n",
        "# 2. Setup confusion matrix instance and compare predictions to targets\n",
        "confmat = ConfusionMatrix(num_classes=len(class_names), task='multiclass')\n",
        "confmat_tensor = confmat(preds=y_pred_tensor.to(confmat.device),\n",
        "                         target=torch.tensor(test_data.targets).to(confmat.device))\n",
        "\n",
        "confmat_normalized = confmat_tensor / confmat_tensor.sum(axis=1, keepdims=True) * 100\n",
        "# 3. Plot the confusion matrix\n",
        "fig, ax = plot_confusion_matrix(\n",
        "    conf_mat=confmat_normalized.numpy(), # matplotlib likes working with NumPy\n",
        "    class_names=class_names, # turn the row and column labels into class names\n",
        "    figsize=(10, 7),\n",
        ");"
      ]
    },
    {
      "cell_type": "code",
      "execution_count": null,
      "metadata": {
        "colab": {
          "base_uri": "https://localhost:8080/",
          "height": 641
        },
        "id": "GLF-B-tIbza-",
        "outputId": "82a31a1e-bcbb-4354-f6ef-644003cbb132"
      },
      "outputs": [
        {
          "output_type": "display_data",
          "data": {
            "text/plain": [
              "<Figure size 1500x700 with 2 Axes>"
            ],
            "image/png": "[encoded data removed]"
          },
          "metadata": {}
        }
      ],
      "source": [
        "# Get the plot_loss_curves() function from helper_functions.py, download the file if we don't have it\n",
        "try:\n",
        "    from helper_functions import plot_loss_curves\n",
        "except:\n",
        "    print(\"[INFO] Couldn't find helper_functions.py, downloading...\")\n",
        "    with open(\"helper_functions.py\", \"wb\") as f:\n",
        "        import requests\n",
        "        request = requests.get(\"https://raw.githubusercontent.com/mrdbourke/pytorch-deep-learning/main/helper_functions.py\")\n",
        "        f.write(request.content)\n",
        "    from helper_functions import plot_loss_curves\n",
        "\n",
        "# Plot the loss curves of our model\n",
        "plot_loss_curves(results)"
      ]
    },
    {
      "cell_type": "code",
      "execution_count": null,
      "metadata": {
        "colab": {
          "base_uri": "https://localhost:8080/"
        },
        "id": "Unjo5FMmbza-",
        "outputId": "919ea4f9-51a7-4337-b590-0f7599f888ff"
      },
      "outputs": [
        {
          "output_type": "stream",
          "name": "stdout",
          "text": [
            "              precision    recall  f1-score   support\n",
            "\n",
            "       Apple    0.95238   1.00000   0.97561        20\n",
            "      Banana    1.00000   1.00000   1.00000        20\n",
            "        Bean    0.86957   1.00000   0.93023        20\n",
            "       Onion    1.00000   0.85000   0.91892        20\n",
            "      Potato    1.00000   0.95000   0.97436        20\n",
            "\n",
            "    accuracy                        0.96000       100\n",
            "   macro avg    0.96439   0.96000   0.95982       100\n",
            "weighted avg    0.96439   0.96000   0.95982       100\n",
            "\n"
          ]
        }
      ],
      "source": [
        "from sklearn.metrics import classification_report\n",
        "print(classification_report(torch.tensor(test_data.targets).cpu(), torch.tensor(y_preds).cpu(), target_names=class_names, digits=5))"
      ]
    },
    {
      "cell_type": "markdown",
      "metadata": {
        "id": "kSf81r--7r0b"
      },
      "source": [
        "# **Efficient Net**\n",
        "\n",
        "---\n",
        "\n",
        "\n",
        "\n",
        "---\n",
        "\n",
        "\n",
        "\n",
        "---\n",
        "\n"
      ]
    },
    {
      "cell_type": "code",
      "execution_count": null,
      "metadata": {
        "colab": {
          "base_uri": "https://localhost:8080/"
        },
        "id": "3g_s2vrJ7yM9",
        "outputId": "82a1d5a4-87fe-4432-f5f4-b4c8cdb11a34"
      },
      "outputs": [
        {
          "output_type": "execute_result",
          "data": {
            "text/plain": [
              "EfficientNet_B0_Weights.IMAGENET1K_V1"
            ]
          },
          "metadata": {},
          "execution_count": 80
        }
      ],
      "source": [
        "# Get a set of pretrained model weights\n",
        "weights = torchvision.models.EfficientNet_B0_Weights.DEFAULT # .DEFAULT = best available weights from pretraining on ImageNet\n",
        "weights"
      ]
    },
    {
      "cell_type": "code",
      "execution_count": null,
      "metadata": {
        "colab": {
          "base_uri": "https://localhost:8080/"
        },
        "id": "vNBeXVZp7yM-",
        "outputId": "ce9dc8fe-01a0-4a6e-d74d-18abad09b09a"
      },
      "outputs": [
        {
          "output_type": "execute_result",
          "data": {
            "text/plain": [
              "ImageClassification(\n",
              "    crop_size=[224]\n",
              "    resize_size=[256]\n",
              "    mean=[0.485, 0.456, 0.406]\n",
              "    std=[0.229, 0.224, 0.225]\n",
              "    interpolation=InterpolationMode.BICUBIC\n",
              ")"
            ]
          },
          "metadata": {},
          "execution_count": 81
        }
      ],
      "source": [
        "# Get the transforms used to create our pretrained weights\n",
        "auto_transforms = weights.transforms()\n",
        "auto_transforms"
      ]
    },
    {
      "cell_type": "code",
      "execution_count": null,
      "metadata": {
        "colab": {
          "base_uri": "https://localhost:8080/"
        },
        "id": "Ouw-fJOQ7yM-",
        "outputId": "34145175-068e-4776-a480-23e4c587aae3"
      },
      "outputs": [
        {
          "output_type": "execute_result",
          "data": {
            "text/plain": [
              "(<torch.utils.data.dataloader.DataLoader at 0x7c3dc1ac01a0>,\n",
              " <torch.utils.data.dataloader.DataLoader at 0x7c3dc5ad6030>,\n",
              " ['Apple', 'Banana', 'Beans', 'Onion', 'Potato'])"
            ]
          },
          "metadata": {},
          "execution_count": 82
        }
      ],
      "source": [
        "# Create training and testing DataLoaders as well as get a list of class names\n",
        "train_dataloader, test_dataloader, class_names = data_setup.create_dataloaders(train_dir=train_dir,\n",
        "                                                                               test_dir=test_dir,\n",
        "                                                                               transform=auto_transforms, # perform same data transforms on our own data as the pretrained model\n",
        "                                                                               batch_size=32) # set mini-batch size to 32\n",
        "\n",
        "train_dataloader, test_dataloader, class_names"
      ]
    },
    {
      "cell_type": "code",
      "execution_count": null,
      "metadata": {
        "colab": {
          "base_uri": "https://localhost:8080/"
        },
        "id": "3DloHuTC7yM_",
        "outputId": "195617ad-a1fc-4f39-8567-acaa999e59e5"
      },
      "outputs": [
        {
          "output_type": "stream",
          "name": "stdout",
          "text": [
            "Downloading: \"https://download.pytorch.org/models/efficientnet_b0_rwightman-7f5810bc.pth\" to /root/.cache/torch/hub/checkpoints/efficientnet_b0_rwightman-7f5810bc.pth\n"
          ]
        },
        {
          "output_type": "stream",
          "name": "stderr",
          "text": [
            "100%|██████████| 20.5M/20.5M [00:00<00:00, 63.9MB/s]\n"
          ]
        }
      ],
      "source": [
        "# NEW: Setup the model with pretrained weights and send it to the target device (torchvision v0.13+)\n",
        "model = torchvision.models.efficientnet_b0(weights=weights).to(device)"
      ]
    },
    {
      "cell_type": "code",
      "execution_count": null,
      "metadata": {
        "colab": {
          "base_uri": "https://localhost:8080/"
        },
        "id": "8YJsHVVq7yM_",
        "outputId": "3b43f4c4-9a54-4651-b9de-10ce90a023b8"
      },
      "outputs": [
        {
          "output_type": "execute_result",
          "data": {
            "text/plain": [
              "============================================================================================================================================\n",
              "Layer (type (var_name))                                      Input Shape          Output Shape         Param #              Trainable\n",
              "============================================================================================================================================\n",
              "EfficientNet (EfficientNet)                                  [32, 3, 224, 224]    [32, 1000]           --                   True\n",
              "├─Sequential (features)                                      [32, 3, 224, 224]    [32, 1280, 7, 7]     --                   True\n",
              "│    └─Conv2dNormActivation (0)                              [32, 3, 224, 224]    [32, 32, 112, 112]   --                   True\n",
              "│    │    └─Conv2d (0)                                       [32, 3, 224, 224]    [32, 32, 112, 112]   864                  True\n",
              "│    │    └─BatchNorm2d (1)                                  [32, 32, 112, 112]   [32, 32, 112, 112]   64                   True\n",
              "│    │    └─SiLU (2)                                         [32, 32, 112, 112]   [32, 32, 112, 112]   --                   --\n",
              "│    └─Sequential (1)                                        [32, 32, 112, 112]   [32, 16, 112, 112]   --                   True\n",
              "│    │    └─MBConv (0)                                       [32, 32, 112, 112]   [32, 16, 112, 112]   1,448                True\n",
              "│    └─Sequential (2)                                        [32, 16, 112, 112]   [32, 24, 56, 56]     --                   True\n",
              "│    │    └─MBConv (0)                                       [32, 16, 112, 112]   [32, 24, 56, 56]     6,004                True\n",
              "│    │    └─MBConv (1)                                       [32, 24, 56, 56]     [32, 24, 56, 56]     10,710               True\n",
              "│    └─Sequential (3)                                        [32, 24, 56, 56]     [32, 40, 28, 28]     --                   True\n",
              "│    │    └─MBConv (0)                                       [32, 24, 56, 56]     [32, 40, 28, 28]     15,350               True\n",
              "│    │    └─MBConv (1)                                       [32, 40, 28, 28]     [32, 40, 28, 28]     31,290               True\n",
              "│    └─Sequential (4)                                        [32, 40, 28, 28]     [32, 80, 14, 14]     --                   True\n",
              "│    │    └─MBConv (0)                                       [32, 40, 28, 28]     [32, 80, 14, 14]     37,130               True\n",
              "│    │    └─MBConv (1)                                       [32, 80, 14, 14]     [32, 80, 14, 14]     102,900              True\n",
              "│    │    └─MBConv (2)                                       [32, 80, 14, 14]     [32, 80, 14, 14]     102,900              True\n",
              "│    └─Sequential (5)                                        [32, 80, 14, 14]     [32, 112, 14, 14]    --                   True\n",
              "│    │    └─MBConv (0)                                       [32, 80, 14, 14]     [32, 112, 14, 14]    126,004              True\n",
              "│    │    └─MBConv (1)                                       [32, 112, 14, 14]    [32, 112, 14, 14]    208,572              True\n",
              "│    │    └─MBConv (2)                                       [32, 112, 14, 14]    [32, 112, 14, 14]    208,572              True\n",
              "│    └─Sequential (6)                                        [32, 112, 14, 14]    [32, 192, 7, 7]      --                   True\n",
              "│    │    └─MBConv (0)                                       [32, 112, 14, 14]    [32, 192, 7, 7]      262,492              True\n",
              "│    │    └─MBConv (1)                                       [32, 192, 7, 7]      [32, 192, 7, 7]      587,952              True\n",
              "│    │    └─MBConv (2)                                       [32, 192, 7, 7]      [32, 192, 7, 7]      587,952              True\n",
              "│    │    └─MBConv (3)                                       [32, 192, 7, 7]      [32, 192, 7, 7]      587,952              True\n",
              "│    └─Sequential (7)                                        [32, 192, 7, 7]      [32, 320, 7, 7]      --                   True\n",
              "│    │    └─MBConv (0)                                       [32, 192, 7, 7]      [32, 320, 7, 7]      717,232              True\n",
              "│    └─Conv2dNormActivation (8)                              [32, 320, 7, 7]      [32, 1280, 7, 7]     --                   True\n",
              "│    │    └─Conv2d (0)                                       [32, 320, 7, 7]      [32, 1280, 7, 7]     409,600              True\n",
              "│    │    └─BatchNorm2d (1)                                  [32, 1280, 7, 7]     [32, 1280, 7, 7]     2,560                True\n",
              "│    │    └─SiLU (2)                                         [32, 1280, 7, 7]     [32, 1280, 7, 7]     --                   --\n",
              "├─AdaptiveAvgPool2d (avgpool)                                [32, 1280, 7, 7]     [32, 1280, 1, 1]     --                   --\n",
              "├─Sequential (classifier)                                    [32, 1280]           [32, 1000]           --                   True\n",
              "│    └─Dropout (0)                                           [32, 1280]           [32, 1280]           --                   --\n",
              "│    └─Linear (1)                                            [32, 1280]           [32, 1000]           1,281,000            True\n",
              "============================================================================================================================================\n",
              "Total params: 5,288,548\n",
              "Trainable params: 5,288,548\n",
              "Non-trainable params: 0\n",
              "Total mult-adds (Units.GIGABYTES): 12.35\n",
              "============================================================================================================================================\n",
              "Input size (MB): 19.27\n",
              "Forward/backward pass size (MB): 3452.35\n",
              "Params size (MB): 21.15\n",
              "Estimated Total Size (MB): 3492.77\n",
              "============================================================================================================================================"
            ]
          },
          "metadata": {},
          "execution_count": 84
        }
      ],
      "source": [
        "# Print a summary using torchinfo (uncomment for actual output)\n",
        "summary(model=model,\n",
        "        input_size=(32, 3, 224, 224), # make sure this is \"input_size\", not \"input_shape\"\n",
        "        # col_names=[\"input_size\"], # uncomment for smaller output\n",
        "        col_names=[\"input_size\", \"output_size\", \"num_params\", \"trainable\"],\n",
        "        col_width=20,\n",
        "        row_settings=[\"var_names\"]\n",
        ")"
      ]
    },
    {
      "cell_type": "code",
      "execution_count": null,
      "metadata": {
        "id": "NfP82N_F7yM_"
      },
      "outputs": [],
      "source": [
        "# Freeze all base layers in the \"features\" section of the model (the feature extractor) by setting requires_grad=False\n",
        "for param in model.features.parameters():\n",
        "    param.requires_grad = False\n"
      ]
    },
    {
      "cell_type": "code",
      "execution_count": null,
      "metadata": {
        "id": "dKcV50F-7yM_"
      },
      "outputs": [],
      "source": [
        "# Recreate the classifier layer and seed it to the target device\n",
        "model.classifier = torch.nn.Sequential(\n",
        "    torch.nn.Dropout(p=0.2, inplace=True),\n",
        "    torch.nn.Linear(in_features=1280,\n",
        "                    out_features=5, # same number of output units as our number of classes\n",
        "                    bias=True)).to(device)"
      ]
    },
    {
      "cell_type": "code",
      "execution_count": null,
      "metadata": {
        "colab": {
          "base_uri": "https://localhost:8080/"
        },
        "id": "k8l2JRi67yNA",
        "outputId": "69adffab-be85-4222-f08f-4ef6bf3862e2"
      },
      "outputs": [
        {
          "output_type": "execute_result",
          "data": {
            "text/plain": [
              "============================================================================================================================================\n",
              "Layer (type (var_name))                                      Input Shape          Output Shape         Param #              Trainable\n",
              "============================================================================================================================================\n",
              "EfficientNet (EfficientNet)                                  [32, 3, 224, 224]    [32, 5]              --                   Partial\n",
              "├─Sequential (features)                                      [32, 3, 224, 224]    [32, 1280, 7, 7]     --                   False\n",
              "│    └─Conv2dNormActivation (0)                              [32, 3, 224, 224]    [32, 32, 112, 112]   --                   False\n",
              "│    │    └─Conv2d (0)                                       [32, 3, 224, 224]    [32, 32, 112, 112]   (864)                False\n",
              "│    │    └─BatchNorm2d (1)                                  [32, 32, 112, 112]   [32, 32, 112, 112]   (64)                 False\n",
              "│    │    └─SiLU (2)                                         [32, 32, 112, 112]   [32, 32, 112, 112]   --                   --\n",
              "│    └─Sequential (1)                                        [32, 32, 112, 112]   [32, 16, 112, 112]   --                   False\n",
              "│    │    └─MBConv (0)                                       [32, 32, 112, 112]   [32, 16, 112, 112]   (1,448)              False\n",
              "│    └─Sequential (2)                                        [32, 16, 112, 112]   [32, 24, 56, 56]     --                   False\n",
              "│    │    └─MBConv (0)                                       [32, 16, 112, 112]   [32, 24, 56, 56]     (6,004)              False\n",
              "│    │    └─MBConv (1)                                       [32, 24, 56, 56]     [32, 24, 56, 56]     (10,710)             False\n",
              "│    └─Sequential (3)                                        [32, 24, 56, 56]     [32, 40, 28, 28]     --                   False\n",
              "│    │    └─MBConv (0)                                       [32, 24, 56, 56]     [32, 40, 28, 28]     (15,350)             False\n",
              "│    │    └─MBConv (1)                                       [32, 40, 28, 28]     [32, 40, 28, 28]     (31,290)             False\n",
              "│    └─Sequential (4)                                        [32, 40, 28, 28]     [32, 80, 14, 14]     --                   False\n",
              "│    │    └─MBConv (0)                                       [32, 40, 28, 28]     [32, 80, 14, 14]     (37,130)             False\n",
              "│    │    └─MBConv (1)                                       [32, 80, 14, 14]     [32, 80, 14, 14]     (102,900)            False\n",
              "│    │    └─MBConv (2)                                       [32, 80, 14, 14]     [32, 80, 14, 14]     (102,900)            False\n",
              "│    └─Sequential (5)                                        [32, 80, 14, 14]     [32, 112, 14, 14]    --                   False\n",
              "│    │    └─MBConv (0)                                       [32, 80, 14, 14]     [32, 112, 14, 14]    (126,004)            False\n",
              "│    │    └─MBConv (1)                                       [32, 112, 14, 14]    [32, 112, 14, 14]    (208,572)            False\n",
              "│    │    └─MBConv (2)                                       [32, 112, 14, 14]    [32, 112, 14, 14]    (208,572)            False\n",
              "│    └─Sequential (6)                                        [32, 112, 14, 14]    [32, 192, 7, 7]      --                   False\n",
              "│    │    └─MBConv (0)                                       [32, 112, 14, 14]    [32, 192, 7, 7]      (262,492)            False\n",
              "│    │    └─MBConv (1)                                       [32, 192, 7, 7]      [32, 192, 7, 7]      (587,952)            False\n",
              "│    │    └─MBConv (2)                                       [32, 192, 7, 7]      [32, 192, 7, 7]      (587,952)            False\n",
              "│    │    └─MBConv (3)                                       [32, 192, 7, 7]      [32, 192, 7, 7]      (587,952)            False\n",
              "│    └─Sequential (7)                                        [32, 192, 7, 7]      [32, 320, 7, 7]      --                   False\n",
              "│    │    └─MBConv (0)                                       [32, 192, 7, 7]      [32, 320, 7, 7]      (717,232)            False\n",
              "│    └─Conv2dNormActivation (8)                              [32, 320, 7, 7]      [32, 1280, 7, 7]     --                   False\n",
              "│    │    └─Conv2d (0)                                       [32, 320, 7, 7]      [32, 1280, 7, 7]     (409,600)            False\n",
              "│    │    └─BatchNorm2d (1)                                  [32, 1280, 7, 7]     [32, 1280, 7, 7]     (2,560)              False\n",
              "│    │    └─SiLU (2)                                         [32, 1280, 7, 7]     [32, 1280, 7, 7]     --                   --\n",
              "├─AdaptiveAvgPool2d (avgpool)                                [32, 1280, 7, 7]     [32, 1280, 1, 1]     --                   --\n",
              "├─Sequential (classifier)                                    [32, 1280]           [32, 5]              --                   True\n",
              "│    └─Dropout (0)                                           [32, 1280]           [32, 1280]           --                   --\n",
              "│    └─Linear (1)                                            [32, 1280]           [32, 5]              6,405                True\n",
              "============================================================================================================================================\n",
              "Total params: 4,013,953\n",
              "Trainable params: 6,405\n",
              "Non-trainable params: 4,007,548\n",
              "Total mult-adds (Units.GIGABYTES): 12.31\n",
              "============================================================================================================================================\n",
              "Input size (MB): 19.27\n",
              "Forward/backward pass size (MB): 3452.09\n",
              "Params size (MB): 16.06\n",
              "Estimated Total Size (MB): 3487.42\n",
              "============================================================================================================================================"
            ]
          },
          "metadata": {},
          "execution_count": 87
        }
      ],
      "source": [
        "# # Do a summary *after* freezing the features and changing the output classifier layer (uncomment for actual output)\n",
        "summary(model,\n",
        "        input_size=(32, 3, 224, 224),\n",
        "        verbose=0,\n",
        "        col_names=[\"input_size\", \"output_size\", \"num_params\", \"trainable\"],\n",
        "        col_width=20,\n",
        "        row_settings=[\"var_names\"]\n",
        ")"
      ]
    },
    {
      "cell_type": "code",
      "execution_count": null,
      "metadata": {
        "id": "vlNEYZ7_7yNA"
      },
      "outputs": [],
      "source": [
        "loss_fn = nn.CrossEntropyLoss()\n",
        "optimizer = torch.optim.Adam(model.parameters(), lr=0.001)"
      ]
    },
    {
      "cell_type": "code",
      "execution_count": null,
      "metadata": {
        "colab": {
          "base_uri": "https://localhost:8080/",
          "height": 277,
          "referenced_widgets": [
            "483d909ddc634ae48ab8bf4132d253fe",
            "950bdad9a3e64d48befb2c3e3c943b31",
            "a29800ffa95341ff824a3cf7c65bd237",
            "cef9e5fcd44f46f7822eb7edc0c6e8f9",
            "63d690e4b94844e8b39e7610467108cf",
            "4124a23395f447c5b70d5f2d97f2e7a3",
            "efc64dd0f9834e14bfc5c8e791d4adde",
            "c43ab83f90d041ee933ecaed91d08d3d",
            "6398f12e8f2941968ae42622d48453f9",
            "ac50ac1de3f34cbe9e6bbaba36272ad7",
            "0781dcacf30a4aa6a9b8ba3a1b5e0262"
          ]
        },
        "id": "nlLIFcYs7yNA",
        "outputId": "7633c680-05f6-43af-d6d3-87b2b0a74df6"
      },
      "outputs": [
        {
          "data": {
            "application/vnd.jupyter.widget-view+json": {
              "model_id": "483d909ddc634ae48ab8bf4132d253fe",
              "version_major": 2,
              "version_minor": 0
            },
            "text/plain": [
              "  0%|          | 0/10 [00:00<?, ?it/s]"
            ]
          },
          "metadata": {},
          "output_type": "display_data"
        },
        {
          "metadata": {
            "tags": null
          },
          "name": "stderr",
          "output_type": "stream",
          "text": [
            "/usr/local/lib/python3.12/dist-packages/torch/utils/data/dataloader.py:666: UserWarning: 'pin_memory' argument is set as true but no accelerator is found, then device pinned memory won't be used.\n",
            "  warnings.warn(warn_msg)\n"
          ]
        },
        {
          "output_type": "stream",
          "name": "stdout",
          "text": [
            "Epoch: 1 | train_loss: 1.0256 | train_acc: 0.7435 | test_loss: 0.5113 | test_acc: 0.9688\n",
            "Epoch: 2 | train_loss: 0.4180 | train_acc: 0.9558 | test_loss: 0.2694 | test_acc: 0.9688\n",
            "Epoch: 3 | train_loss: 0.2395 | train_acc: 0.9784 | test_loss: 0.1806 | test_acc: 0.9688\n",
            "Epoch: 4 | train_loss: 0.1878 | train_acc: 0.9817 | test_loss: 0.1522 | test_acc: 0.9688\n",
            "Epoch: 5 | train_loss: 0.1390 | train_acc: 0.9860 | test_loss: 0.1119 | test_acc: 0.9844\n",
            "Epoch: 6 | train_loss: 0.1253 | train_acc: 0.9871 | test_loss: 0.1126 | test_acc: 0.9844\n",
            "Epoch: 7 | train_loss: 0.1040 | train_acc: 0.9892 | test_loss: 0.0847 | test_acc: 0.9922\n",
            "Epoch: 8 | train_loss: 0.0997 | train_acc: 0.9892 | test_loss: 0.0697 | test_acc: 0.9922\n",
            "Epoch: 9 | train_loss: 0.0953 | train_acc: 0.9795 | test_loss: 0.0611 | test_acc: 0.9922\n",
            "Epoch: 10 | train_loss: 0.0713 | train_acc: 0.9935 | test_loss: 0.0627 | test_acc: 0.9922\n"
          ]
        }
      ],
      "source": [
        "torch.manual_seed(42)\n",
        "torch.cuda.manual_seed(42)\n",
        "\n",
        "results = engine.train(model=model,\n",
        "                       train_dataloader=train_dataloader,\n",
        "                       test_dataloader=test_dataloader,\n",
        "                       optimizer=optimizer,\n",
        "                       loss_fn=loss_fn,\n",
        "                       epochs=10,\n",
        "                       device=device)\n"
      ]
    },
    {
      "cell_type": "code",
      "execution_count": null,
      "metadata": {
        "colab": {
          "base_uri": "https://localhost:8080/",
          "height": 49,
          "referenced_widgets": [
            "93d838c897e043a7a72fe7055321c8a0",
            "2974a919bede4d6284274fbc4dc4cd4a",
            "fd68797ac58f4a069552127ad8640f32",
            "5ba4ca67d49643a5a5c406617c86f631",
            "b5d346ff3a374ec4a358215f09ef3476",
            "7284f288fe1e4276b9470c4f5a07ae65",
            "fec98e10a470458a8735a35e1276d781",
            "dbdbb859c51e47f09d7cc07d5d177766",
            "cba04597126c493b91c6771966994a45",
            "14d741fe651547fc874a75331fb47c48",
            "3df640a60cdc4a72b43930ba9bb3ccac"
          ]
        },
        "id": "4gn7QD_27yNB",
        "outputId": "ac18f9f9-5322-4cf7-e438-324e8db22131"
      },
      "outputs": [
        {
          "output_type": "display_data",
          "data": {
            "text/plain": [
              "Making predictions:   0%|          | 0/4 [00:00<?, ?it/s]"
            ],
            "application/vnd.jupyter.widget-view+json": {
              "version_major": 2,
              "version_minor": 0,
              "model_id": "93d838c897e043a7a72fe7055321c8a0"
            }
          },
          "metadata": {}
        }
      ],
      "source": [
        "# Import tqdm for progress bar\n",
        "from tqdm.auto import tqdm\n",
        "\n",
        "# 1. Make predictions with trained model\n",
        "y_preds = []\n",
        "model.eval()\n",
        "with torch.inference_mode():\n",
        "  for X, y in tqdm(test_dataloader, desc=\"Making predictions\"):\n",
        "    # Send data and targets to target device\n",
        "    X, y = X.to(device), y.to(device)\n",
        "    # Do the forward pass\n",
        "    y_logit = model(X)\n",
        "    # Turn predictions from logits -> prediction probabilities -> predictions labels\n",
        "    y_pred = torch.softmax(y_logit, dim=1).argmax(dim=1) # note: perform softmax on the \"logits\" dimension, not \"batch\" dimension (in this case we have a batch size of 32, so can perform on dim=1)\n",
        "    # Put predictions on CPU for evaluation\n",
        "    y_preds.extend(y_pred.cpu().tolist())\n",
        "# Concatenate list of predictions into a tensor\n",
        "y_pred_tensor = torch.tensor(y_preds, device = device)"
      ]
    },
    {
      "cell_type": "code",
      "execution_count": null,
      "metadata": {
        "colab": {
          "base_uri": "https://localhost:8080/"
        },
        "id": "OuCnwxfG7yNB",
        "outputId": "f87e6e4e-f953-4662-96f0-c7f0af374829"
      },
      "outputs": [
        {
          "output_type": "stream",
          "name": "stdout",
          "text": [
            "mlxtend version: 0.23.4\n"
          ]
        }
      ],
      "source": [
        "# See if torchmetrics exists, if not, install it\n",
        "try:\n",
        "    import torchmetrics, mlxtend\n",
        "    print(f\"mlxtend version: {mlxtend.__version__}\")\n",
        "    assert int(mlxtend.__version__.split(\".\")[1]) >= 19, \"mlxtend verison should be 0.19.0 or higher\"\n",
        "except:\n",
        "    !pip install -q torchmetrics -U mlxtend # <- Note: If you're using Google Colab, this may require restarting the runtime\n",
        "    import torchmetrics, mlxtend\n",
        "    print(f\"mlxtend version: {mlxtend.__version__}\")"
      ]
    },
    {
      "cell_type": "code",
      "execution_count": null,
      "metadata": {
        "colab": {
          "base_uri": "https://localhost:8080/"
        },
        "id": "vPqMGITn7yNB",
        "outputId": "f2c10a8b-0ddf-4ebd-ad0d-00112a22393f"
      },
      "outputs": [
        {
          "output_type": "stream",
          "name": "stdout",
          "text": [
            "0.23.4\n"
          ]
        }
      ],
      "source": [
        "# Import mlxtend upgraded version\n",
        "import mlxtend\n",
        "print(mlxtend.__version__)\n",
        "assert int(mlxtend.__version__.split(\".\")[1]) >= 19 # should be version 0.19.0 or higher"
      ]
    },
    {
      "cell_type": "code",
      "execution_count": null,
      "metadata": {
        "id": "psyP5sXQ7yNC"
      },
      "outputs": [],
      "source": [
        "from torchvision import datasets\n",
        "test_data = datasets.ImageFolder(root=test_dir,\n",
        "                                 transform=auto_transforms)"
      ]
    },
    {
      "cell_type": "code",
      "execution_count": null,
      "metadata": {
        "colab": {
          "base_uri": "https://localhost:8080/"
        },
        "id": "Y6Rifhh47yNC",
        "outputId": "756b07d5-477e-4530-a40c-1ee38af704ff"
      },
      "outputs": [
        {
          "output_type": "execute_result",
          "data": {
            "text/plain": [
              "['Apple', 'Banana', 'Bean', 'Onion', 'Potato']"
            ]
          },
          "metadata": {},
          "execution_count": 94
        }
      ],
      "source": [
        "class_names = test_data.classes\n",
        "class_names"
      ]
    },
    {
      "cell_type": "code",
      "execution_count": null,
      "metadata": {
        "colab": {
          "base_uri": "https://localhost:8080/",
          "height": 652
        },
        "id": "LDRZqjyn7yNC",
        "outputId": "f57c1066-8f47-4488-97f8-902a5eec1013"
      },
      "outputs": [
        {
          "output_type": "display_data",
          "data": {
            "text/plain": [
              "<Figure size 1000x700 with 1 Axes>"
            ],
            "image/png": "[encoded data removed]"
          },
          "metadata": {}
        }
      ],
      "source": [
        "from torchmetrics import ConfusionMatrix\n",
        "from mlxtend.plotting import plot_confusion_matrix\n",
        "\n",
        "\n",
        "# 2. Setup confusion matrix instance and compare predictions to targets\n",
        "confmat = ConfusionMatrix(num_classes=len(class_names), task='multiclass')\n",
        "confmat_tensor = confmat(preds=y_pred_tensor.to(confmat.device),\n",
        "                         target=torch.tensor(test_data.targets).to(confmat.device))\n",
        "\n",
        "confmat_normalized = confmat_tensor / confmat_tensor.sum(axis=1, keepdims=True) * 100\n",
        "# 3. Plot the confusion matrix\n",
        "fig, ax = plot_confusion_matrix(\n",
        "    conf_mat=confmat_normalized.numpy(), # matplotlib likes working with NumPy\n",
        "    class_names=class_names, # turn the row and column labels into class names\n",
        "    figsize=(10, 7),\n",
        ");"
      ]
    },
    {
      "cell_type": "code",
      "execution_count": null,
      "metadata": {
        "id": "j4HMwfWm7yNC"
      },
      "outputs": [],
      "source": [
        "# Get the plot_loss_curves() function from helper_functions.py, download the file if we don't have it\n",
        "try:\n",
        "    from helper_functions import plot_loss_curves\n",
        "except:\n",
        "    print(\"[INFO] Couldn't find helper_functions.py, downloading...\")\n",
        "    with open(\"helper_functions.py\", \"wb\") as f:\n",
        "        import requests\n",
        "        request = requests.get(\"https://raw.githubusercontent.com/mrdbourke/pytorch-deep-learning/main/helper_functions.py\")\n",
        "        f.write(request.content)\n",
        "    from helper_functions import plot_loss_curves\n",
        "\n",
        "# Plot the loss curves of our model\n",
        "plot_loss_curves(results)"
      ]
    },
    {
      "cell_type": "code",
      "execution_count": null,
      "metadata": {
        "colab": {
          "base_uri": "https://localhost:8080/"
        },
        "id": "qKSYOwoh7yNC",
        "outputId": "16705b2d-15e8-46b1-d41c-729ced72493b"
      },
      "outputs": [
        {
          "output_type": "stream",
          "name": "stdout",
          "text": [
            "              precision    recall  f1-score   support\n",
            "\n",
            "       Apple    0.95238   1.00000   0.97561        20\n",
            "      Banana    1.00000   1.00000   1.00000        20\n",
            "        Bean    1.00000   1.00000   1.00000        20\n",
            "       Onion    1.00000   1.00000   1.00000        20\n",
            "      Potato    1.00000   0.95000   0.97436        20\n",
            "\n",
            "    accuracy                        0.99000       100\n",
            "   macro avg    0.99048   0.99000   0.98999       100\n",
            "weighted avg    0.99048   0.99000   0.98999       100\n",
            "\n"
          ]
        }
      ],
      "source": [
        "from sklearn.metrics import classification_report\n",
        "print(classification_report(torch.tensor(test_data.targets).cpu(), torch.tensor(y_preds).cpu(), target_names=class_names, digits=5))"
      ]
    },
    {
      "cell_type": "code",
      "execution_count": null,
      "metadata": {
        "id": "iBsi686W5xnd"
      },
      "outputs": [],
      "source": []
    },
    {
      "cell_type": "markdown",
      "metadata": {
        "id": "tUi5Y6Ay5yMP"
      },
      "source": [
        "# **googlenet**\n",
        "\n",
        "\n",
        "---\n",
        "\n",
        "\n",
        "\n",
        "---\n",
        "\n",
        "\n",
        "\n",
        "---\n",
        "\n"
      ]
    },
    {
      "cell_type": "code",
      "execution_count": null,
      "metadata": {
        "colab": {
          "base_uri": "https://localhost:8080/"
        },
        "id": "x3oQJZHp5yMP",
        "outputId": "e23f115e-8d3d-4290-85d6-c881b5587731"
      },
      "outputs": [
        {
          "output_type": "execute_result",
          "data": {
            "text/plain": [
              "GoogLeNet_Weights.IMAGENET1K_V1"
            ]
          },
          "metadata": {},
          "execution_count": 98
        }
      ],
      "source": [
        "# Get a set of pretrained model weights\n",
        "weights = torchvision.models.GoogLeNet_Weights.DEFAULT # .DEFAULT = best available weights from pretraining on ImageNet\n",
        "weights"
      ]
    },
    {
      "cell_type": "code",
      "execution_count": null,
      "metadata": {
        "colab": {
          "base_uri": "https://localhost:8080/"
        },
        "id": "k2PQB2205yMQ",
        "outputId": "7cc5d0b7-0f5e-4ff4-934f-add5e564502c"
      },
      "outputs": [
        {
          "data": {
            "text/plain": [
              "ImageClassification(\n",
              "    crop_size=[224]\n",
              "    resize_size=[256]\n",
              "    mean=[0.485, 0.456, 0.406]\n",
              "    std=[0.229, 0.224, 0.225]\n",
              "    interpolation=InterpolationMode.BILINEAR\n",
              ")"
            ]
          },
          "execution_count": 99,
          "metadata": {},
          "output_type": "execute_result"
        }
      ],
      "source": [
        "# Get the transforms used to create our pretrained weights\n",
        "auto_transforms = weights.transforms()\n",
        "auto_transforms"
      ]
    },
    {
      "cell_type": "code",
      "execution_count": null,
      "metadata": {
        "colab": {
          "base_uri": "https://localhost:8080/"
        },
        "id": "0BbbubWX5yMQ",
        "outputId": "5881ee0e-4e57-4c2a-effa-463783e14748"
      },
      "outputs": [
        {
          "output_type": "execute_result",
          "data": {
            "text/plain": [
              "(<torch.utils.data.dataloader.DataLoader at 0x7c3dc1862600>,\n",
              " <torch.utils.data.dataloader.DataLoader at 0x7c3dc19de030>,\n",
              " ['Apple', 'Banana', 'Beans', 'Onion', 'Potato'])"
            ]
          },
          "metadata": {},
          "execution_count": 100
        }
      ],
      "source": [
        "# Create training and testing DataLoaders as well as get a list of class names\n",
        "train_dataloader, test_dataloader, class_names = data_setup.create_dataloaders(train_dir=train_dir,\n",
        "                                                                               test_dir=test_dir,\n",
        "                                                                               transform=auto_transforms, # perform same data transforms on our own data as the pretrained model\n",
        "                                                                               batch_size=32) # set mini-batch size to 32\n",
        "\n",
        "train_dataloader, test_dataloader, class_names"
      ]
    },
    {
      "cell_type": "code",
      "execution_count": null,
      "metadata": {
        "colab": {
          "base_uri": "https://localhost:8080/"
        },
        "id": "VzDLFRyF5yMR",
        "outputId": "089f111c-ec06-4c8e-b8e6-27fe0950d41b"
      },
      "outputs": [
        {
          "output_type": "stream",
          "name": "stdout",
          "text": [
            "Downloading: \"https://download.pytorch.org/models/googlenet-1378be20.pth\" to /root/.cache/torch/hub/checkpoints/googlenet-1378be20.pth\n"
          ]
        },
        {
          "output_type": "stream",
          "name": "stderr",
          "text": [
            "100%|██████████| 49.7M/49.7M [00:00<00:00, 139MB/s]\n"
          ]
        }
      ],
      "source": [
        "# NEW: Setup the model with pretrained weights and send it to the target device (torchvision v0.13+)\n",
        "model = torchvision.models.googlenet(weights=weights).to(device)"
      ]
    },
    {
      "cell_type": "code",
      "execution_count": null,
      "metadata": {
        "colab": {
          "base_uri": "https://localhost:8080/"
        },
        "id": "f9Epm1F_5yMR",
        "outputId": "c78036c0-915b-4850-b46c-c242ab84f222"
      },
      "outputs": [
        {
          "output_type": "execute_result",
          "data": {
            "text/plain": [
              "========================================================================================================================\n",
              "Layer (type (var_name))                  Input Shape          Output Shape         Param #              Trainable\n",
              "========================================================================================================================\n",
              "GoogLeNet (GoogLeNet)                    [32, 3, 224, 224]    [32, 1000]           --                   True\n",
              "├─BasicConv2d (conv1)                    [32, 3, 224, 224]    [32, 64, 112, 112]   --                   True\n",
              "│    └─Conv2d (conv)                     [32, 3, 224, 224]    [32, 64, 112, 112]   9,408                True\n",
              "│    └─BatchNorm2d (bn)                  [32, 64, 112, 112]   [32, 64, 112, 112]   128                  True\n",
              "├─MaxPool2d (maxpool1)                   [32, 64, 112, 112]   [32, 64, 56, 56]     --                   --\n",
              "├─BasicConv2d (conv2)                    [32, 64, 56, 56]     [32, 64, 56, 56]     --                   True\n",
              "│    └─Conv2d (conv)                     [32, 64, 56, 56]     [32, 64, 56, 56]     4,096                True\n",
              "│    └─BatchNorm2d (bn)                  [32, 64, 56, 56]     [32, 64, 56, 56]     128                  True\n",
              "├─BasicConv2d (conv3)                    [32, 64, 56, 56]     [32, 192, 56, 56]    --                   True\n",
              "│    └─Conv2d (conv)                     [32, 64, 56, 56]     [32, 192, 56, 56]    110,592              True\n",
              "│    └─BatchNorm2d (bn)                  [32, 192, 56, 56]    [32, 192, 56, 56]    384                  True\n",
              "├─MaxPool2d (maxpool2)                   [32, 192, 56, 56]    [32, 192, 28, 28]    --                   --\n",
              "├─Inception (inception3a)                [32, 192, 28, 28]    [32, 256, 28, 28]    --                   True\n",
              "│    └─BasicConv2d (branch1)             [32, 192, 28, 28]    [32, 64, 28, 28]     --                   True\n",
              "│    │    └─Conv2d (conv)                [32, 192, 28, 28]    [32, 64, 28, 28]     12,288               True\n",
              "│    │    └─BatchNorm2d (bn)             [32, 64, 28, 28]     [32, 64, 28, 28]     128                  True\n",
              "│    └─Sequential (branch2)              [32, 192, 28, 28]    [32, 128, 28, 28]    --                   True\n",
              "│    │    └─BasicConv2d (0)              [32, 192, 28, 28]    [32, 96, 28, 28]     18,624               True\n",
              "│    │    └─BasicConv2d (1)              [32, 96, 28, 28]     [32, 128, 28, 28]    110,848              True\n",
              "│    └─Sequential (branch3)              [32, 192, 28, 28]    [32, 32, 28, 28]     --                   True\n",
              "│    │    └─BasicConv2d (0)              [32, 192, 28, 28]    [32, 16, 28, 28]     3,104                True\n",
              "│    │    └─BasicConv2d (1)              [32, 16, 28, 28]     [32, 32, 28, 28]     4,672                True\n",
              "│    └─Sequential (branch4)              [32, 192, 28, 28]    [32, 32, 28, 28]     --                   True\n",
              "│    │    └─MaxPool2d (0)                [32, 192, 28, 28]    [32, 192, 28, 28]    --                   --\n",
              "│    │    └─BasicConv2d (1)              [32, 192, 28, 28]    [32, 32, 28, 28]     6,208                True\n",
              "├─Inception (inception3b)                [32, 256, 28, 28]    [32, 480, 28, 28]    --                   True\n",
              "│    └─BasicConv2d (branch1)             [32, 256, 28, 28]    [32, 128, 28, 28]    --                   True\n",
              "│    │    └─Conv2d (conv)                [32, 256, 28, 28]    [32, 128, 28, 28]    32,768               True\n",
              "│    │    └─BatchNorm2d (bn)             [32, 128, 28, 28]    [32, 128, 28, 28]    256                  True\n",
              "│    └─Sequential (branch2)              [32, 256, 28, 28]    [32, 192, 28, 28]    --                   True\n",
              "│    │    └─BasicConv2d (0)              [32, 256, 28, 28]    [32, 128, 28, 28]    33,024               True\n",
              "│    │    └─BasicConv2d (1)              [32, 128, 28, 28]    [32, 192, 28, 28]    221,568              True\n",
              "│    └─Sequential (branch3)              [32, 256, 28, 28]    [32, 96, 28, 28]     --                   True\n",
              "│    │    └─BasicConv2d (0)              [32, 256, 28, 28]    [32, 32, 28, 28]     8,256                True\n",
              "│    │    └─BasicConv2d (1)              [32, 32, 28, 28]     [32, 96, 28, 28]     27,840               True\n",
              "│    └─Sequential (branch4)              [32, 256, 28, 28]    [32, 64, 28, 28]     --                   True\n",
              "│    │    └─MaxPool2d (0)                [32, 256, 28, 28]    [32, 256, 28, 28]    --                   --\n",
              "│    │    └─BasicConv2d (1)              [32, 256, 28, 28]    [32, 64, 28, 28]     16,512               True\n",
              "├─MaxPool2d (maxpool3)                   [32, 480, 28, 28]    [32, 480, 14, 14]    --                   --\n",
              "├─Inception (inception4a)                [32, 480, 14, 14]    [32, 512, 14, 14]    --                   True\n",
              "│    └─BasicConv2d (branch1)             [32, 480, 14, 14]    [32, 192, 14, 14]    --                   True\n",
              "│    │    └─Conv2d (conv)                [32, 480, 14, 14]    [32, 192, 14, 14]    92,160               True\n",
              "│    │    └─BatchNorm2d (bn)             [32, 192, 14, 14]    [32, 192, 14, 14]    384                  True\n",
              "│    └─Sequential (branch2)              [32, 480, 14, 14]    [32, 208, 14, 14]    --                   True\n",
              "│    │    └─BasicConv2d (0)              [32, 480, 14, 14]    [32, 96, 14, 14]     46,272               True\n",
              "│    │    └─BasicConv2d (1)              [32, 96, 14, 14]     [32, 208, 14, 14]    180,128              True\n",
              "│    └─Sequential (branch3)              [32, 480, 14, 14]    [32, 48, 14, 14]     --                   True\n",
              "│    │    └─BasicConv2d (0)              [32, 480, 14, 14]    [32, 16, 14, 14]     7,712                True\n",
              "│    │    └─BasicConv2d (1)              [32, 16, 14, 14]     [32, 48, 14, 14]     7,008                True\n",
              "│    └─Sequential (branch4)              [32, 480, 14, 14]    [32, 64, 14, 14]     --                   True\n",
              "│    │    └─MaxPool2d (0)                [32, 480, 14, 14]    [32, 480, 14, 14]    --                   --\n",
              "│    │    └─BasicConv2d (1)              [32, 480, 14, 14]    [32, 64, 14, 14]     30,848               True\n",
              "├─Inception (inception4b)                [32, 512, 14, 14]    [32, 512, 14, 14]    --                   True\n",
              "│    └─BasicConv2d (branch1)             [32, 512, 14, 14]    [32, 160, 14, 14]    --                   True\n",
              "│    │    └─Conv2d (conv)                [32, 512, 14, 14]    [32, 160, 14, 14]    81,920               True\n",
              "│    │    └─BatchNorm2d (bn)             [32, 160, 14, 14]    [32, 160, 14, 14]    320                  True\n",
              "│    └─Sequential (branch2)              [32, 512, 14, 14]    [32, 224, 14, 14]    --                   True\n",
              "│    │    └─BasicConv2d (0)              [32, 512, 14, 14]    [32, 112, 14, 14]    57,568               True\n",
              "│    │    └─BasicConv2d (1)              [32, 112, 14, 14]    [32, 224, 14, 14]    226,240              True\n",
              "│    └─Sequential (branch3)              [32, 512, 14, 14]    [32, 64, 14, 14]     --                   True\n",
              "│    │    └─BasicConv2d (0)              [32, 512, 14, 14]    [32, 24, 14, 14]     12,336               True\n",
              "│    │    └─BasicConv2d (1)              [32, 24, 14, 14]     [32, 64, 14, 14]     13,952               True\n",
              "│    └─Sequential (branch4)              [32, 512, 14, 14]    [32, 64, 14, 14]     --                   True\n",
              "│    │    └─MaxPool2d (0)                [32, 512, 14, 14]    [32, 512, 14, 14]    --                   --\n",
              "│    │    └─BasicConv2d (1)              [32, 512, 14, 14]    [32, 64, 14, 14]     32,896               True\n",
              "├─Inception (inception4c)                [32, 512, 14, 14]    [32, 512, 14, 14]    --                   True\n",
              "│    └─BasicConv2d (branch1)             [32, 512, 14, 14]    [32, 128, 14, 14]    --                   True\n",
              "│    │    └─Conv2d (conv)                [32, 512, 14, 14]    [32, 128, 14, 14]    65,536               True\n",
              "│    │    └─BatchNorm2d (bn)             [32, 128, 14, 14]    [32, 128, 14, 14]    256                  True\n",
              "│    └─Sequential (branch2)              [32, 512, 14, 14]    [32, 256, 14, 14]    --                   True\n",
              "│    │    └─BasicConv2d (0)              [32, 512, 14, 14]    [32, 128, 14, 14]    65,792               True\n",
              "│    │    └─BasicConv2d (1)              [32, 128, 14, 14]    [32, 256, 14, 14]    295,424              True\n",
              "│    └─Sequential (branch3)              [32, 512, 14, 14]    [32, 64, 14, 14]     --                   True\n",
              "│    │    └─BasicConv2d (0)              [32, 512, 14, 14]    [32, 24, 14, 14]     12,336               True\n",
              "│    │    └─BasicConv2d (1)              [32, 24, 14, 14]     [32, 64, 14, 14]     13,952               True\n",
              "│    └─Sequential (branch4)              [32, 512, 14, 14]    [32, 64, 14, 14]     --                   True\n",
              "│    │    └─MaxPool2d (0)                [32, 512, 14, 14]    [32, 512, 14, 14]    --                   --\n",
              "│    │    └─BasicConv2d (1)              [32, 512, 14, 14]    [32, 64, 14, 14]     32,896               True\n",
              "├─Inception (inception4d)                [32, 512, 14, 14]    [32, 528, 14, 14]    --                   True\n",
              "│    └─BasicConv2d (branch1)             [32, 512, 14, 14]    [32, 112, 14, 14]    --                   True\n",
              "│    │    └─Conv2d (conv)                [32, 512, 14, 14]    [32, 112, 14, 14]    57,344               True\n",
              "│    │    └─BatchNorm2d (bn)             [32, 112, 14, 14]    [32, 112, 14, 14]    224                  True\n",
              "│    └─Sequential (branch2)              [32, 512, 14, 14]    [32, 288, 14, 14]    --                   True\n",
              "│    │    └─BasicConv2d (0)              [32, 512, 14, 14]    [32, 144, 14, 14]    74,016               True\n",
              "│    │    └─BasicConv2d (1)              [32, 144, 14, 14]    [32, 288, 14, 14]    373,824              True\n",
              "│    └─Sequential (branch3)              [32, 512, 14, 14]    [32, 64, 14, 14]     --                   True\n",
              "│    │    └─BasicConv2d (0)              [32, 512, 14, 14]    [32, 32, 14, 14]     16,448               True\n",
              "│    │    └─BasicConv2d (1)              [32, 32, 14, 14]     [32, 64, 14, 14]     18,560               True\n",
              "│    └─Sequential (branch4)              [32, 512, 14, 14]    [32, 64, 14, 14]     --                   True\n",
              "│    │    └─MaxPool2d (0)                [32, 512, 14, 14]    [32, 512, 14, 14]    --                   --\n",
              "│    │    └─BasicConv2d (1)              [32, 512, 14, 14]    [32, 64, 14, 14]     32,896               True\n",
              "├─Inception (inception4e)                [32, 528, 14, 14]    [32, 832, 14, 14]    --                   True\n",
              "│    └─BasicConv2d (branch1)             [32, 528, 14, 14]    [32, 256, 14, 14]    --                   True\n",
              "│    │    └─Conv2d (conv)                [32, 528, 14, 14]    [32, 256, 14, 14]    135,168              True\n",
              "│    │    └─BatchNorm2d (bn)             [32, 256, 14, 14]    [32, 256, 14, 14]    512                  True\n",
              "│    └─Sequential (branch2)              [32, 528, 14, 14]    [32, 320, 14, 14]    --                   True\n",
              "│    │    └─BasicConv2d (0)              [32, 528, 14, 14]    [32, 160, 14, 14]    84,800               True\n",
              "│    │    └─BasicConv2d (1)              [32, 160, 14, 14]    [32, 320, 14, 14]    461,440              True\n",
              "│    └─Sequential (branch3)              [32, 528, 14, 14]    [32, 128, 14, 14]    --                   True\n",
              "│    │    └─BasicConv2d (0)              [32, 528, 14, 14]    [32, 32, 14, 14]     16,960               True\n",
              "│    │    └─BasicConv2d (1)              [32, 32, 14, 14]     [32, 128, 14, 14]    37,120               True\n",
              "│    └─Sequential (branch4)              [32, 528, 14, 14]    [32, 128, 14, 14]    --                   True\n",
              "│    │    └─MaxPool2d (0)                [32, 528, 14, 14]    [32, 528, 14, 14]    --                   --\n",
              "│    │    └─BasicConv2d (1)              [32, 528, 14, 14]    [32, 128, 14, 14]    67,840               True\n",
              "├─MaxPool2d (maxpool4)                   [32, 832, 14, 14]    [32, 832, 7, 7]      --                   --\n",
              "├─Inception (inception5a)                [32, 832, 7, 7]      [32, 832, 7, 7]      --                   True\n",
              "│    └─BasicConv2d (branch1)             [32, 832, 7, 7]      [32, 256, 7, 7]      --                   True\n",
              "│    │    └─Conv2d (conv)                [32, 832, 7, 7]      [32, 256, 7, 7]      212,992              True\n",
              "│    │    └─BatchNorm2d (bn)             [32, 256, 7, 7]      [32, 256, 7, 7]      512                  True\n",
              "│    └─Sequential (branch2)              [32, 832, 7, 7]      [32, 320, 7, 7]      --                   True\n",
              "│    │    └─BasicConv2d (0)              [32, 832, 7, 7]      [32, 160, 7, 7]      133,440              True\n",
              "│    │    └─BasicConv2d (1)              [32, 160, 7, 7]      [32, 320, 7, 7]      461,440              True\n",
              "│    └─Sequential (branch3)              [32, 832, 7, 7]      [32, 128, 7, 7]      --                   True\n",
              "│    │    └─BasicConv2d (0)              [32, 832, 7, 7]      [32, 32, 7, 7]       26,688               True\n",
              "│    │    └─BasicConv2d (1)              [32, 32, 7, 7]       [32, 128, 7, 7]      37,120               True\n",
              "│    └─Sequential (branch4)              [32, 832, 7, 7]      [32, 128, 7, 7]      --                   True\n",
              "│    │    └─MaxPool2d (0)                [32, 832, 7, 7]      [32, 832, 7, 7]      --                   --\n",
              "│    │    └─BasicConv2d (1)              [32, 832, 7, 7]      [32, 128, 7, 7]      106,752              True\n",
              "├─Inception (inception5b)                [32, 832, 7, 7]      [32, 1024, 7, 7]     --                   True\n",
              "│    └─BasicConv2d (branch1)             [32, 832, 7, 7]      [32, 384, 7, 7]      --                   True\n",
              "│    │    └─Conv2d (conv)                [32, 832, 7, 7]      [32, 384, 7, 7]      319,488              True\n",
              "│    │    └─BatchNorm2d (bn)             [32, 384, 7, 7]      [32, 384, 7, 7]      768                  True\n",
              "│    └─Sequential (branch2)              [32, 832, 7, 7]      [32, 384, 7, 7]      --                   True\n",
              "│    │    └─BasicConv2d (0)              [32, 832, 7, 7]      [32, 192, 7, 7]      160,128              True\n",
              "│    │    └─BasicConv2d (1)              [32, 192, 7, 7]      [32, 384, 7, 7]      664,320              True\n",
              "│    └─Sequential (branch3)              [32, 832, 7, 7]      [32, 128, 7, 7]      --                   True\n",
              "│    │    └─BasicConv2d (0)              [32, 832, 7, 7]      [32, 48, 7, 7]       40,032               True\n",
              "│    │    └─BasicConv2d (1)              [32, 48, 7, 7]       [32, 128, 7, 7]      55,552               True\n",
              "│    └─Sequential (branch4)              [32, 832, 7, 7]      [32, 128, 7, 7]      --                   True\n",
              "│    │    └─MaxPool2d (0)                [32, 832, 7, 7]      [32, 832, 7, 7]      --                   --\n",
              "│    │    └─BasicConv2d (1)              [32, 832, 7, 7]      [32, 128, 7, 7]      106,752              True\n",
              "├─AdaptiveAvgPool2d (avgpool)            [32, 1024, 7, 7]     [32, 1024, 1, 1]     --                   --\n",
              "├─Dropout (dropout)                      [32, 1024]           [32, 1024]           --                   --\n",
              "├─Linear (fc)                            [32, 1024]           [32, 1000]           1,025,000            True\n",
              "========================================================================================================================\n",
              "Total params: 6,624,904\n",
              "Trainable params: 6,624,904\n",
              "Non-trainable params: 0\n",
              "Total mult-adds (Units.GIGABYTES): 47.95\n",
              "========================================================================================================================\n",
              "Input size (MB): 19.27\n",
              "Forward/backward pass size (MB): 1652.05\n",
              "Params size (MB): 26.50\n",
              "Estimated Total Size (MB): 1697.82\n",
              "========================================================================================================================"
            ]
          },
          "metadata": {},
          "execution_count": 102
        }
      ],
      "source": [
        "# Print a summary using torchinfo (uncomment for actual output)\n",
        "summary(model=model,\n",
        "        input_size=(32, 3, 224, 224), # make sure this is \"input_size\", not \"input_shape\"\n",
        "        # col_names=[\"input_size\"], # uncomment for smaller output\n",
        "        col_names=[\"input_size\", \"output_size\", \"num_params\", \"trainable\"],\n",
        "        col_width=20,\n",
        "        row_settings=[\"var_names\"]\n",
        ")"
      ]
    },
    {
      "cell_type": "code",
      "execution_count": null,
      "metadata": {
        "id": "ZuzJXwL_5yMR"
      },
      "outputs": [],
      "source": [
        "# Freeze all base layers except the final classifier\n",
        "for name, param in model.named_parameters():\n",
        "    if 'fc' not in name: # Assuming the final fully connected layer is named 'fc'\n",
        "        param.requires_grad = False\n"
      ]
    },
    {
      "cell_type": "code",
      "execution_count": null,
      "metadata": {
        "id": "Fu4qJ3Fv5yMR"
      },
      "outputs": [],
      "source": [
        "# Recreate the classifier layer and seed it to the target device\n",
        "# The in_features for GoogLeNet's classifier is 1024\n",
        "model.fc = torch.nn.Sequential(\n",
        "    torch.nn.Dropout(p=0.2, inplace=True),\n",
        "    torch.nn.Linear(in_features=1024, # Corrected in_features for GoogLeNet\n",
        "                    out_features=5, # Set the output features to number of classes\n",
        "                    bias=True)).to(device)"
      ]
    },
    {
      "cell_type": "code",
      "execution_count": null,
      "metadata": {
        "colab": {
          "base_uri": "https://localhost:8080/"
        },
        "id": "3S6XeJcP5yMR",
        "outputId": "f46acc9a-5333-49d0-9649-40f0b8e29cdc"
      },
      "outputs": [
        {
          "output_type": "execute_result",
          "data": {
            "text/plain": [
              "========================================================================================================================\n",
              "Layer (type (var_name))                  Input Shape          Output Shape         Param #              Trainable\n",
              "========================================================================================================================\n",
              "GoogLeNet (GoogLeNet)                    [32, 3, 224, 224]    [32, 5]              --                   Partial\n",
              "├─BasicConv2d (conv1)                    [32, 3, 224, 224]    [32, 64, 112, 112]   --                   False\n",
              "│    └─Conv2d (conv)                     [32, 3, 224, 224]    [32, 64, 112, 112]   (9,408)              False\n",
              "│    └─BatchNorm2d (bn)                  [32, 64, 112, 112]   [32, 64, 112, 112]   (128)                False\n",
              "├─MaxPool2d (maxpool1)                   [32, 64, 112, 112]   [32, 64, 56, 56]     --                   --\n",
              "├─BasicConv2d (conv2)                    [32, 64, 56, 56]     [32, 64, 56, 56]     --                   False\n",
              "│    └─Conv2d (conv)                     [32, 64, 56, 56]     [32, 64, 56, 56]     (4,096)              False\n",
              "│    └─BatchNorm2d (bn)                  [32, 64, 56, 56]     [32, 64, 56, 56]     (128)                False\n",
              "├─BasicConv2d (conv3)                    [32, 64, 56, 56]     [32, 192, 56, 56]    --                   False\n",
              "│    └─Conv2d (conv)                     [32, 64, 56, 56]     [32, 192, 56, 56]    (110,592)            False\n",
              "│    └─BatchNorm2d (bn)                  [32, 192, 56, 56]    [32, 192, 56, 56]    (384)                False\n",
              "├─MaxPool2d (maxpool2)                   [32, 192, 56, 56]    [32, 192, 28, 28]    --                   --\n",
              "├─Inception (inception3a)                [32, 192, 28, 28]    [32, 256, 28, 28]    --                   False\n",
              "│    └─BasicConv2d (branch1)             [32, 192, 28, 28]    [32, 64, 28, 28]     --                   False\n",
              "│    │    └─Conv2d (conv)                [32, 192, 28, 28]    [32, 64, 28, 28]     (12,288)             False\n",
              "│    │    └─BatchNorm2d (bn)             [32, 64, 28, 28]     [32, 64, 28, 28]     (128)                False\n",
              "│    └─Sequential (branch2)              [32, 192, 28, 28]    [32, 128, 28, 28]    --                   False\n",
              "│    │    └─BasicConv2d (0)              [32, 192, 28, 28]    [32, 96, 28, 28]     (18,624)             False\n",
              "│    │    └─BasicConv2d (1)              [32, 96, 28, 28]     [32, 128, 28, 28]    (110,848)            False\n",
              "│    └─Sequential (branch3)              [32, 192, 28, 28]    [32, 32, 28, 28]     --                   False\n",
              "│    │    └─BasicConv2d (0)              [32, 192, 28, 28]    [32, 16, 28, 28]     (3,104)              False\n",
              "│    │    └─BasicConv2d (1)              [32, 16, 28, 28]     [32, 32, 28, 28]     (4,672)              False\n",
              "│    └─Sequential (branch4)              [32, 192, 28, 28]    [32, 32, 28, 28]     --                   False\n",
              "│    │    └─MaxPool2d (0)                [32, 192, 28, 28]    [32, 192, 28, 28]    --                   --\n",
              "│    │    └─BasicConv2d (1)              [32, 192, 28, 28]    [32, 32, 28, 28]     (6,208)              False\n",
              "├─Inception (inception3b)                [32, 256, 28, 28]    [32, 480, 28, 28]    --                   False\n",
              "│    └─BasicConv2d (branch1)             [32, 256, 28, 28]    [32, 128, 28, 28]    --                   False\n",
              "│    │    └─Conv2d (conv)                [32, 256, 28, 28]    [32, 128, 28, 28]    (32,768)             False\n",
              "│    │    └─BatchNorm2d (bn)             [32, 128, 28, 28]    [32, 128, 28, 28]    (256)                False\n",
              "│    └─Sequential (branch2)              [32, 256, 28, 28]    [32, 192, 28, 28]    --                   False\n",
              "│    │    └─BasicConv2d (0)              [32, 256, 28, 28]    [32, 128, 28, 28]    (33,024)             False\n",
              "│    │    └─BasicConv2d (1)              [32, 128, 28, 28]    [32, 192, 28, 28]    (221,568)            False\n",
              "│    └─Sequential (branch3)              [32, 256, 28, 28]    [32, 96, 28, 28]     --                   False\n",
              "│    │    └─BasicConv2d (0)              [32, 256, 28, 28]    [32, 32, 28, 28]     (8,256)              False\n",
              "│    │    └─BasicConv2d (1)              [32, 32, 28, 28]     [32, 96, 28, 28]     (27,840)             False\n",
              "│    └─Sequential (branch4)              [32, 256, 28, 28]    [32, 64, 28, 28]     --                   False\n",
              "│    │    └─MaxPool2d (0)                [32, 256, 28, 28]    [32, 256, 28, 28]    --                   --\n",
              "│    │    └─BasicConv2d (1)              [32, 256, 28, 28]    [32, 64, 28, 28]     (16,512)             False\n",
              "├─MaxPool2d (maxpool3)                   [32, 480, 28, 28]    [32, 480, 14, 14]    --                   --\n",
              "├─Inception (inception4a)                [32, 480, 14, 14]    [32, 512, 14, 14]    --                   False\n",
              "│    └─BasicConv2d (branch1)             [32, 480, 14, 14]    [32, 192, 14, 14]    --                   False\n",
              "│    │    └─Conv2d (conv)                [32, 480, 14, 14]    [32, 192, 14, 14]    (92,160)             False\n",
              "│    │    └─BatchNorm2d (bn)             [32, 192, 14, 14]    [32, 192, 14, 14]    (384)                False\n",
              "│    └─Sequential (branch2)              [32, 480, 14, 14]    [32, 208, 14, 14]    --                   False\n",
              "│    │    └─BasicConv2d (0)              [32, 480, 14, 14]    [32, 96, 14, 14]     (46,272)             False\n",
              "│    │    └─BasicConv2d (1)              [32, 96, 14, 14]     [32, 208, 14, 14]    (180,128)            False\n",
              "│    └─Sequential (branch3)              [32, 480, 14, 14]    [32, 48, 14, 14]     --                   False\n",
              "│    │    └─BasicConv2d (0)              [32, 480, 14, 14]    [32, 16, 14, 14]     (7,712)              False\n",
              "│    │    └─BasicConv2d (1)              [32, 16, 14, 14]     [32, 48, 14, 14]     (7,008)              False\n",
              "│    └─Sequential (branch4)              [32, 480, 14, 14]    [32, 64, 14, 14]     --                   False\n",
              "│    │    └─MaxPool2d (0)                [32, 480, 14, 14]    [32, 480, 14, 14]    --                   --\n",
              "│    │    └─BasicConv2d (1)              [32, 480, 14, 14]    [32, 64, 14, 14]     (30,848)             False\n",
              "├─Inception (inception4b)                [32, 512, 14, 14]    [32, 512, 14, 14]    --                   False\n",
              "│    └─BasicConv2d (branch1)             [32, 512, 14, 14]    [32, 160, 14, 14]    --                   False\n",
              "│    │    └─Conv2d (conv)                [32, 512, 14, 14]    [32, 160, 14, 14]    (81,920)             False\n",
              "│    │    └─BatchNorm2d (bn)             [32, 160, 14, 14]    [32, 160, 14, 14]    (320)                False\n",
              "│    └─Sequential (branch2)              [32, 512, 14, 14]    [32, 224, 14, 14]    --                   False\n",
              "│    │    └─BasicConv2d (0)              [32, 512, 14, 14]    [32, 112, 14, 14]    (57,568)             False\n",
              "│    │    └─BasicConv2d (1)              [32, 112, 14, 14]    [32, 224, 14, 14]    (226,240)            False\n",
              "│    └─Sequential (branch3)              [32, 512, 14, 14]    [32, 64, 14, 14]     --                   False\n",
              "│    │    └─BasicConv2d (0)              [32, 512, 14, 14]    [32, 24, 14, 14]     (12,336)             False\n",
              "│    │    └─BasicConv2d (1)              [32, 24, 14, 14]     [32, 64, 14, 14]     (13,952)             False\n",
              "│    └─Sequential (branch4)              [32, 512, 14, 14]    [32, 64, 14, 14]     --                   False\n",
              "│    │    └─MaxPool2d (0)                [32, 512, 14, 14]    [32, 512, 14, 14]    --                   --\n",
              "│    │    └─BasicConv2d (1)              [32, 512, 14, 14]    [32, 64, 14, 14]     (32,896)             False\n",
              "├─Inception (inception4c)                [32, 512, 14, 14]    [32, 512, 14, 14]    --                   False\n",
              "│    └─BasicConv2d (branch1)             [32, 512, 14, 14]    [32, 128, 14, 14]    --                   False\n",
              "│    │    └─Conv2d (conv)                [32, 512, 14, 14]    [32, 128, 14, 14]    (65,536)             False\n",
              "│    │    └─BatchNorm2d (bn)             [32, 128, 14, 14]    [32, 128, 14, 14]    (256)                False\n",
              "│    └─Sequential (branch2)              [32, 512, 14, 14]    [32, 256, 14, 14]    --                   False\n",
              "│    │    └─BasicConv2d (0)              [32, 512, 14, 14]    [32, 128, 14, 14]    (65,792)             False\n",
              "│    │    └─BasicConv2d (1)              [32, 128, 14, 14]    [32, 256, 14, 14]    (295,424)            False\n",
              "│    └─Sequential (branch3)              [32, 512, 14, 14]    [32, 64, 14, 14]     --                   False\n",
              "│    │    └─BasicConv2d (0)              [32, 512, 14, 14]    [32, 24, 14, 14]     (12,336)             False\n",
              "│    │    └─BasicConv2d (1)              [32, 24, 14, 14]     [32, 64, 14, 14]     (13,952)             False\n",
              "│    └─Sequential (branch4)              [32, 512, 14, 14]    [32, 64, 14, 14]     --                   False\n",
              "│    │    └─MaxPool2d (0)                [32, 512, 14, 14]    [32, 512, 14, 14]    --                   --\n",
              "│    │    └─BasicConv2d (1)              [32, 512, 14, 14]    [32, 64, 14, 14]     (32,896)             False\n",
              "├─Inception (inception4d)                [32, 512, 14, 14]    [32, 528, 14, 14]    --                   False\n",
              "│    └─BasicConv2d (branch1)             [32, 512, 14, 14]    [32, 112, 14, 14]    --                   False\n",
              "│    │    └─Conv2d (conv)                [32, 512, 14, 14]    [32, 112, 14, 14]    (57,344)             False\n",
              "│    │    └─BatchNorm2d (bn)             [32, 112, 14, 14]    [32, 112, 14, 14]    (224)                False\n",
              "│    └─Sequential (branch2)              [32, 512, 14, 14]    [32, 288, 14, 14]    --                   False\n",
              "│    │    └─BasicConv2d (0)              [32, 512, 14, 14]    [32, 144, 14, 14]    (74,016)             False\n",
              "│    │    └─BasicConv2d (1)              [32, 144, 14, 14]    [32, 288, 14, 14]    (373,824)            False\n",
              "│    └─Sequential (branch3)              [32, 512, 14, 14]    [32, 64, 14, 14]     --                   False\n",
              "│    │    └─BasicConv2d (0)              [32, 512, 14, 14]    [32, 32, 14, 14]     (16,448)             False\n",
              "│    │    └─BasicConv2d (1)              [32, 32, 14, 14]     [32, 64, 14, 14]     (18,560)             False\n",
              "│    └─Sequential (branch4)              [32, 512, 14, 14]    [32, 64, 14, 14]     --                   False\n",
              "│    │    └─MaxPool2d (0)                [32, 512, 14, 14]    [32, 512, 14, 14]    --                   --\n",
              "│    │    └─BasicConv2d (1)              [32, 512, 14, 14]    [32, 64, 14, 14]     (32,896)             False\n",
              "├─Inception (inception4e)                [32, 528, 14, 14]    [32, 832, 14, 14]    --                   False\n",
              "│    └─BasicConv2d (branch1)             [32, 528, 14, 14]    [32, 256, 14, 14]    --                   False\n",
              "│    │    └─Conv2d (conv)                [32, 528, 14, 14]    [32, 256, 14, 14]    (135,168)            False\n",
              "│    │    └─BatchNorm2d (bn)             [32, 256, 14, 14]    [32, 256, 14, 14]    (512)                False\n",
              "│    └─Sequential (branch2)              [32, 528, 14, 14]    [32, 320, 14, 14]    --                   False\n",
              "│    │    └─BasicConv2d (0)              [32, 528, 14, 14]    [32, 160, 14, 14]    (84,800)             False\n",
              "│    │    └─BasicConv2d (1)              [32, 160, 14, 14]    [32, 320, 14, 14]    (461,440)            False\n",
              "│    └─Sequential (branch3)              [32, 528, 14, 14]    [32, 128, 14, 14]    --                   False\n",
              "│    │    └─BasicConv2d (0)              [32, 528, 14, 14]    [32, 32, 14, 14]     (16,960)             False\n",
              "│    │    └─BasicConv2d (1)              [32, 32, 14, 14]     [32, 128, 14, 14]    (37,120)             False\n",
              "│    └─Sequential (branch4)              [32, 528, 14, 14]    [32, 128, 14, 14]    --                   False\n",
              "│    │    └─MaxPool2d (0)                [32, 528, 14, 14]    [32, 528, 14, 14]    --                   --\n",
              "│    │    └─BasicConv2d (1)              [32, 528, 14, 14]    [32, 128, 14, 14]    (67,840)             False\n",
              "├─MaxPool2d (maxpool4)                   [32, 832, 14, 14]    [32, 832, 7, 7]      --                   --\n",
              "├─Inception (inception5a)                [32, 832, 7, 7]      [32, 832, 7, 7]      --                   False\n",
              "│    └─BasicConv2d (branch1)             [32, 832, 7, 7]      [32, 256, 7, 7]      --                   False\n",
              "│    │    └─Conv2d (conv)                [32, 832, 7, 7]      [32, 256, 7, 7]      (212,992)            False\n",
              "│    │    └─BatchNorm2d (bn)             [32, 256, 7, 7]      [32, 256, 7, 7]      (512)                False\n",
              "│    └─Sequential (branch2)              [32, 832, 7, 7]      [32, 320, 7, 7]      --                   False\n",
              "│    │    └─BasicConv2d (0)              [32, 832, 7, 7]      [32, 160, 7, 7]      (133,440)            False\n",
              "│    │    └─BasicConv2d (1)              [32, 160, 7, 7]      [32, 320, 7, 7]      (461,440)            False\n",
              "│    └─Sequential (branch3)              [32, 832, 7, 7]      [32, 128, 7, 7]      --                   False\n",
              "│    │    └─BasicConv2d (0)              [32, 832, 7, 7]      [32, 32, 7, 7]       (26,688)             False\n",
              "│    │    └─BasicConv2d (1)              [32, 32, 7, 7]       [32, 128, 7, 7]      (37,120)             False\n",
              "│    └─Sequential (branch4)              [32, 832, 7, 7]      [32, 128, 7, 7]      --                   False\n",
              "│    │    └─MaxPool2d (0)                [32, 832, 7, 7]      [32, 832, 7, 7]      --                   --\n",
              "│    │    └─BasicConv2d (1)              [32, 832, 7, 7]      [32, 128, 7, 7]      (106,752)            False\n",
              "├─Inception (inception5b)                [32, 832, 7, 7]      [32, 1024, 7, 7]     --                   False\n",
              "│    └─BasicConv2d (branch1)             [32, 832, 7, 7]      [32, 384, 7, 7]      --                   False\n",
              "│    │    └─Conv2d (conv)                [32, 832, 7, 7]      [32, 384, 7, 7]      (319,488)            False\n",
              "│    │    └─BatchNorm2d (bn)             [32, 384, 7, 7]      [32, 384, 7, 7]      (768)                False\n",
              "│    └─Sequential (branch2)              [32, 832, 7, 7]      [32, 384, 7, 7]      --                   False\n",
              "│    │    └─BasicConv2d (0)              [32, 832, 7, 7]      [32, 192, 7, 7]      (160,128)            False\n",
              "│    │    └─BasicConv2d (1)              [32, 192, 7, 7]      [32, 384, 7, 7]      (664,320)            False\n",
              "│    └─Sequential (branch3)              [32, 832, 7, 7]      [32, 128, 7, 7]      --                   False\n",
              "│    │    └─BasicConv2d (0)              [32, 832, 7, 7]      [32, 48, 7, 7]       (40,032)             False\n",
              "│    │    └─BasicConv2d (1)              [32, 48, 7, 7]       [32, 128, 7, 7]      (55,552)             False\n",
              "│    └─Sequential (branch4)              [32, 832, 7, 7]      [32, 128, 7, 7]      --                   False\n",
              "│    │    └─MaxPool2d (0)                [32, 832, 7, 7]      [32, 832, 7, 7]      --                   --\n",
              "│    │    └─BasicConv2d (1)              [32, 832, 7, 7]      [32, 128, 7, 7]      (106,752)            False\n",
              "├─AdaptiveAvgPool2d (avgpool)            [32, 1024, 7, 7]     [32, 1024, 1, 1]     --                   --\n",
              "├─Dropout (dropout)                      [32, 1024]           [32, 1024]           --                   --\n",
              "├─Sequential (fc)                        [32, 1024]           [32, 5]              --                   True\n",
              "│    └─Dropout (0)                       [32, 1024]           [32, 1024]           --                   --\n",
              "│    └─Linear (1)                        [32, 1024]           [32, 5]              5,125                True\n",
              "========================================================================================================================\n",
              "Total params: 5,605,029\n",
              "Trainable params: 5,125\n",
              "Non-trainable params: 5,599,904\n",
              "Total mult-adds (Units.GIGABYTES): 47.92\n",
              "========================================================================================================================\n",
              "Input size (MB): 19.27\n",
              "Forward/backward pass size (MB): 1651.80\n",
              "Params size (MB): 22.42\n",
              "Estimated Total Size (MB): 1693.48\n",
              "========================================================================================================================"
            ]
          },
          "metadata": {},
          "execution_count": 105
        }
      ],
      "source": [
        "# # Do a summary *after* freezing the features and changing the output classifier layer (uncomment for actual output)\n",
        "summary(model,\n",
        "        input_size=(32, 3, 224, 224),\n",
        "        verbose=0,\n",
        "        col_names=[\"input_size\", \"output_size\", \"num_params\", \"trainable\"],\n",
        "        col_width=20,\n",
        "        row_settings=[\"var_names\"]\n",
        ")"
      ]
    },
    {
      "cell_type": "code",
      "execution_count": null,
      "metadata": {
        "id": "fpsVoxBe5yMS"
      },
      "outputs": [],
      "source": [
        "loss_fn = nn.CrossEntropyLoss()\n",
        "optimizer = torch.optim.Adam(model.parameters(), lr=0.001)"
      ]
    },
    {
      "cell_type": "code",
      "execution_count": null,
      "metadata": {
        "colab": {
          "base_uri": "https://localhost:8080/",
          "height": 277,
          "referenced_widgets": [
            "d3625e56e3334bd98cf539944c3611a7",
            "9aa8b57e86d94d6ba04b44e16310eeab",
            "cc334d1446d84c998c6f3487de4f5325",
            "3f9bc7d4dd5842fbb6f611e06f0ee1e9",
            "61b2e2b0610849619fd121b089b29169",
            "1506f5ed84d1457088bd7849a21bf2ad",
            "295930fdb2ad4174ae84fe3fffd7c623",
            "8649847065ca4a33b83dfafea2868889",
            "d2cb4854b2274251878aa2a48511badc",
            "5fd75e942ecd4cd0bbbec24d6db3c896",
            "08c6d6b667ed4f35864e6e1b5a4eef1e"
          ]
        },
        "id": "bpgXOVRr5yMS",
        "outputId": "48b017aa-5553-4947-ad59-2722df453f38"
      },
      "outputs": [
        {
          "output_type": "display_data",
          "data": {
            "text/plain": [
              "  0%|          | 0/10 [00:00<?, ?it/s]"
            ],
            "application/vnd.jupyter.widget-view+json": {
              "version_major": 2,
              "version_minor": 0,
              "model_id": "d3625e56e3334bd98cf539944c3611a7"
            }
          },
          "metadata": {}
        },
        {
          "output_type": "stream",
          "name": "stderr",
          "text": [
            "/usr/local/lib/python3.12/dist-packages/torch/utils/data/dataloader.py:666: UserWarning: 'pin_memory' argument is set as true but no accelerator is found, then device pinned memory won't be used.\n",
            "  warnings.warn(warn_msg)\n"
          ]
        },
        {
          "output_type": "stream",
          "name": "stdout",
          "text": [
            "Epoch: 1 | train_loss: 1.1549 | train_acc: 0.6724 | test_loss: 0.7370 | test_acc: 0.9297\n",
            "Epoch: 2 | train_loss: 0.5757 | train_acc: 0.9332 | test_loss: 0.4256 | test_acc: 0.9219\n",
            "Epoch: 3 | train_loss: 0.3904 | train_acc: 0.9504 | test_loss: 0.3130 | test_acc: 0.9609\n",
            "Epoch: 4 | train_loss: 0.3180 | train_acc: 0.9429 | test_loss: 0.2574 | test_acc: 0.9609\n",
            "Epoch: 5 | train_loss: 0.2568 | train_acc: 0.9547 | test_loss: 0.1892 | test_acc: 0.9688\n",
            "Epoch: 6 | train_loss: 0.2072 | train_acc: 0.9774 | test_loss: 0.1647 | test_acc: 0.9766\n",
            "Epoch: 7 | train_loss: 0.2076 | train_acc: 0.9569 | test_loss: 0.1509 | test_acc: 0.9766\n",
            "Epoch: 8 | train_loss: 0.1647 | train_acc: 0.9741 | test_loss: 0.1379 | test_acc: 0.9766\n",
            "Epoch: 9 | train_loss: 0.1503 | train_acc: 0.9752 | test_loss: 0.1018 | test_acc: 0.9844\n",
            "Epoch: 10 | train_loss: 0.1552 | train_acc: 0.9709 | test_loss: 0.1186 | test_acc: 0.9688\n"
          ]
        }
      ],
      "source": [
        "torch.manual_seed(42)\n",
        "torch.cuda.manual_seed(42)\n",
        "\n",
        "results = engine.train(model=model,\n",
        "                       train_dataloader=train_dataloader,\n",
        "                       test_dataloader=test_dataloader,\n",
        "                       optimizer=optimizer,\n",
        "                       loss_fn=loss_fn,\n",
        "                       epochs=10,\n",
        "                       device=device)\n"
      ]
    },
    {
      "cell_type": "code",
      "execution_count": null,
      "metadata": {
        "id": "0ZRuQ3-g5yMS"
      },
      "outputs": [],
      "source": [
        "# Import tqdm for progress bar\n",
        "from tqdm.auto import tqdm\n",
        "\n",
        "# 1. Make predictions with trained model\n",
        "y_preds = []\n",
        "model.eval()\n",
        "with torch.inference_mode():\n",
        "  for X, y in tqdm(test_dataloader, desc=\"Making predictions\"):\n",
        "    # Send data and targets to target device\n",
        "    X, y = X.to(device), y.to(device)\n",
        "    # Do the forward pass\n",
        "    y_logit = model(X)\n",
        "    # Turn predictions from logits -> prediction probabilities -> predictions labels\n",
        "    y_pred = torch.softmax(y_logit, dim=1).argmax(dim=1) # note: perform softmax on the \"logits\" dimension, not \"batch\" dimension (in this case we have a batch size of 32, so can perform on dim=1)\n",
        "    # Put predictions on CPU for evaluation\n",
        "    y_preds.extend(y_pred.cpu().tolist())\n",
        "# Concatenate list of predictions into a tensor\n",
        "y_pred_tensor = torch.tensor(y_preds, device = device)"
      ]
    },
    {
      "cell_type": "code",
      "execution_count": null,
      "metadata": {
        "id": "aAEK4W9L5yMS"
      },
      "outputs": [],
      "source": [
        "# See if torchmetrics exists, if not, install it\n",
        "try:\n",
        "    import torchmetrics, mlxtend\n",
        "    print(f\"mlxtend version: {mlxtend.__version__}\")\n",
        "    assert int(mlxtend.__version__.split(\".\")[1]) >= 19, \"mlxtend verison should be 0.19.0 or higher\"\n",
        "except:\n",
        "    !pip install -q torchmetrics -U mlxtend # <- Note: If you're using Google Colab, this may require restarting the runtime\n",
        "    import torchmetrics, mlxtend\n",
        "    print(f\"mlxtend version: {mlxtend.__version__}\")"
      ]
    },
    {
      "cell_type": "code",
      "execution_count": null,
      "metadata": {
        "id": "LNPii9Fj5yMT"
      },
      "outputs": [],
      "source": [
        "# Import mlxtend upgraded version\n",
        "import mlxtend\n",
        "print(mlxtend.__version__)\n",
        "assert int(mlxtend.__version__.split(\".\")[1]) >= 19 # should be version 0.19.0 or higher"
      ]
    },
    {
      "cell_type": "code",
      "execution_count": null,
      "metadata": {
        "id": "lL6sKg8P5yMT"
      },
      "outputs": [],
      "source": [
        "from torchvision import datasets\n",
        "test_data = datasets.ImageFolder(root=test_dir,\n",
        "                                 transform=auto_transforms)"
      ]
    },
    {
      "cell_type": "code",
      "execution_count": null,
      "metadata": {
        "id": "Dpdf1WBO5yMT"
      },
      "outputs": [],
      "source": [
        "class_names = test_data.classes\n",
        "class_names"
      ]
    },
    {
      "cell_type": "code",
      "execution_count": null,
      "metadata": {
        "id": "unUIFfFw5yMT"
      },
      "outputs": [],
      "source": [
        "from torchmetrics import ConfusionMatrix\n",
        "from mlxtend.plotting import plot_confusion_matrix\n",
        "\n",
        "\n",
        "# 2. Setup confusion matrix instance and compare predictions to targets\n",
        "confmat = ConfusionMatrix(num_classes=len(class_names), task='multiclass')\n",
        "confmat_tensor = confmat(preds=y_pred_tensor.to(confmat.device),\n",
        "                         target=torch.tensor(test_data.targets).to(confmat.device))\n",
        "\n",
        "confmat_normalized = confmat_tensor / confmat_tensor.sum(axis=1, keepdims=True) * 100\n",
        "# 3. Plot the confusion matrix\n",
        "fig, ax = plot_confusion_matrix(\n",
        "    conf_mat=confmat_normalized.numpy(), # matplotlib likes working with NumPy\n",
        "    class_names=class_names, # turn the row and column labels into class names\n",
        "    figsize=(10, 7),\n",
        ");"
      ]
    },
    {
      "cell_type": "code",
      "execution_count": null,
      "metadata": {
        "id": "HtMZBayn5yMT"
      },
      "outputs": [],
      "source": [
        "# Get the plot_loss_curves() function from helper_functions.py, download the file if we don't have it\n",
        "try:\n",
        "    from helper_functions import plot_loss_curves\n",
        "except:\n",
        "    print(\"[INFO] Couldn't find helper_functions.py, downloading...\")\n",
        "    with open(\"helper_functions.py\", \"wb\") as f:\n",
        "        import requests\n",
        "        request = requests.get(\"https://raw.githubusercontent.com/mrdbourke/pytorch-deep-learning/main/helper_functions.py\")\n",
        "        f.write(request.content)\n",
        "    from helper_functions import plot_loss_curves\n",
        "\n",
        "# Plot the loss curves of our model\n",
        "plot_loss_curves(results)"
      ]
    },
    {
      "cell_type": "code",
      "execution_count": null,
      "metadata": {
        "id": "7DD48S7U5yMT"
      },
      "outputs": [],
      "source": [
        "from sklearn.metrics import classification_report\n",
        "print(classification_report(torch.tensor(test_data.targets).cpu(), torch.tensor(y_preds).cpu(), target_names=class_names, digits=5))"
      ]
    },
    {
      "cell_type": "code",
      "execution_count": null,
      "metadata": {
        "id": "ODEfhzROMbhb"
      },
      "outputs": [],
      "source": []
    },
    {
      "cell_type": "markdown",
      "metadata": {
        "id": "VgHXPADxMb6m"
      },
      "source": [
        "# **MNASNet**\n",
        "\n",
        "\n",
        "---\n",
        "\n",
        "\n",
        "\n",
        "---\n",
        "\n",
        "\n",
        "\n",
        "---\n",
        "\n"
      ]
    },
    {
      "cell_type": "code",
      "execution_count": null,
      "metadata": {
        "id": "GfNW8I8VMb6m"
      },
      "outputs": [],
      "source": [
        "# Get a set of pretrained model weights\n",
        "weights = torchvision.models.MNASNet0_5_Weights.DEFAULT # .DEFAULT = best available weights from pretraining on ImageNet\n",
        "weights"
      ]
    },
    {
      "cell_type": "code",
      "execution_count": null,
      "metadata": {
        "id": "jKX-a8LvMb6n"
      },
      "outputs": [],
      "source": [
        "# Get the transforms used to create our pretrained weights\n",
        "auto_transforms = weights.transforms()\n",
        "auto_transforms"
      ]
    },
    {
      "cell_type": "code",
      "execution_count": null,
      "metadata": {
        "id": "pH2bDGYTMb6n"
      },
      "outputs": [],
      "source": [
        "# Create training and testing DataLoaders as well as get a list of class names\n",
        "train_dataloader, test_dataloader, class_names = data_setup.create_dataloaders(train_dir=train_dir,\n",
        "                                                                               test_dir=test_dir,\n",
        "                                                                               transform=auto_transforms, # perform same data transforms on our own data as the pretrained model\n",
        "                                                                               batch_size=32) # set mini-batch size to 32\n",
        "\n",
        "train_dataloader, test_dataloader, class_names"
      ]
    },
    {
      "cell_type": "code",
      "execution_count": null,
      "metadata": {
        "id": "R5FSnxGgMb6n"
      },
      "outputs": [],
      "source": [
        "# NEW: Setup the model with pretrained weights and send it to the target device (torchvision v0.13+)\n",
        "model = torchvision.models.mnasnet0_5(weights=weights).to(device)"
      ]
    },
    {
      "cell_type": "code",
      "execution_count": null,
      "metadata": {
        "id": "4FE96-zwMb6n"
      },
      "outputs": [],
      "source": [
        "# Print a summary using torchinfo (uncomment for actual output)\n",
        "summary(model=model,\n",
        "        input_size=(32, 3, 224, 224), # make sure this is \"input_size\", not \"input_shape\"\n",
        "        # col_names=[\"input_size\"], # uncomment for smaller output\n",
        "        col_names=[\"input_size\", \"output_size\", \"num_params\", \"trainable\"],\n",
        "        col_width=20,\n",
        "        row_settings=[\"var_names\"]\n",
        ")"
      ]
    },
    {
      "cell_type": "code",
      "execution_count": null,
      "metadata": {
        "id": "LHuU_f4TMb6o"
      },
      "outputs": [],
      "source": [
        "# Freeze all base layers except the final classifier\n",
        "for name, param in model.named_parameters():\n",
        "    if 'fc' not in name: # Assuming the final fully connected layer is named 'fc'\n",
        "        param.requires_grad = False\n"
      ]
    },
    {
      "cell_type": "code",
      "execution_count": null,
      "metadata": {
        "id": "pbztm6oBMb6o"
      },
      "outputs": [],
      "source": [
        "# Recreate the classifier layer and seed it to the target device\n",
        "model.classifier = torch.nn.Sequential(\n",
        "    torch.nn.Dropout(p=0.2, inplace=True),\n",
        "    torch.nn.Linear(in_features=1280,\n",
        "                    out_features=5, # same number of output units as our number of classes\n",
        "                    bias=True)).to(device)"
      ]
    },
    {
      "cell_type": "code",
      "execution_count": null,
      "metadata": {
        "colab": {
          "base_uri": "https://localhost:8080/"
        },
        "id": "rOpLIsL3Mb6o",
        "outputId": "86d884be-2032-4202-d4a7-5227a6541c69"
      },
      "outputs": [
        {
          "output_type": "execute_result",
          "data": {
            "text/plain": [
              "=============================================================================================================================\n",
              "Layer (type (var_name))                       Input Shape          Output Shape         Param #              Trainable\n",
              "=============================================================================================================================\n",
              "MNASNet (MNASNet)                             [32, 3, 224, 224]    [32, 5]              --                   Partial\n",
              "├─Sequential (layers)                         [32, 3, 224, 224]    [32, 1280, 7, 7]     --                   False\n",
              "│    └─Conv2d (0)                             [32, 3, 224, 224]    [32, 16, 112, 112]   (432)                False\n",
              "│    └─BatchNorm2d (1)                        [32, 16, 112, 112]   [32, 16, 112, 112]   (32)                 False\n",
              "│    └─ReLU (2)                               [32, 16, 112, 112]   [32, 16, 112, 112]   --                   --\n",
              "│    └─Conv2d (3)                             [32, 16, 112, 112]   [32, 16, 112, 112]   (144)                False\n",
              "│    └─BatchNorm2d (4)                        [32, 16, 112, 112]   [32, 16, 112, 112]   (32)                 False\n",
              "│    └─ReLU (5)                               [32, 16, 112, 112]   [32, 16, 112, 112]   --                   --\n",
              "│    └─Conv2d (6)                             [32, 16, 112, 112]   [32, 8, 112, 112]    (128)                False\n",
              "│    └─BatchNorm2d (7)                        [32, 8, 112, 112]    [32, 8, 112, 112]    (16)                 False\n",
              "│    └─Sequential (8)                         [32, 8, 112, 112]    [32, 16, 56, 56]     --                   False\n",
              "│    │    └─_InvertedResidual (0)             [32, 8, 112, 112]    [32, 16, 56, 56]     (920)                False\n",
              "│    │    └─_InvertedResidual (1)             [32, 16, 56, 56]     [32, 16, 56, 56]     (2,192)              False\n",
              "│    │    └─_InvertedResidual (2)             [32, 16, 56, 56]     [32, 16, 56, 56]     (2,192)              False\n",
              "│    └─Sequential (9)                         [32, 16, 56, 56]     [32, 24, 28, 28]     --                   False\n",
              "│    │    └─_InvertedResidual (0)             [32, 16, 56, 56]     [32, 24, 28, 28]     (3,360)              False\n",
              "│    │    └─_InvertedResidual (1)             [32, 24, 28, 28]     [32, 24, 28, 28]     (5,592)              False\n",
              "│    │    └─_InvertedResidual (2)             [32, 24, 28, 28]     [32, 24, 28, 28]     (5,592)              False\n",
              "│    └─Sequential (10)                        [32, 24, 28, 28]     [32, 40, 14, 14]     --                   False\n",
              "│    │    └─_InvertedResidual (0)             [32, 24, 28, 28]     [32, 40, 14, 14]     (13,472)             False\n",
              "│    │    └─_InvertedResidual (1)             [32, 40, 14, 14]     [32, 40, 14, 14]     (26,240)             False\n",
              "│    │    └─_InvertedResidual (2)             [32, 40, 14, 14]     [32, 40, 14, 14]     (26,240)             False\n",
              "│    └─Sequential (11)                        [32, 40, 14, 14]     [32, 48, 14, 14]     --                   False\n",
              "│    │    └─_InvertedResidual (0)             [32, 40, 14, 14]     [32, 48, 14, 14]     (24,336)             False\n",
              "│    │    └─_InvertedResidual (1)             [32, 48, 14, 14]     [32, 48, 14, 14]     (31,488)             False\n",
              "│    └─Sequential (12)                        [32, 48, 14, 14]     [32, 96, 7, 7]       --                   False\n",
              "│    │    └─_InvertedResidual (0)             [32, 48, 14, 14]     [32, 96, 7, 7]       (50,016)             False\n",
              "│    │    └─_InvertedResidual (1)             [32, 96, 7, 7]       [32, 96, 7, 7]       (127,488)            False\n",
              "│    │    └─_InvertedResidual (2)             [32, 96, 7, 7]       [32, 96, 7, 7]       (127,488)            False\n",
              "│    │    └─_InvertedResidual (3)             [32, 96, 7, 7]       [32, 96, 7, 7]       (127,488)            False\n",
              "│    └─Sequential (13)                        [32, 96, 7, 7]       [32, 160, 7, 7]      --                   False\n",
              "│    │    └─_InvertedResidual (0)             [32, 96, 7, 7]       [32, 160, 7, 7]      (155,264)            False\n",
              "│    └─Conv2d (14)                            [32, 160, 7, 7]      [32, 1280, 7, 7]     (204,800)            False\n",
              "│    └─BatchNorm2d (15)                       [32, 1280, 7, 7]     [32, 1280, 7, 7]     (2,560)              False\n",
              "│    └─ReLU (16)                              [32, 1280, 7, 7]     [32, 1280, 7, 7]     --                   --\n",
              "├─Sequential (classifier)                     [32, 1280]           [32, 5]              --                   True\n",
              "│    └─Dropout (0)                            [32, 1280]           [32, 1280]           --                   --\n",
              "│    └─Linear (1)                             [32, 1280]           [32, 5]              6,405                True\n",
              "=============================================================================================================================\n",
              "Total params: 943,917\n",
              "Trainable params: 6,405\n",
              "Non-trainable params: 937,512\n",
              "Total mult-adds (Units.GIGABYTES): 3.30\n",
              "=============================================================================================================================\n",
              "Input size (MB): 19.27\n",
              "Forward/backward pass size (MB): 1569.51\n",
              "Params size (MB): 3.78\n",
              "Estimated Total Size (MB): 1592.55\n",
              "============================================================================================================================="
            ]
          },
          "metadata": {},
          "execution_count": 123
        }
      ],
      "source": [
        "# # Do a summary *after* freezing the features and changing the output classifier layer (uncomment for actual output)\n",
        "summary(model,\n",
        "        input_size=(32, 3, 224, 224),\n",
        "        verbose=0,\n",
        "        col_names=[\"input_size\", \"output_size\", \"num_params\", \"trainable\"],\n",
        "        col_width=20,\n",
        "        row_settings=[\"var_names\"]\n",
        ")"
      ]
    },
    {
      "cell_type": "code",
      "execution_count": null,
      "metadata": {
        "id": "5c32cMteMb6o"
      },
      "outputs": [],
      "source": [
        "loss_fn = nn.CrossEntropyLoss()\n",
        "optimizer = torch.optim.Adam(model.parameters(), lr=0.001)"
      ]
    },
    {
      "cell_type": "code",
      "execution_count": null,
      "metadata": {
        "colab": {
          "base_uri": "https://localhost:8080/",
          "height": 277,
          "referenced_widgets": [
            "f09ce951564641689e57033874e96799",
            "0f21deea5f16488f961717977375af41",
            "1556d37349e44186a9cced28bb4dc099",
            "a84ba13564294fd7884a7cbbd249d0ea",
            "5d6fb096e0d9480ea17b74dbc804c4ca",
            "57bda810b5ce47a0a6e2d5c9ee8639d8",
            "bbf46200010940fdaad98d481f81a8ec",
            "1363dee7b8f54c86965db870ca51eeed",
            "de0bb27e4941410484adac8f21150de5",
            "65f1a6bd0c254cde973dcf6877a1278a",
            "5d1e02f98a324beeadf0f23394fd0207"
          ]
        },
        "id": "aN7jjesRMb6p",
        "outputId": "54e45dab-bc3f-407a-9c78-777af9d0add5"
      },
      "outputs": [
        {
          "output_type": "display_data",
          "data": {
            "text/plain": [
              "  0%|          | 0/10 [00:00<?, ?it/s]"
            ],
            "application/vnd.jupyter.widget-view+json": {
              "version_major": 2,
              "version_minor": 0,
              "model_id": "f09ce951564641689e57033874e96799"
            }
          },
          "metadata": {}
        },
        {
          "output_type": "stream",
          "name": "stderr",
          "text": [
            "/usr/local/lib/python3.12/dist-packages/torch/utils/data/dataloader.py:666: UserWarning: 'pin_memory' argument is set as true but no accelerator is found, then device pinned memory won't be used.\n",
            "  warnings.warn(warn_msg)\n"
          ]
        },
        {
          "output_type": "stream",
          "name": "stdout",
          "text": [
            "Epoch: 1 | train_loss: 1.4372 | train_acc: 0.8017 | test_loss: 1.3538 | test_acc: 0.8828\n",
            "Epoch: 2 | train_loss: 1.1350 | train_acc: 0.9429 | test_loss: 1.1539 | test_acc: 0.9219\n",
            "Epoch: 3 | train_loss: 0.9307 | train_acc: 0.9407 | test_loss: 0.9976 | test_acc: 0.9219\n",
            "Epoch: 4 | train_loss: 0.7558 | train_acc: 0.9655 | test_loss: 0.8772 | test_acc: 0.9141\n",
            "Epoch: 5 | train_loss: 0.6409 | train_acc: 0.9494 | test_loss: 0.7842 | test_acc: 0.9219\n",
            "Epoch: 6 | train_loss: 0.5453 | train_acc: 0.9688 | test_loss: 0.7102 | test_acc: 0.9219\n",
            "Epoch: 7 | train_loss: 0.4738 | train_acc: 0.9612 | test_loss: 0.6464 | test_acc: 0.9219\n",
            "Epoch: 8 | train_loss: 0.4206 | train_acc: 0.9709 | test_loss: 0.5953 | test_acc: 0.9375\n",
            "Epoch: 9 | train_loss: 0.3781 | train_acc: 0.9698 | test_loss: 0.5549 | test_acc: 0.9375\n",
            "Epoch: 10 | train_loss: 0.3347 | train_acc: 0.9741 | test_loss: 0.5185 | test_acc: 0.9375\n"
          ]
        }
      ],
      "source": [
        "torch.manual_seed(42)\n",
        "torch.cuda.manual_seed(42)\n",
        "\n",
        "results = engine.train(model=model,\n",
        "                       train_dataloader=train_dataloader,\n",
        "                       test_dataloader=test_dataloader,\n",
        "                       optimizer=optimizer,\n",
        "                       loss_fn=loss_fn,\n",
        "                       epochs=10,\n",
        "                       device=device)\n"
      ]
    },
    {
      "cell_type": "code",
      "execution_count": null,
      "metadata": {
        "id": "f1P49YYRMb6p"
      },
      "outputs": [],
      "source": [
        "# Import tqdm for progress bar\n",
        "from tqdm.auto import tqdm\n",
        "\n",
        "# 1. Make predictions with trained model\n",
        "y_preds = []\n",
        "model.eval()\n",
        "with torch.inference_mode():\n",
        "  for X, y in tqdm(test_dataloader, desc=\"Making predictions\"):\n",
        "    # Send data and targets to target device\n",
        "    X, y = X.to(device), y.to(device)\n",
        "    # Do the forward pass\n",
        "    y_logit = model(X)\n",
        "    # Turn predictions from logits -> prediction probabilities -> predictions labels\n",
        "    y_pred = torch.softmax(y_logit, dim=1).argmax(dim=1) # note: perform softmax on the \"logits\" dimension, not \"batch\" dimension (in this case we have a batch size of 32, so can perform on dim=1)\n",
        "    # Put predictions on CPU for evaluation\n",
        "    y_preds.extend(y_pred.cpu().tolist())\n",
        "# Concatenate list of predictions into a tensor\n",
        "y_pred_tensor = torch.tensor(y_preds, device = device)"
      ]
    },
    {
      "cell_type": "code",
      "execution_count": null,
      "metadata": {
        "id": "4xxW0jNAMb6p"
      },
      "outputs": [],
      "source": [
        "# See if torchmetrics exists, if not, install it\n",
        "try:\n",
        "    import torchmetrics, mlxtend\n",
        "    print(f\"mlxtend version: {mlxtend.__version__}\")\n",
        "    assert int(mlxtend.__version__.split(\".\")[1]) >= 19, \"mlxtend verison should be 0.19.0 or higher\"\n",
        "except:\n",
        "    !pip install -q torchmetrics -U mlxtend # <- Note: If you're using Google Colab, this may require restarting the runtime\n",
        "    import torchmetrics, mlxtend\n",
        "    print(f\"mlxtend version: {mlxtend.__version__}\")"
      ]
    },
    {
      "cell_type": "code",
      "execution_count": null,
      "metadata": {
        "id": "e9OXUrUFMb6p"
      },
      "outputs": [],
      "source": [
        "# Import mlxtend upgraded version\n",
        "import mlxtend\n",
        "print(mlxtend.__version__)\n",
        "assert int(mlxtend.__version__.split(\".\")[1]) >= 19 # should be version 0.19.0 or higher"
      ]
    },
    {
      "cell_type": "code",
      "execution_count": null,
      "metadata": {
        "id": "WsMdy666Mb6p"
      },
      "outputs": [],
      "source": [
        "from torchvision import datasets\n",
        "test_data = datasets.ImageFolder(root=test_dir,\n",
        "                                 transform=auto_transforms)"
      ]
    },
    {
      "cell_type": "code",
      "execution_count": null,
      "metadata": {
        "id": "eX7O71g4Mb6q"
      },
      "outputs": [],
      "source": [
        "class_names = test_data.classes\n",
        "class_names"
      ]
    },
    {
      "cell_type": "code",
      "execution_count": null,
      "metadata": {
        "id": "DCInFTZXMb6q"
      },
      "outputs": [],
      "source": [
        "from torchmetrics import ConfusionMatrix\n",
        "from mlxtend.plotting import plot_confusion_matrix\n",
        "\n",
        "\n",
        "# 2. Setup confusion matrix instance and compare predictions to targets\n",
        "confmat = ConfusionMatrix(num_classes=len(class_names), task='multiclass')\n",
        "confmat_tensor = confmat(preds=y_pred_tensor.to(confmat.device),\n",
        "                         target=torch.tensor(test_data.targets).to(confmat.device))\n",
        "\n",
        "confmat_normalized = confmat_tensor / confmat_tensor.sum(axis=1, keepdims=True) * 100\n",
        "# 3. Plot the confusion matrix\n",
        "fig, ax = plot_confusion_matrix(\n",
        "    conf_mat=confmat_normalized.numpy(), # matplotlib likes working with NumPy\n",
        "    class_names=class_names, # turn the row and column labels into class names\n",
        "    figsize=(10, 7),\n",
        ");"
      ]
    },
    {
      "cell_type": "code",
      "execution_count": null,
      "metadata": {
        "id": "tamcog_fMb6q"
      },
      "outputs": [],
      "source": [
        "# Get the plot_loss_curves() function from helper_functions.py, download the file if we don't have it\n",
        "try:\n",
        "    from helper_functions import plot_loss_curves\n",
        "except:\n",
        "    print(\"[INFO] Couldn't find helper_functions.py, downloading...\")\n",
        "    with open(\"helper_functions.py\", \"wb\") as f:\n",
        "        import requests\n",
        "        request = requests.get(\"https://raw.githubusercontent.com/mrdbourke/pytorch-deep-learning/main/helper_functions.py\")\n",
        "        f.write(request.content)\n",
        "    from helper_functions import plot_loss_curves\n",
        "\n",
        "# Plot the loss curves of our model\n",
        "plot_loss_curves(results)"
      ]
    },
    {
      "cell_type": "code",
      "execution_count": null,
      "metadata": {
        "id": "MsfUyvRSMb6q"
      },
      "outputs": [],
      "source": [
        "from sklearn.metrics import classification_report\n",
        "print(classification_report(torch.tensor(test_data.targets).cpu(), torch.tensor(y_preds).cpu(), target_names=class_names, digits=5))"
      ]
    },
    {
      "cell_type": "code",
      "execution_count": null,
      "metadata": {
        "colab": {
          "base_uri": "https://localhost:8080/",
          "height": 607
        },
        "id": "oHN5_Ll66z6l",
        "outputId": "a8b8c238-f349-4d68-f4b6-39487ef790d8"
      },
      "outputs": [
        {
          "data": {
            "image/png": "[encoded data removed]",
            "text/plain": [
              "<Figure size 1000x600 with 1 Axes>"
            ]
          },
          "metadata": {},
          "output_type": "display_data"
        }
      ],
      "source": [
        "import matplotlib.pyplot as plt\n",
        "import numpy as np\n",
        "\n",
        "# Class names and sample counts\n",
        "classes = ['Apple', 'Potato', 'Banana', 'Onion','Bean']\n",
        "train_samples = [180, 180, 180, 180, 180]\n",
        "test_samples = [20, 20, 20, 20, 20]\n",
        "total_samples = [t + v for t, v in zip(train_samples, test_samples)]\n",
        "\n",
        "# Bar width and positions\n",
        "x = np.arange(len(classes))  # Label locations\n",
        "bar_width = 0.25\n",
        "\n",
        "# Plotting\n",
        "plt.figure(figsize=(10, 6))\n",
        "plt.bar(x - bar_width, train_samples, width=bar_width, label='Train', color='skyblue')\n",
        "plt.bar(x, test_samples, width=bar_width, label='Test', color='orange')\n",
        "plt.bar(x + bar_width, total_samples, width=bar_width, label='Total', color='seagreen')\n",
        "\n",
        "# Labels and formatting\n",
        "plt.xlabel('Classes')\n",
        "plt.ylabel('Number of Samples')\n",
        "plt.title('Train, Test, and Total Samples per Class')\n",
        "plt.xticks(x, classes)\n",
        "plt.legend()\n",
        "plt.grid(axis='y', linestyle='--', alpha=0.7)\n",
        "plt.tight_layout()\n",
        "plt.show()\n"
      ]
    }
  ]
}